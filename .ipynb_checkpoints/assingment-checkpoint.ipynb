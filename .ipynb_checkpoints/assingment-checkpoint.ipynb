{
 "cells": [
  {
   "cell_type": "markdown",
   "metadata": {},
   "source": [
    "# Heart Failure Prediction and Classification using Machine Learning Techniques"
   ]
  },
  {
   "cell_type": "code",
   "execution_count": 1,
   "metadata": {},
   "outputs": [],
   "source": [
    "# import 'Pandas' \n",
    "import pandas as pd \n",
    "\n",
    "# import 'Numpy' \n",
    "import numpy as np\n",
    "\n",
    "# import subpackage of Matplotlib\n",
    "import matplotlib.pyplot as plt\n",
    "from matplotlib.colors import ListedColormap\n",
    "\n",
    "# import 'Seaborn' \n",
    "import seaborn as sns\n",
    "\n",
    "# to suppress warnings\n",
    "from warnings import filterwarnings\n",
    "filterwarnings('ignore')\n",
    "\n",
    "# display all columns of the dataframe\n",
    "pd.options.display.max_columns = None\n",
    "\n",
    "# display all rows of the dataframe\n",
    "pd.options.display.max_rows = None\n",
    " \n",
    "# to display the float values upto 6 decimal places     \n",
    "pd.options.display.float_format = '{:.6f}'.format\n",
    "\n",
    "# import train-test split \n",
    "from sklearn.model_selection import train_test_split\n",
    "\n",
    "# import StandardScaler to perform scaling\n",
    "from sklearn.preprocessing import StandardScaler\n",
    "from sklearn.preprocessing import MinMaxScaler\n",
    "\n",
    "# import various functions from sklearn \n",
    "from sklearn.neighbors import KNeighborsClassifier\n",
    "from sklearn import metrics\n",
    "from sklearn.metrics import classification_report\n",
    "from sklearn.model_selection import GridSearchCV\n",
    "from sklearn.metrics import accuracy_score\n",
    "from sklearn.metrics import roc_curve\n",
    "from sklearn.metrics import roc_auc_score\n",
    "from sklearn.metrics import confusion_matrix\n",
    "from sklearn.model_selection import GridSearchCV\n",
    "from sklearn.model_selection import cross_val_score\n",
    "from sklearn.linear_model import LogisticRegression\n",
    "from sklearn.naive_bayes import GaussianNB\n",
    "from sklearn.tree import DecisionTreeClassifier\n",
    "from sklearn.ensemble import RandomForestClassifier\n",
    "from sklearn import tree\n",
    "from sklearn.feature_selection import RFE\n",
    "\n",
    "from mlxtend.feature_selection import SequentialFeatureSelector as sfs\n",
    "\n",
    "# for performance metric\n",
    "from sklearn.metrics import precision_score\n",
    "from sklearn.metrics import recall_score\n",
    "from sklearn.metrics import f1_score\n",
    "\n",
    "# import the functions for visualizing the decision tree\n",
    "import pydotplus\n",
    "from IPython.display import Image"
   ]
  },
  {
   "cell_type": "code",
   "execution_count": 2,
   "metadata": {},
   "outputs": [],
   "source": [
    "plt.rcParams['figure.figsize'] = [15,8]"
   ]
  },
  {
   "cell_type": "code",
   "execution_count": 4,
   "metadata": {},
   "outputs": [
    {
     "data": {
      "text/plain": [
       "(11760, 17)"
      ]
     },
     "execution_count": 4,
     "metadata": {},
     "output_type": "execute_result"
    }
   ],
   "source": [
    "df_heart = pd.read_csv(\"Social Media Data for DSBA (1).csv\")\n",
    "df_heart.shape"
   ]
  },
  {
   "cell_type": "code",
   "execution_count": 5,
   "metadata": {
    "scrolled": true
   },
   "outputs": [
    {
     "data": {
      "text/plain": [
       "Index(['UserID', 'Taken_product', 'Yearly_avg_view_on_travel_page',\n",
       "       'preferred_device', 'total_likes_on_outstation_checkin_given',\n",
       "       'yearly_avg_Outstation_checkins', 'member_in_family',\n",
       "       'preferred_location_type', 'Yearly_avg_comment_on_travel_page',\n",
       "       'total_likes_on_outofstation_checkin_received',\n",
       "       'week_since_last_outstation_checkin', 'following_company_page',\n",
       "       'montly_avg_comment_on_company_page', 'working_flag',\n",
       "       'travelling_network_rating', 'Adult_flag',\n",
       "       'Daily_Avg_mins_spend_on_traveling_page'],\n",
       "      dtype='object')"
      ]
     },
     "execution_count": 5,
     "metadata": {},
     "output_type": "execute_result"
    }
   ],
   "source": [
    "df_heart.columns"
   ]
  },
  {
   "cell_type": "code",
   "execution_count": 8,
   "metadata": {},
   "outputs": [],
   "source": [
    "df_heart.drop([\"UserID\"],axis=1,inplace=True)"
   ]
  },
  {
   "cell_type": "code",
   "execution_count": 9,
   "metadata": {
    "scrolled": true
   },
   "outputs": [
    {
     "data": {
      "text/html": [
       "<div>\n",
       "<style scoped>\n",
       "    .dataframe tbody tr th:only-of-type {\n",
       "        vertical-align: middle;\n",
       "    }\n",
       "\n",
       "    .dataframe tbody tr th {\n",
       "        vertical-align: top;\n",
       "    }\n",
       "\n",
       "    .dataframe thead th {\n",
       "        text-align: right;\n",
       "    }\n",
       "</style>\n",
       "<table border=\"1\" class=\"dataframe\">\n",
       "  <thead>\n",
       "    <tr style=\"text-align: right;\">\n",
       "      <th></th>\n",
       "      <th>Taken_product</th>\n",
       "      <th>Yearly_avg_view_on_travel_page</th>\n",
       "      <th>preferred_device</th>\n",
       "      <th>total_likes_on_outstation_checkin_given</th>\n",
       "      <th>yearly_avg_Outstation_checkins</th>\n",
       "      <th>member_in_family</th>\n",
       "      <th>preferred_location_type</th>\n",
       "      <th>Yearly_avg_comment_on_travel_page</th>\n",
       "      <th>total_likes_on_outofstation_checkin_received</th>\n",
       "      <th>week_since_last_outstation_checkin</th>\n",
       "      <th>following_company_page</th>\n",
       "      <th>montly_avg_comment_on_company_page</th>\n",
       "      <th>working_flag</th>\n",
       "      <th>travelling_network_rating</th>\n",
       "      <th>Adult_flag</th>\n",
       "      <th>Daily_Avg_mins_spend_on_traveling_page</th>\n",
       "    </tr>\n",
       "  </thead>\n",
       "  <tbody>\n",
       "    <tr>\n",
       "      <th>0</th>\n",
       "      <td>Yes</td>\n",
       "      <td>307.000000</td>\n",
       "      <td>iOS and Android</td>\n",
       "      <td>38570.000000</td>\n",
       "      <td>1</td>\n",
       "      <td>2</td>\n",
       "      <td>Financial</td>\n",
       "      <td>94.000000</td>\n",
       "      <td>5993</td>\n",
       "      <td>8</td>\n",
       "      <td>Yes</td>\n",
       "      <td>11</td>\n",
       "      <td>No</td>\n",
       "      <td>1</td>\n",
       "      <td>0</td>\n",
       "      <td>8</td>\n",
       "    </tr>\n",
       "    <tr>\n",
       "      <th>1</th>\n",
       "      <td>No</td>\n",
       "      <td>367.000000</td>\n",
       "      <td>iOS</td>\n",
       "      <td>9765.000000</td>\n",
       "      <td>1</td>\n",
       "      <td>1</td>\n",
       "      <td>Financial</td>\n",
       "      <td>61.000000</td>\n",
       "      <td>5130</td>\n",
       "      <td>1</td>\n",
       "      <td>No</td>\n",
       "      <td>23</td>\n",
       "      <td>Yes</td>\n",
       "      <td>4</td>\n",
       "      <td>1</td>\n",
       "      <td>10</td>\n",
       "    </tr>\n",
       "    <tr>\n",
       "      <th>2</th>\n",
       "      <td>Yes</td>\n",
       "      <td>277.000000</td>\n",
       "      <td>iOS and Android</td>\n",
       "      <td>48055.000000</td>\n",
       "      <td>1</td>\n",
       "      <td>2</td>\n",
       "      <td>Other</td>\n",
       "      <td>92.000000</td>\n",
       "      <td>2090</td>\n",
       "      <td>6</td>\n",
       "      <td>Yes</td>\n",
       "      <td>15</td>\n",
       "      <td>No</td>\n",
       "      <td>2</td>\n",
       "      <td>0</td>\n",
       "      <td>7</td>\n",
       "    </tr>\n",
       "    <tr>\n",
       "      <th>3</th>\n",
       "      <td>No</td>\n",
       "      <td>247.000000</td>\n",
       "      <td>iOS</td>\n",
       "      <td>48720.000000</td>\n",
       "      <td>1</td>\n",
       "      <td>4</td>\n",
       "      <td>Financial</td>\n",
       "      <td>56.000000</td>\n",
       "      <td>2909</td>\n",
       "      <td>1</td>\n",
       "      <td>Yes</td>\n",
       "      <td>11</td>\n",
       "      <td>No</td>\n",
       "      <td>3</td>\n",
       "      <td>0</td>\n",
       "      <td>8</td>\n",
       "    </tr>\n",
       "    <tr>\n",
       "      <th>4</th>\n",
       "      <td>No</td>\n",
       "      <td>202.000000</td>\n",
       "      <td>iOS and Android</td>\n",
       "      <td>20685.000000</td>\n",
       "      <td>1</td>\n",
       "      <td>1</td>\n",
       "      <td>Medical</td>\n",
       "      <td>40.000000</td>\n",
       "      <td>3468</td>\n",
       "      <td>9</td>\n",
       "      <td>No</td>\n",
       "      <td>12</td>\n",
       "      <td>No</td>\n",
       "      <td>4</td>\n",
       "      <td>1</td>\n",
       "      <td>6</td>\n",
       "    </tr>\n",
       "  </tbody>\n",
       "</table>\n",
       "</div>"
      ],
      "text/plain": [
       "  Taken_product  Yearly_avg_view_on_travel_page preferred_device  \\\n",
       "0           Yes                      307.000000  iOS and Android   \n",
       "1            No                      367.000000              iOS   \n",
       "2           Yes                      277.000000  iOS and Android   \n",
       "3            No                      247.000000              iOS   \n",
       "4            No                      202.000000  iOS and Android   \n",
       "\n",
       "   total_likes_on_outstation_checkin_given yearly_avg_Outstation_checkins  \\\n",
       "0                             38570.000000                              1   \n",
       "1                              9765.000000                              1   \n",
       "2                             48055.000000                              1   \n",
       "3                             48720.000000                              1   \n",
       "4                             20685.000000                              1   \n",
       "\n",
       "  member_in_family preferred_location_type  Yearly_avg_comment_on_travel_page  \\\n",
       "0                2               Financial                          94.000000   \n",
       "1                1               Financial                          61.000000   \n",
       "2                2                   Other                          92.000000   \n",
       "3                4               Financial                          56.000000   \n",
       "4                1                 Medical                          40.000000   \n",
       "\n",
       "   total_likes_on_outofstation_checkin_received  \\\n",
       "0                                          5993   \n",
       "1                                          5130   \n",
       "2                                          2090   \n",
       "3                                          2909   \n",
       "4                                          3468   \n",
       "\n",
       "   week_since_last_outstation_checkin following_company_page  \\\n",
       "0                                   8                    Yes   \n",
       "1                                   1                     No   \n",
       "2                                   6                    Yes   \n",
       "3                                   1                    Yes   \n",
       "4                                   9                     No   \n",
       "\n",
       "   montly_avg_comment_on_company_page working_flag  travelling_network_rating  \\\n",
       "0                                  11           No                          1   \n",
       "1                                  23          Yes                          4   \n",
       "2                                  15           No                          2   \n",
       "3                                  11           No                          3   \n",
       "4                                  12           No                          4   \n",
       "\n",
       "   Adult_flag  Daily_Avg_mins_spend_on_traveling_page  \n",
       "0           0                                       8  \n",
       "1           1                                      10  \n",
       "2           0                                       7  \n",
       "3           0                                       8  \n",
       "4           1                                       6  "
      ]
     },
     "execution_count": 9,
     "metadata": {},
     "output_type": "execute_result"
    }
   ],
   "source": [
    "df_heart.head()"
   ]
  },
  {
   "cell_type": "code",
   "execution_count": null,
   "metadata": {},
   "outputs": [],
   "source": [
    "# Building model for only mobile device and dropping that column after filetring that\n",
    "df_heart[df]"
   ]
  },
  {
   "cell_type": "code",
   "execution_count": 7,
   "metadata": {},
   "outputs": [
    {
     "data": {
      "text/plain": [
       "age                         float64\n",
       "anaemia                       int64\n",
       "creatinine_phosphokinase      int64\n",
       "diabetes                      int64\n",
       "ejection_fraction             int64\n",
       "high_blood_pressure           int64\n",
       "platelets                   float64\n",
       "serum_creatinine            float64\n",
       "serum_sodium                  int64\n",
       "sex                           int64\n",
       "smoking                       int64\n",
       "time                          int64\n",
       "DEATH_EVENT                   int64\n",
       "dtype: object"
      ]
     },
     "execution_count": 7,
     "metadata": {},
     "output_type": "execute_result"
    }
   ],
   "source": [
    "df_heart.dtypes"
   ]
  },
  {
   "cell_type": "code",
   "execution_count": 8,
   "metadata": {},
   "outputs": [
    {
     "data": {
      "text/plain": [
       "age                          47\n",
       "anaemia                       2\n",
       "creatinine_phosphokinase    208\n",
       "diabetes                      2\n",
       "ejection_fraction            17\n",
       "high_blood_pressure           2\n",
       "platelets                   176\n",
       "serum_creatinine             40\n",
       "serum_sodium                 27\n",
       "sex                           2\n",
       "smoking                       2\n",
       "time                        148\n",
       "DEATH_EVENT                   2\n",
       "dtype: int64"
      ]
     },
     "execution_count": 8,
     "metadata": {},
     "output_type": "execute_result"
    }
   ],
   "source": [
    "df_heart.apply(lambda x:len(x.unique()))"
   ]
  },
  {
   "cell_type": "markdown",
   "metadata": {},
   "source": [
    "age  40-95\n",
    "creatinine_phosphokinase 23-7861\n",
    "ejection_fraction 14-80 \n",
    "platelets 25100-850000\n",
    "serum_creatinine 0.5-9.4\n",
    "serum_sodium 113-148\n",
    "time 4-285"
   ]
  },
  {
   "cell_type": "code",
   "execution_count": 132,
   "metadata": {},
   "outputs": [
    {
     "data": {
      "text/plain": [
       "'anaemia\\ndiabetes\\nhigh_blood_pressure\\nsex\\nsmoking'"
      ]
     },
     "execution_count": 132,
     "metadata": {},
     "output_type": "execute_result"
    }
   ],
   "source": [
    "'''anaemia\n",
    "diabetes\n",
    "high_blood_pressure\n",
    "sex\n",
    "smoking'''\n"
   ]
  },
  {
   "cell_type": "code",
   "execution_count": 133,
   "metadata": {},
   "outputs": [
    {
     "data": {
      "text/plain": [
       "0    170\n",
       "1    129\n",
       "Name: anaemia, dtype: int64"
      ]
     },
     "execution_count": 133,
     "metadata": {},
     "output_type": "execute_result"
    }
   ],
   "source": [
    "df_heart['anaemia'].value_counts()"
   ]
  },
  {
   "cell_type": "code",
   "execution_count": 134,
   "metadata": {},
   "outputs": [
    {
     "data": {
      "text/plain": [
       "0    174\n",
       "1    125\n",
       "Name: diabetes, dtype: int64"
      ]
     },
     "execution_count": 134,
     "metadata": {},
     "output_type": "execute_result"
    }
   ],
   "source": [
    "df_heart['diabetes'].value_counts()"
   ]
  },
  {
   "cell_type": "code",
   "execution_count": 135,
   "metadata": {},
   "outputs": [
    {
     "data": {
      "text/plain": [
       "0    194\n",
       "1    105\n",
       "Name: high_blood_pressure, dtype: int64"
      ]
     },
     "execution_count": 135,
     "metadata": {},
     "output_type": "execute_result"
    }
   ],
   "source": [
    "df_heart['high_blood_pressure'].value_counts()"
   ]
  },
  {
   "cell_type": "code",
   "execution_count": 136,
   "metadata": {},
   "outputs": [
    {
     "data": {
      "text/plain": [
       "1    194\n",
       "0    105\n",
       "Name: sex, dtype: int64"
      ]
     },
     "execution_count": 136,
     "metadata": {},
     "output_type": "execute_result"
    }
   ],
   "source": [
    "df_heart['sex'].value_counts()"
   ]
  },
  {
   "cell_type": "code",
   "execution_count": 137,
   "metadata": {},
   "outputs": [
    {
     "data": {
      "text/plain": [
       "0    203\n",
       "1     96\n",
       "Name: smoking, dtype: int64"
      ]
     },
     "execution_count": 137,
     "metadata": {},
     "output_type": "execute_result"
    }
   ],
   "source": [
    "df_heart['smoking'].value_counts()"
   ]
  },
  {
   "cell_type": "code",
   "execution_count": 8,
   "metadata": {},
   "outputs": [
    {
     "data": {
      "text/html": [
       "<div>\n",
       "<style scoped>\n",
       "    .dataframe tbody tr th:only-of-type {\n",
       "        vertical-align: middle;\n",
       "    }\n",
       "\n",
       "    .dataframe tbody tr th {\n",
       "        vertical-align: top;\n",
       "    }\n",
       "\n",
       "    .dataframe thead th {\n",
       "        text-align: right;\n",
       "    }\n",
       "</style>\n",
       "<table border=\"1\" class=\"dataframe\">\n",
       "  <thead>\n",
       "    <tr style=\"text-align: right;\">\n",
       "      <th></th>\n",
       "      <th>age</th>\n",
       "      <th>creatinine_phosphokinase</th>\n",
       "      <th>ejection_fraction</th>\n",
       "      <th>platelets</th>\n",
       "      <th>serum_creatinine</th>\n",
       "      <th>serum_sodium</th>\n",
       "      <th>time</th>\n",
       "    </tr>\n",
       "  </thead>\n",
       "  <tbody>\n",
       "    <tr>\n",
       "      <th>min</th>\n",
       "      <td>40.000000</td>\n",
       "      <td>23.000000</td>\n",
       "      <td>14.000000</td>\n",
       "      <td>25100.000000</td>\n",
       "      <td>0.500000</td>\n",
       "      <td>113.000000</td>\n",
       "      <td>4.000000</td>\n",
       "    </tr>\n",
       "    <tr>\n",
       "      <th>max</th>\n",
       "      <td>95.000000</td>\n",
       "      <td>7861.000000</td>\n",
       "      <td>80.000000</td>\n",
       "      <td>850000.000000</td>\n",
       "      <td>9.400000</td>\n",
       "      <td>148.000000</td>\n",
       "      <td>285.000000</td>\n",
       "    </tr>\n",
       "  </tbody>\n",
       "</table>\n",
       "</div>"
      ],
      "text/plain": [
       "          age  creatinine_phosphokinase  ejection_fraction     platelets  \\\n",
       "min 40.000000                 23.000000          14.000000  25100.000000   \n",
       "max 95.000000               7861.000000          80.000000 850000.000000   \n",
       "\n",
       "     serum_creatinine  serum_sodium       time  \n",
       "min          0.500000    113.000000   4.000000  \n",
       "max          9.400000    148.000000 285.000000  "
      ]
     },
     "execution_count": 8,
     "metadata": {},
     "output_type": "execute_result"
    }
   ],
   "source": [
    "df_heart.loc[:,['age','creatinine_phosphokinase','ejection_fraction','platelets','serum_creatinine','serum_sodium','time']].describe().iloc[[3,7],:]\n",
    "\n",
    "\n"
   ]
  },
  {
   "cell_type": "code",
   "execution_count": null,
   "metadata": {},
   "outputs": [],
   "source": [
    "from pandas_profiling import ProfileReport"
   ]
  },
  {
   "cell_type": "code",
   "execution_count": null,
   "metadata": {},
   "outputs": [],
   "source": [
    "profile = ProfileReport(df_heart, title=\"Pandas Profiling Report\")"
   ]
  },
  {
   "cell_type": "code",
   "execution_count": null,
   "metadata": {},
   "outputs": [],
   "source": [
    "profile"
   ]
  },
  {
   "cell_type": "code",
   "execution_count": null,
   "metadata": {},
   "outputs": [],
   "source": [
    "df_heart.plot(kind=\"box\")"
   ]
  },
  {
   "cell_type": "code",
   "execution_count": null,
   "metadata": {},
   "outputs": [],
   "source": [
    "target_dis = df_heart.DEATH_EVENT.value_counts()\n",
    "target_dis"
   ]
  },
  {
   "cell_type": "code",
   "execution_count": null,
   "metadata": {},
   "outputs": [],
   "source": [
    "target_perc = pd.Series((round(target_dis[0]/sum(target_dis),2), round(target_dis[1]/sum(target_dis),2)))\n",
    "target_perc"
   ]
  },
  {
   "cell_type": "markdown",
   "metadata": {},
   "source": [
    "## Functions"
   ]
  },
  {
   "cell_type": "code",
   "execution_count": 9,
   "metadata": {},
   "outputs": [],
   "source": [
    "def get_test_report(model, x_test, y_test):\n",
    "    test_pred = model.predict(x_test)\n",
    "    return(classification_report(y_test, test_pred))"
   ]
  },
  {
   "cell_type": "code",
   "execution_count": 10,
   "metadata": {},
   "outputs": [],
   "source": [
    "def plot_confusion_matrix(model, x_test, y_test):\n",
    "    y_pred = model.predict(x_test)\n",
    "    cm = confusion_matrix(y_test, y_pred)\n",
    "    conf_matrix = pd.DataFrame(data = cm,columns = ['Predicted:0','Predicted:1'], index = ['Actual:0','Actual:1'])\n",
    "    sns.heatmap(conf_matrix, annot = True, fmt = 'd', cmap = ListedColormap(['lightskyblue']), cbar = False, \n",
    "                linewidths = 0.1, annot_kws = {'size':25})\n",
    "    plt.xticks(fontsize = 20)\n",
    "    plt.yticks(fontsize = 20)\n",
    "    plt.show()"
   ]
  },
  {
   "cell_type": "code",
   "execution_count": 11,
   "metadata": {},
   "outputs": [],
   "source": [
    "def plot_roc(model, x_test, y_test):\n",
    "    y_pred_prob = model.predict_proba(x_test)[:,1]\n",
    "    fpr, tpr, thresholds = roc_curve(y_test, y_pred_prob)\n",
    "    plt.plot(fpr, tpr)\n",
    "    plt.xlim([0.0, 1.0])\n",
    "    plt.ylim([0.0, 1.0])\n",
    "    plt.plot([0, 1], [0, 1],'r--')\n",
    "    plt.title('ROC curve', fontsize = 15)\n",
    "    plt.xlabel('False positive rate (1-Specificity)', fontsize = 15)\n",
    "    plt.ylabel('True positive rate (Sensitivity)', fontsize = 15)\n",
    "    plt.text(x = 0.02, y = 0.9, s = ('AUC Score:',round(roc_auc_score(y_test, y_pred_prob),4)))\n",
    "    plt.grid(True)"
   ]
  },
  {
   "cell_type": "code",
   "execution_count": 12,
   "metadata": {},
   "outputs": [],
   "source": [
    "def calculate_auc_score(model, x_test, y_test):\n",
    "    y_pred_prob = model.predict_proba(x_test)[:,1]\n",
    "    return round(roc_auc_score(y_test, y_pred_prob),4)"
   ]
  },
  {
   "cell_type": "code",
   "execution_count": 13,
   "metadata": {},
   "outputs": [],
   "source": [
    "models_summary = pd.DataFrame(columns=['Model_name', 'AUC_score', 'Accuracy', 'Precision', 'Recall', 'F1_score'])"
   ]
  },
  {
   "cell_type": "code",
   "execution_count": 14,
   "metadata": {},
   "outputs": [],
   "source": [
    "def update_model_summary(model, x_test, y_test, model_name):\n",
    "    y_predict = model.predict(x_test)\n",
    "    return models_summary.append(pd.Series(\n",
    "        {\n",
    "            \"Model_name\": model_name,\n",
    "            \"AUC_score\": calculate_auc_score(model, x_test, y_test),\n",
    "            \"Accuracy\": model.score(x_test, y_test),\n",
    "            \"Precision\": precision_score(y_test, y_predict),\n",
    "            \"Recall\": recall_score(y_test, y_predict),\n",
    "            \"F1_score\": f1_score(y_test, y_predict)\n",
    "        }\n",
    "    ), ignore_index=True)"
   ]
  },
  {
   "cell_type": "markdown",
   "metadata": {},
   "source": [
    "## Spilt"
   ]
  },
  {
   "cell_type": "code",
   "execution_count": 15,
   "metadata": {},
   "outputs": [
    {
     "data": {
      "text/html": [
       "<div>\n",
       "<style scoped>\n",
       "    .dataframe tbody tr th:only-of-type {\n",
       "        vertical-align: middle;\n",
       "    }\n",
       "\n",
       "    .dataframe tbody tr th {\n",
       "        vertical-align: top;\n",
       "    }\n",
       "\n",
       "    .dataframe thead th {\n",
       "        text-align: right;\n",
       "    }\n",
       "</style>\n",
       "<table border=\"1\" class=\"dataframe\">\n",
       "  <thead>\n",
       "    <tr style=\"text-align: right;\">\n",
       "      <th></th>\n",
       "      <th>age</th>\n",
       "      <th>anaemia</th>\n",
       "      <th>creatinine_phosphokinase</th>\n",
       "      <th>diabetes</th>\n",
       "      <th>ejection_fraction</th>\n",
       "      <th>high_blood_pressure</th>\n",
       "      <th>platelets</th>\n",
       "      <th>serum_creatinine</th>\n",
       "      <th>serum_sodium</th>\n",
       "      <th>sex</th>\n",
       "      <th>smoking</th>\n",
       "      <th>time</th>\n",
       "    </tr>\n",
       "  </thead>\n",
       "  <tbody>\n",
       "    <tr>\n",
       "      <th>0</th>\n",
       "      <td>75.000000</td>\n",
       "      <td>0</td>\n",
       "      <td>582</td>\n",
       "      <td>0</td>\n",
       "      <td>20</td>\n",
       "      <td>1</td>\n",
       "      <td>265000.000000</td>\n",
       "      <td>1.900000</td>\n",
       "      <td>130</td>\n",
       "      <td>1</td>\n",
       "      <td>0</td>\n",
       "      <td>4</td>\n",
       "    </tr>\n",
       "    <tr>\n",
       "      <th>1</th>\n",
       "      <td>55.000000</td>\n",
       "      <td>0</td>\n",
       "      <td>7861</td>\n",
       "      <td>0</td>\n",
       "      <td>38</td>\n",
       "      <td>0</td>\n",
       "      <td>263358.030000</td>\n",
       "      <td>1.100000</td>\n",
       "      <td>136</td>\n",
       "      <td>1</td>\n",
       "      <td>0</td>\n",
       "      <td>6</td>\n",
       "    </tr>\n",
       "    <tr>\n",
       "      <th>2</th>\n",
       "      <td>65.000000</td>\n",
       "      <td>0</td>\n",
       "      <td>146</td>\n",
       "      <td>0</td>\n",
       "      <td>20</td>\n",
       "      <td>0</td>\n",
       "      <td>162000.000000</td>\n",
       "      <td>1.300000</td>\n",
       "      <td>129</td>\n",
       "      <td>1</td>\n",
       "      <td>1</td>\n",
       "      <td>7</td>\n",
       "    </tr>\n",
       "    <tr>\n",
       "      <th>3</th>\n",
       "      <td>50.000000</td>\n",
       "      <td>1</td>\n",
       "      <td>111</td>\n",
       "      <td>0</td>\n",
       "      <td>20</td>\n",
       "      <td>0</td>\n",
       "      <td>210000.000000</td>\n",
       "      <td>1.900000</td>\n",
       "      <td>137</td>\n",
       "      <td>1</td>\n",
       "      <td>0</td>\n",
       "      <td>7</td>\n",
       "    </tr>\n",
       "    <tr>\n",
       "      <th>4</th>\n",
       "      <td>65.000000</td>\n",
       "      <td>1</td>\n",
       "      <td>160</td>\n",
       "      <td>1</td>\n",
       "      <td>20</td>\n",
       "      <td>0</td>\n",
       "      <td>327000.000000</td>\n",
       "      <td>2.700000</td>\n",
       "      <td>116</td>\n",
       "      <td>0</td>\n",
       "      <td>0</td>\n",
       "      <td>8</td>\n",
       "    </tr>\n",
       "  </tbody>\n",
       "</table>\n",
       "</div>"
      ],
      "text/plain": [
       "        age  anaemia  creatinine_phosphokinase  diabetes  ejection_fraction  \\\n",
       "0 75.000000        0                       582         0                 20   \n",
       "1 55.000000        0                      7861         0                 38   \n",
       "2 65.000000        0                       146         0                 20   \n",
       "3 50.000000        1                       111         0                 20   \n",
       "4 65.000000        1                       160         1                 20   \n",
       "\n",
       "   high_blood_pressure     platelets  serum_creatinine  serum_sodium  sex  \\\n",
       "0                    1 265000.000000          1.900000           130    1   \n",
       "1                    0 263358.030000          1.100000           136    1   \n",
       "2                    0 162000.000000          1.300000           129    1   \n",
       "3                    0 210000.000000          1.900000           137    1   \n",
       "4                    0 327000.000000          2.700000           116    0   \n",
       "\n",
       "   smoking  time  \n",
       "0        0     4  \n",
       "1        0     6  \n",
       "2        1     7  \n",
       "3        0     7  \n",
       "4        0     8  "
      ]
     },
     "execution_count": 15,
     "metadata": {},
     "output_type": "execute_result"
    }
   ],
   "source": [
    "features = df_heart.drop('DEATH_EVENT', axis=1)\n",
    "features.head()"
   ]
  },
  {
   "cell_type": "code",
   "execution_count": 16,
   "metadata": {},
   "outputs": [
    {
     "data": {
      "text/html": [
       "<div>\n",
       "<style scoped>\n",
       "    .dataframe tbody tr th:only-of-type {\n",
       "        vertical-align: middle;\n",
       "    }\n",
       "\n",
       "    .dataframe tbody tr th {\n",
       "        vertical-align: top;\n",
       "    }\n",
       "\n",
       "    .dataframe thead th {\n",
       "        text-align: right;\n",
       "    }\n",
       "</style>\n",
       "<table border=\"1\" class=\"dataframe\">\n",
       "  <thead>\n",
       "    <tr style=\"text-align: right;\">\n",
       "      <th></th>\n",
       "      <th>age</th>\n",
       "      <th>anaemia</th>\n",
       "      <th>creatinine_phosphokinase</th>\n",
       "      <th>diabetes</th>\n",
       "      <th>ejection_fraction</th>\n",
       "      <th>high_blood_pressure</th>\n",
       "      <th>platelets</th>\n",
       "      <th>serum_creatinine</th>\n",
       "      <th>serum_sodium</th>\n",
       "      <th>sex</th>\n",
       "      <th>smoking</th>\n",
       "      <th>time</th>\n",
       "    </tr>\n",
       "  </thead>\n",
       "  <tbody>\n",
       "    <tr>\n",
       "      <th>0</th>\n",
       "      <td>1.192945</td>\n",
       "      <td>-0.871105</td>\n",
       "      <td>0.000166</td>\n",
       "      <td>-0.847579</td>\n",
       "      <td>-1.530560</td>\n",
       "      <td>1.359272</td>\n",
       "      <td>0.016816</td>\n",
       "      <td>0.490057</td>\n",
       "      <td>-1.504036</td>\n",
       "      <td>0.735688</td>\n",
       "      <td>-0.687682</td>\n",
       "      <td>-1.629502</td>\n",
       "    </tr>\n",
       "    <tr>\n",
       "      <th>1</th>\n",
       "      <td>-0.491279</td>\n",
       "      <td>-0.871105</td>\n",
       "      <td>7.514640</td>\n",
       "      <td>-0.847579</td>\n",
       "      <td>-0.007077</td>\n",
       "      <td>-0.735688</td>\n",
       "      <td>0.000000</td>\n",
       "      <td>-0.284552</td>\n",
       "      <td>-0.141976</td>\n",
       "      <td>0.735688</td>\n",
       "      <td>-0.687682</td>\n",
       "      <td>-1.603691</td>\n",
       "    </tr>\n",
       "    <tr>\n",
       "      <th>2</th>\n",
       "      <td>0.350833</td>\n",
       "      <td>-0.871105</td>\n",
       "      <td>-0.449939</td>\n",
       "      <td>-0.847579</td>\n",
       "      <td>-1.530560</td>\n",
       "      <td>-0.735688</td>\n",
       "      <td>-1.038073</td>\n",
       "      <td>-0.090900</td>\n",
       "      <td>-1.731046</td>\n",
       "      <td>0.735688</td>\n",
       "      <td>1.454161</td>\n",
       "      <td>-1.590785</td>\n",
       "    </tr>\n",
       "    <tr>\n",
       "      <th>3</th>\n",
       "      <td>-0.912335</td>\n",
       "      <td>1.147968</td>\n",
       "      <td>-0.486071</td>\n",
       "      <td>-0.847579</td>\n",
       "      <td>-1.530560</td>\n",
       "      <td>-0.735688</td>\n",
       "      <td>-0.546474</td>\n",
       "      <td>0.490057</td>\n",
       "      <td>0.085034</td>\n",
       "      <td>0.735688</td>\n",
       "      <td>-0.687682</td>\n",
       "      <td>-1.590785</td>\n",
       "    </tr>\n",
       "    <tr>\n",
       "      <th>4</th>\n",
       "      <td>0.350833</td>\n",
       "      <td>1.147968</td>\n",
       "      <td>-0.435486</td>\n",
       "      <td>1.179830</td>\n",
       "      <td>-1.530560</td>\n",
       "      <td>-0.735688</td>\n",
       "      <td>0.651799</td>\n",
       "      <td>1.264666</td>\n",
       "      <td>-4.682176</td>\n",
       "      <td>-1.359272</td>\n",
       "      <td>-0.687682</td>\n",
       "      <td>-1.577879</td>\n",
       "    </tr>\n",
       "  </tbody>\n",
       "</table>\n",
       "</div>"
      ],
      "text/plain": [
       "        age   anaemia  creatinine_phosphokinase  diabetes  ejection_fraction  \\\n",
       "0  1.192945 -0.871105                  0.000166 -0.847579          -1.530560   \n",
       "1 -0.491279 -0.871105                  7.514640 -0.847579          -0.007077   \n",
       "2  0.350833 -0.871105                 -0.449939 -0.847579          -1.530560   \n",
       "3 -0.912335  1.147968                 -0.486071 -0.847579          -1.530560   \n",
       "4  0.350833  1.147968                 -0.435486  1.179830          -1.530560   \n",
       "\n",
       "   high_blood_pressure  platelets  serum_creatinine  serum_sodium       sex  \\\n",
       "0             1.359272   0.016816          0.490057     -1.504036  0.735688   \n",
       "1            -0.735688   0.000000         -0.284552     -0.141976  0.735688   \n",
       "2            -0.735688  -1.038073         -0.090900     -1.731046  0.735688   \n",
       "3            -0.735688  -0.546474          0.490057      0.085034  0.735688   \n",
       "4            -0.735688   0.651799          1.264666     -4.682176 -1.359272   \n",
       "\n",
       "    smoking      time  \n",
       "0 -0.687682 -1.629502  \n",
       "1 -0.687682 -1.603691  \n",
       "2  1.454161 -1.590785  \n",
       "3 -0.687682 -1.590785  \n",
       "4 -0.687682 -1.577879  "
      ]
     },
     "execution_count": 16,
     "metadata": {},
     "output_type": "execute_result"
    }
   ],
   "source": [
    "scaler = StandardScaler()\n",
    "X_scaled = scaler.fit_transform(features)\n",
    "X = pd.DataFrame(X_scaled, columns = features.columns)\n",
    "X.head()"
   ]
  },
  {
   "cell_type": "code",
   "execution_count": 148,
   "metadata": {},
   "outputs": [],
   "source": [
    "# scaler = MinMaxScaler()\n",
    "# X_scaler = scaler.fit_transform(features)\n",
    "# X = pd.DataFrame(X_scaled, columns = features.columns)\n",
    "# X.head()"
   ]
  },
  {
   "cell_type": "code",
   "execution_count": 17,
   "metadata": {},
   "outputs": [
    {
     "data": {
      "text/plain": [
       "0    1\n",
       "1    1\n",
       "2    1\n",
       "3    1\n",
       "4    1\n",
       "Name: DEATH_EVENT, dtype: int64"
      ]
     },
     "execution_count": 17,
     "metadata": {},
     "output_type": "execute_result"
    }
   ],
   "source": [
    "target = df_heart.DEATH_EVENT\n",
    "target.head()"
   ]
  },
  {
   "cell_type": "code",
   "execution_count": 18,
   "metadata": {},
   "outputs": [],
   "source": [
    "y = target"
   ]
  },
  {
   "cell_type": "code",
   "execution_count": 19,
   "metadata": {},
   "outputs": [
    {
     "data": {
      "text/plain": [
       "((209, 12), (90, 12), (209,), (90,))"
      ]
     },
     "execution_count": 19,
     "metadata": {},
     "output_type": "execute_result"
    }
   ],
   "source": [
    "X_train, X_test, y_train, y_test = train_test_split(X, y, train_size=0.7, random_state=10)\n",
    "X_train.shape, X_test.shape, y_train.shape, y_test.shape"
   ]
  },
  {
   "cell_type": "markdown",
   "metadata": {},
   "source": [
    "# Models"
   ]
  },
  {
   "cell_type": "markdown",
   "metadata": {},
   "source": [
    "## Logistic"
   ]
  },
  {
   "cell_type": "code",
   "execution_count": 20,
   "metadata": {},
   "outputs": [],
   "source": [
    "lr = LogisticRegression()\n",
    "logistic_model = lr.fit(X_train, y_train)"
   ]
  },
  {
   "cell_type": "code",
   "execution_count": 21,
   "metadata": {},
   "outputs": [
    {
     "data": {
      "text/plain": [
       "0.7777777777777778"
      ]
     },
     "execution_count": 21,
     "metadata": {},
     "output_type": "execute_result"
    }
   ],
   "source": [
    "logistic_model.score(X_test, y_test)"
   ]
  },
  {
   "cell_type": "code",
   "execution_count": 22,
   "metadata": {},
   "outputs": [
    {
     "data": {
      "text/plain": [
       "0.853"
      ]
     },
     "execution_count": 22,
     "metadata": {},
     "output_type": "execute_result"
    }
   ],
   "source": [
    "calculate_auc_score(logistic_model, X_test, y_test)"
   ]
  },
  {
   "cell_type": "code",
   "execution_count": 23,
   "metadata": {},
   "outputs": [
    {
     "name": "stdout",
     "output_type": "stream",
     "text": [
      "              precision    recall  f1-score   support\n",
      "\n",
      "           0       0.86      0.80      0.83        61\n",
      "           1       0.64      0.72      0.68        29\n",
      "\n",
      "    accuracy                           0.78        90\n",
      "   macro avg       0.75      0.76      0.75        90\n",
      "weighted avg       0.79      0.78      0.78        90\n",
      "\n"
     ]
    }
   ],
   "source": [
    "test_report = get_test_report(logistic_model, X_test, y_test)\n",
    "print(test_report)"
   ]
  },
  {
   "cell_type": "code",
   "execution_count": 24,
   "metadata": {},
   "outputs": [
    {
     "data": {
      "image/png": "[encoded data removed]",
      "text/plain": [
       "<Figure size 1080x576 with 1 Axes>"
      ]
     },
     "metadata": {
      "needs_background": "light"
     },
     "output_type": "display_data"
    }
   ],
   "source": [
    "plot_roc(logistic_model, X_test, y_test)"
   ]
  },
  {
   "cell_type": "code",
   "execution_count": 25,
   "metadata": {},
   "outputs": [
    {
     "data": {
      "image/png": "[encoded data removed]",
      "text/plain": [
       "<Figure size 1080x576 with 1 Axes>"
      ]
     },
     "metadata": {
      "needs_background": "light"
     },
     "output_type": "display_data"
    }
   ],
   "source": [
    "plot_confusion_matrix(logistic_model, X_test, y_test)"
   ]
  },
  {
   "cell_type": "code",
   "execution_count": 26,
   "metadata": {},
   "outputs": [],
   "source": [
    "models_summary = update_model_summary(logistic_model, X_test, y_test, \"Logistic model\")"
   ]
  },
  {
   "cell_type": "code",
   "execution_count": 27,
   "metadata": {},
   "outputs": [
    {
     "data": {
      "text/html": [
       "<div>\n",
       "<style scoped>\n",
       "    .dataframe tbody tr th:only-of-type {\n",
       "        vertical-align: middle;\n",
       "    }\n",
       "\n",
       "    .dataframe tbody tr th {\n",
       "        vertical-align: top;\n",
       "    }\n",
       "\n",
       "    .dataframe thead th {\n",
       "        text-align: right;\n",
       "    }\n",
       "</style>\n",
       "<table border=\"1\" class=\"dataframe\">\n",
       "  <thead>\n",
       "    <tr style=\"text-align: right;\">\n",
       "      <th></th>\n",
       "      <th>Model_name</th>\n",
       "      <th>AUC_score</th>\n",
       "      <th>Accuracy</th>\n",
       "      <th>Precision</th>\n",
       "      <th>Recall</th>\n",
       "      <th>F1_score</th>\n",
       "    </tr>\n",
       "  </thead>\n",
       "  <tbody>\n",
       "    <tr>\n",
       "      <th>0</th>\n",
       "      <td>Logistic model</td>\n",
       "      <td>0.853000</td>\n",
       "      <td>0.777778</td>\n",
       "      <td>0.636364</td>\n",
       "      <td>0.724138</td>\n",
       "      <td>0.677419</td>\n",
       "    </tr>\n",
       "  </tbody>\n",
       "</table>\n",
       "</div>"
      ],
      "text/plain": [
       "       Model_name  AUC_score  Accuracy  Precision   Recall  F1_score\n",
       "0  Logistic model   0.853000  0.777778   0.636364 0.724138  0.677419"
      ]
     },
     "execution_count": 27,
     "metadata": {},
     "output_type": "execute_result"
    }
   ],
   "source": [
    "models_summary"
   ]
  },
  {
   "cell_type": "markdown",
   "metadata": {},
   "source": [
    "## Naive Bayes"
   ]
  },
  {
   "cell_type": "code",
   "execution_count": 28,
   "metadata": {},
   "outputs": [],
   "source": [
    "gnb = GaussianNB()\n",
    "gnb_model = gnb.fit(X_train, y_train)"
   ]
  },
  {
   "cell_type": "code",
   "execution_count": 29,
   "metadata": {},
   "outputs": [
    {
     "name": "stdout",
     "output_type": "stream",
     "text": [
      "              precision    recall  f1-score   support\n",
      "\n",
      "           0       0.83      0.85      0.84        61\n",
      "           1       0.67      0.62      0.64        29\n",
      "\n",
      "    accuracy                           0.78        90\n",
      "   macro avg       0.75      0.74      0.74        90\n",
      "weighted avg       0.77      0.78      0.78        90\n",
      "\n"
     ]
    }
   ],
   "source": [
    "test_report = get_test_report(gnb_model, X_test, y_test)\n",
    "print(test_report)"
   ]
  },
  {
   "cell_type": "code",
   "execution_count": 30,
   "metadata": {},
   "outputs": [
    {
     "data": {
      "image/png": "[encoded data removed]",
      "text/plain": [
       "<Figure size 1080x576 with 1 Axes>"
      ]
     },
     "metadata": {
      "needs_background": "light"
     },
     "output_type": "display_data"
    }
   ],
   "source": [
    "plot_roc(gnb_model, X_test, y_test)"
   ]
  },
  {
   "cell_type": "code",
   "execution_count": 31,
   "metadata": {},
   "outputs": [
    {
     "data": {
      "image/png": "[encoded data removed]",
      "text/plain": [
       "<Figure size 1080x576 with 1 Axes>"
      ]
     },
     "metadata": {
      "needs_background": "light"
     },
     "output_type": "display_data"
    }
   ],
   "source": [
    "plot_confusion_matrix(gnb_model, X_test, y_test)"
   ]
  },
  {
   "cell_type": "code",
   "execution_count": 32,
   "metadata": {},
   "outputs": [],
   "source": [
    "models_summary = update_model_summary(gnb_model, X_test, y_test, \"GaussianNB model\")"
   ]
  },
  {
   "cell_type": "code",
   "execution_count": 33,
   "metadata": {},
   "outputs": [
    {
     "data": {
      "text/html": [
       "<div>\n",
       "<style scoped>\n",
       "    .dataframe tbody tr th:only-of-type {\n",
       "        vertical-align: middle;\n",
       "    }\n",
       "\n",
       "    .dataframe tbody tr th {\n",
       "        vertical-align: top;\n",
       "    }\n",
       "\n",
       "    .dataframe thead th {\n",
       "        text-align: right;\n",
       "    }\n",
       "</style>\n",
       "<table border=\"1\" class=\"dataframe\">\n",
       "  <thead>\n",
       "    <tr style=\"text-align: right;\">\n",
       "      <th></th>\n",
       "      <th>Model_name</th>\n",
       "      <th>AUC_score</th>\n",
       "      <th>Accuracy</th>\n",
       "      <th>Precision</th>\n",
       "      <th>Recall</th>\n",
       "      <th>F1_score</th>\n",
       "    </tr>\n",
       "  </thead>\n",
       "  <tbody>\n",
       "    <tr>\n",
       "      <th>0</th>\n",
       "      <td>Logistic model</td>\n",
       "      <td>0.853000</td>\n",
       "      <td>0.777778</td>\n",
       "      <td>0.636364</td>\n",
       "      <td>0.724138</td>\n",
       "      <td>0.677419</td>\n",
       "    </tr>\n",
       "    <tr>\n",
       "      <th>1</th>\n",
       "      <td>GaussianNB model</td>\n",
       "      <td>0.803300</td>\n",
       "      <td>0.777778</td>\n",
       "      <td>0.666667</td>\n",
       "      <td>0.620690</td>\n",
       "      <td>0.642857</td>\n",
       "    </tr>\n",
       "  </tbody>\n",
       "</table>\n",
       "</div>"
      ],
      "text/plain": [
       "         Model_name  AUC_score  Accuracy  Precision   Recall  F1_score\n",
       "0    Logistic model   0.853000  0.777778   0.636364 0.724138  0.677419\n",
       "1  GaussianNB model   0.803300  0.777778   0.666667 0.620690  0.642857"
      ]
     },
     "execution_count": 33,
     "metadata": {},
     "output_type": "execute_result"
    }
   ],
   "source": [
    "models_summary"
   ]
  },
  {
   "cell_type": "code",
   "execution_count": 34,
   "metadata": {},
   "outputs": [
    {
     "name": "stdout",
     "output_type": "stream",
     "text": [
      "10 cross validationscore:\n",
      " [0.66666667 0.9        0.76666667 0.7        0.83333333 0.73333333\n",
      " 0.73333333 0.76666667 0.7        0.72413793]\n",
      "Average Score: 0.7524137931034482\n"
     ]
    }
   ],
   "source": [
    "scores = cross_val_score(gnb_model, X, y, cv=10)\n",
    "print(\"10 cross validationscore:\\n\",scores)\n",
    "print(\"Average Score:\", scores.mean())"
   ]
  },
  {
   "cell_type": "markdown",
   "metadata": {},
   "source": [
    "## KNN"
   ]
  },
  {
   "cell_type": "code",
   "execution_count": 35,
   "metadata": {},
   "outputs": [],
   "source": [
    "knn_classification = KNeighborsClassifier(n_neighbors = 3)\n",
    "knn_model = knn_classification.fit(X_train, y_train)"
   ]
  },
  {
   "cell_type": "code",
   "execution_count": 36,
   "metadata": {},
   "outputs": [
    {
     "name": "stdout",
     "output_type": "stream",
     "text": [
      "              precision    recall  f1-score   support\n",
      "\n",
      "           0       0.78      0.82      0.80        61\n",
      "           1       0.58      0.52      0.55        29\n",
      "\n",
      "    accuracy                           0.72        90\n",
      "   macro avg       0.68      0.67      0.67        90\n",
      "weighted avg       0.72      0.72      0.72        90\n",
      "\n"
     ]
    }
   ],
   "source": [
    "test_report = get_test_report(knn_model, X_test, y_test)\n",
    "print(test_report)"
   ]
  },
  {
   "cell_type": "code",
   "execution_count": 37,
   "metadata": {},
   "outputs": [
    {
     "data": {
      "image/png": "[encoded data removed]",
      "text/plain": [
       "<Figure size 1080x576 with 1 Axes>"
      ]
     },
     "metadata": {
      "needs_background": "light"
     },
     "output_type": "display_data"
    }
   ],
   "source": [
    "plot_roc(knn_model, X_test, y_test)"
   ]
  },
  {
   "cell_type": "code",
   "execution_count": 38,
   "metadata": {},
   "outputs": [
    {
     "data": {
      "image/png": "[encoded data removed]",
      "text/plain": [
       "<Figure size 1080x576 with 1 Axes>"
      ]
     },
     "metadata": {
      "needs_background": "light"
     },
     "output_type": "display_data"
    }
   ],
   "source": [
    "plot_confusion_matrix(knn_model, X_test, y_test)"
   ]
  },
  {
   "cell_type": "code",
   "execution_count": 40,
   "metadata": {},
   "outputs": [],
   "source": [
    "models_summary = update_model_summary(knn_model, X_test, y_test, \"KNN model\")"
   ]
  },
  {
   "cell_type": "code",
   "execution_count": 41,
   "metadata": {},
   "outputs": [
    {
     "data": {
      "text/html": [
       "<div>\n",
       "<style scoped>\n",
       "    .dataframe tbody tr th:only-of-type {\n",
       "        vertical-align: middle;\n",
       "    }\n",
       "\n",
       "    .dataframe tbody tr th {\n",
       "        vertical-align: top;\n",
       "    }\n",
       "\n",
       "    .dataframe thead th {\n",
       "        text-align: right;\n",
       "    }\n",
       "</style>\n",
       "<table border=\"1\" class=\"dataframe\">\n",
       "  <thead>\n",
       "    <tr style=\"text-align: right;\">\n",
       "      <th></th>\n",
       "      <th>Model_name</th>\n",
       "      <th>AUC_score</th>\n",
       "      <th>Accuracy</th>\n",
       "      <th>Precision</th>\n",
       "      <th>Recall</th>\n",
       "      <th>F1_score</th>\n",
       "    </tr>\n",
       "  </thead>\n",
       "  <tbody>\n",
       "    <tr>\n",
       "      <th>0</th>\n",
       "      <td>Logistic model</td>\n",
       "      <td>0.853000</td>\n",
       "      <td>0.777778</td>\n",
       "      <td>0.636364</td>\n",
       "      <td>0.724138</td>\n",
       "      <td>0.677419</td>\n",
       "    </tr>\n",
       "    <tr>\n",
       "      <th>1</th>\n",
       "      <td>GaussianNB model</td>\n",
       "      <td>0.803300</td>\n",
       "      <td>0.777778</td>\n",
       "      <td>0.666667</td>\n",
       "      <td>0.620690</td>\n",
       "      <td>0.642857</td>\n",
       "    </tr>\n",
       "    <tr>\n",
       "      <th>2</th>\n",
       "      <td>KNN model</td>\n",
       "      <td>0.714200</td>\n",
       "      <td>0.722222</td>\n",
       "      <td>0.576923</td>\n",
       "      <td>0.517241</td>\n",
       "      <td>0.545455</td>\n",
       "    </tr>\n",
       "    <tr>\n",
       "      <th>3</th>\n",
       "      <td>KNN model</td>\n",
       "      <td>0.714200</td>\n",
       "      <td>0.722222</td>\n",
       "      <td>0.576923</td>\n",
       "      <td>0.517241</td>\n",
       "      <td>0.545455</td>\n",
       "    </tr>\n",
       "  </tbody>\n",
       "</table>\n",
       "</div>"
      ],
      "text/plain": [
       "         Model_name  AUC_score  Accuracy  Precision   Recall  F1_score\n",
       "0    Logistic model   0.853000  0.777778   0.636364 0.724138  0.677419\n",
       "1  GaussianNB model   0.803300  0.777778   0.666667 0.620690  0.642857\n",
       "2         KNN model   0.714200  0.722222   0.576923 0.517241  0.545455\n",
       "3         KNN model   0.714200  0.722222   0.576923 0.517241  0.545455"
      ]
     },
     "execution_count": 41,
     "metadata": {},
     "output_type": "execute_result"
    }
   ],
   "source": [
    "models_summary"
   ]
  },
  {
   "cell_type": "markdown",
   "metadata": {},
   "source": [
    "### Finding best KNN"
   ]
  },
  {
   "cell_type": "code",
   "execution_count": 42,
   "metadata": {},
   "outputs": [
    {
     "name": "stdout",
     "output_type": "stream",
     "text": [
      "Best parameters for KNN Classifier:  {'metric': 'manhattan', 'n_neighbors': 5} \n",
      "\n"
     ]
    }
   ],
   "source": [
    "tuned_paramaters = {'n_neighbors': np.arange(1, 25, 2),\n",
    "                   'metric': ['hamming','euclidean','manhattan','Chebyshev']}\n",
    " \n",
    "# instantiate the 'KNeighborsClassifier' \n",
    "knn_classification = KNeighborsClassifier()\n",
    "\n",
    "knn_grid = GridSearchCV(estimator = knn_classification, \n",
    "                        param_grid = tuned_paramaters, \n",
    "                        cv = 5, \n",
    "                        scoring = 'accuracy')\n",
    "\n",
    "knn_grid.fit(X_train, y_train)\n",
    "\n",
    "print('Best parameters for KNN Classifier: ', knn_grid.best_params_, '\\n')"
   ]
  },
  {
   "cell_type": "code",
   "execution_count": 43,
   "metadata": {},
   "outputs": [],
   "source": [
    "best_knn_classification = KNeighborsClassifier(n_neighbors = 5, metric = 'manhattan')\n",
    "best_knn_model = best_knn_classification.fit(X_train, y_train)"
   ]
  },
  {
   "cell_type": "code",
   "execution_count": 44,
   "metadata": {},
   "outputs": [
    {
     "name": "stdout",
     "output_type": "stream",
     "text": [
      "              precision    recall  f1-score   support\n",
      "\n",
      "           0       0.75      0.89      0.81        61\n",
      "           1       0.61      0.38      0.47        29\n",
      "\n",
      "    accuracy                           0.72        90\n",
      "   macro avg       0.68      0.63      0.64        90\n",
      "weighted avg       0.71      0.72      0.70        90\n",
      "\n"
     ]
    }
   ],
   "source": [
    "test_report = get_test_report(best_knn_model, X_test, y_test)\n",
    "print(test_report)"
   ]
  },
  {
   "cell_type": "code",
   "execution_count": 45,
   "metadata": {},
   "outputs": [
    {
     "data": {
      "image/png": "[encoded data removed]",
      "text/plain": [
       "<Figure size 1080x576 with 1 Axes>"
      ]
     },
     "metadata": {
      "needs_background": "light"
     },
     "output_type": "display_data"
    }
   ],
   "source": [
    "plot_roc(best_knn_model, X_test, y_test)"
   ]
  },
  {
   "cell_type": "code",
   "execution_count": 46,
   "metadata": {},
   "outputs": [
    {
     "data": {
      "image/png": "[encoded data removed]",
      "text/plain": [
       "<Figure size 1080x576 with 1 Axes>"
      ]
     },
     "metadata": {
      "needs_background": "light"
     },
     "output_type": "display_data"
    }
   ],
   "source": [
    "plot_confusion_matrix(best_knn_model, X_test, y_test)"
   ]
  },
  {
   "cell_type": "code",
   "execution_count": 47,
   "metadata": {},
   "outputs": [],
   "source": [
    "models_summary = update_model_summary(best_knn_model, X_test, y_test, \"KNN best model(manhattan - 5)\")"
   ]
  },
  {
   "cell_type": "code",
   "execution_count": 48,
   "metadata": {},
   "outputs": [
    {
     "data": {
      "text/html": [
       "<div>\n",
       "<style scoped>\n",
       "    .dataframe tbody tr th:only-of-type {\n",
       "        vertical-align: middle;\n",
       "    }\n",
       "\n",
       "    .dataframe tbody tr th {\n",
       "        vertical-align: top;\n",
       "    }\n",
       "\n",
       "    .dataframe thead th {\n",
       "        text-align: right;\n",
       "    }\n",
       "</style>\n",
       "<table border=\"1\" class=\"dataframe\">\n",
       "  <thead>\n",
       "    <tr style=\"text-align: right;\">\n",
       "      <th></th>\n",
       "      <th>Model_name</th>\n",
       "      <th>AUC_score</th>\n",
       "      <th>Accuracy</th>\n",
       "      <th>Precision</th>\n",
       "      <th>Recall</th>\n",
       "      <th>F1_score</th>\n",
       "    </tr>\n",
       "  </thead>\n",
       "  <tbody>\n",
       "    <tr>\n",
       "      <th>0</th>\n",
       "      <td>Logistic model</td>\n",
       "      <td>0.853000</td>\n",
       "      <td>0.777778</td>\n",
       "      <td>0.636364</td>\n",
       "      <td>0.724138</td>\n",
       "      <td>0.677419</td>\n",
       "    </tr>\n",
       "    <tr>\n",
       "      <th>1</th>\n",
       "      <td>GaussianNB model</td>\n",
       "      <td>0.803300</td>\n",
       "      <td>0.777778</td>\n",
       "      <td>0.666667</td>\n",
       "      <td>0.620690</td>\n",
       "      <td>0.642857</td>\n",
       "    </tr>\n",
       "    <tr>\n",
       "      <th>2</th>\n",
       "      <td>KNN model</td>\n",
       "      <td>0.714200</td>\n",
       "      <td>0.722222</td>\n",
       "      <td>0.576923</td>\n",
       "      <td>0.517241</td>\n",
       "      <td>0.545455</td>\n",
       "    </tr>\n",
       "    <tr>\n",
       "      <th>3</th>\n",
       "      <td>KNN model</td>\n",
       "      <td>0.714200</td>\n",
       "      <td>0.722222</td>\n",
       "      <td>0.576923</td>\n",
       "      <td>0.517241</td>\n",
       "      <td>0.545455</td>\n",
       "    </tr>\n",
       "    <tr>\n",
       "      <th>4</th>\n",
       "      <td>KNN best model(manhattan - 5)</td>\n",
       "      <td>0.753800</td>\n",
       "      <td>0.722222</td>\n",
       "      <td>0.611111</td>\n",
       "      <td>0.379310</td>\n",
       "      <td>0.468085</td>\n",
       "    </tr>\n",
       "  </tbody>\n",
       "</table>\n",
       "</div>"
      ],
      "text/plain": [
       "                      Model_name  AUC_score  Accuracy  Precision   Recall  \\\n",
       "0                 Logistic model   0.853000  0.777778   0.636364 0.724138   \n",
       "1               GaussianNB model   0.803300  0.777778   0.666667 0.620690   \n",
       "2                      KNN model   0.714200  0.722222   0.576923 0.517241   \n",
       "3                      KNN model   0.714200  0.722222   0.576923 0.517241   \n",
       "4  KNN best model(manhattan - 5)   0.753800  0.722222   0.611111 0.379310   \n",
       "\n",
       "   F1_score  \n",
       "0  0.677419  \n",
       "1  0.642857  \n",
       "2  0.545455  \n",
       "3  0.545455  \n",
       "4  0.468085  "
      ]
     },
     "execution_count": 48,
     "metadata": {},
     "output_type": "execute_result"
    }
   ],
   "source": [
    "models_summary"
   ]
  },
  {
   "cell_type": "markdown",
   "metadata": {},
   "source": [
    "## Decision Tree"
   ]
  },
  {
   "cell_type": "code",
   "execution_count": 49,
   "metadata": {},
   "outputs": [
    {
     "data": {
      "text/plain": [
       "((209, 12), (90, 12), (209,), (90,))"
      ]
     },
     "execution_count": 49,
     "metadata": {},
     "output_type": "execute_result"
    }
   ],
   "source": [
    "X_dec_train, X_dec_test, y_dec_train, y_dec_test = train_test_split(features, target, train_size=0.7, random_state=10)\n",
    "X_dec_train.shape, X_dec_test.shape, y_dec_train.shape, y_dec_test.shape"
   ]
  },
  {
   "cell_type": "code",
   "execution_count": 50,
   "metadata": {},
   "outputs": [
    {
     "data": {
      "text/html": [
       "<div>\n",
       "<style scoped>\n",
       "    .dataframe tbody tr th:only-of-type {\n",
       "        vertical-align: middle;\n",
       "    }\n",
       "\n",
       "    .dataframe tbody tr th {\n",
       "        vertical-align: top;\n",
       "    }\n",
       "\n",
       "    .dataframe thead th {\n",
       "        text-align: right;\n",
       "    }\n",
       "</style>\n",
       "<table border=\"1\" class=\"dataframe\">\n",
       "  <thead>\n",
       "    <tr style=\"text-align: right;\">\n",
       "      <th></th>\n",
       "      <th>age</th>\n",
       "      <th>anaemia</th>\n",
       "      <th>creatinine_phosphokinase</th>\n",
       "      <th>diabetes</th>\n",
       "      <th>ejection_fraction</th>\n",
       "      <th>high_blood_pressure</th>\n",
       "      <th>platelets</th>\n",
       "      <th>serum_creatinine</th>\n",
       "      <th>serum_sodium</th>\n",
       "      <th>sex</th>\n",
       "      <th>smoking</th>\n",
       "      <th>time</th>\n",
       "    </tr>\n",
       "  </thead>\n",
       "  <tbody>\n",
       "    <tr>\n",
       "      <th>75</th>\n",
       "      <td>60.000000</td>\n",
       "      <td>1</td>\n",
       "      <td>47</td>\n",
       "      <td>0</td>\n",
       "      <td>20</td>\n",
       "      <td>0</td>\n",
       "      <td>204000.000000</td>\n",
       "      <td>0.700000</td>\n",
       "      <td>139</td>\n",
       "      <td>1</td>\n",
       "      <td>1</td>\n",
       "      <td>73</td>\n",
       "    </tr>\n",
       "    <tr>\n",
       "      <th>209</th>\n",
       "      <td>49.000000</td>\n",
       "      <td>0</td>\n",
       "      <td>972</td>\n",
       "      <td>1</td>\n",
       "      <td>35</td>\n",
       "      <td>1</td>\n",
       "      <td>268000.000000</td>\n",
       "      <td>0.800000</td>\n",
       "      <td>130</td>\n",
       "      <td>0</td>\n",
       "      <td>0</td>\n",
       "      <td>187</td>\n",
       "    </tr>\n",
       "    <tr>\n",
       "      <th>289</th>\n",
       "      <td>90.000000</td>\n",
       "      <td>1</td>\n",
       "      <td>337</td>\n",
       "      <td>0</td>\n",
       "      <td>38</td>\n",
       "      <td>0</td>\n",
       "      <td>390000.000000</td>\n",
       "      <td>0.900000</td>\n",
       "      <td>144</td>\n",
       "      <td>0</td>\n",
       "      <td>0</td>\n",
       "      <td>256</td>\n",
       "    </tr>\n",
       "    <tr>\n",
       "      <th>187</th>\n",
       "      <td>60.000000</td>\n",
       "      <td>0</td>\n",
       "      <td>1896</td>\n",
       "      <td>1</td>\n",
       "      <td>25</td>\n",
       "      <td>0</td>\n",
       "      <td>365000.000000</td>\n",
       "      <td>2.100000</td>\n",
       "      <td>144</td>\n",
       "      <td>0</td>\n",
       "      <td>0</td>\n",
       "      <td>172</td>\n",
       "    </tr>\n",
       "    <tr>\n",
       "      <th>20</th>\n",
       "      <td>65.000000</td>\n",
       "      <td>1</td>\n",
       "      <td>52</td>\n",
       "      <td>0</td>\n",
       "      <td>25</td>\n",
       "      <td>1</td>\n",
       "      <td>276000.000000</td>\n",
       "      <td>1.300000</td>\n",
       "      <td>137</td>\n",
       "      <td>0</td>\n",
       "      <td>0</td>\n",
       "      <td>16</td>\n",
       "    </tr>\n",
       "  </tbody>\n",
       "</table>\n",
       "</div>"
      ],
      "text/plain": [
       "          age  anaemia  creatinine_phosphokinase  diabetes  ejection_fraction  \\\n",
       "75  60.000000        1                        47         0                 20   \n",
       "209 49.000000        0                       972         1                 35   \n",
       "289 90.000000        1                       337         0                 38   \n",
       "187 60.000000        0                      1896         1                 25   \n",
       "20  65.000000        1                        52         0                 25   \n",
       "\n",
       "     high_blood_pressure     platelets  serum_creatinine  serum_sodium  sex  \\\n",
       "75                     0 204000.000000          0.700000           139    1   \n",
       "209                    1 268000.000000          0.800000           130    0   \n",
       "289                    0 390000.000000          0.900000           144    0   \n",
       "187                    0 365000.000000          2.100000           144    0   \n",
       "20                     1 276000.000000          1.300000           137    0   \n",
       "\n",
       "     smoking  time  \n",
       "75         1    73  \n",
       "209        0   187  \n",
       "289        0   256  \n",
       "187        0   172  \n",
       "20         0    16  "
      ]
     },
     "execution_count": 50,
     "metadata": {},
     "output_type": "execute_result"
    }
   ],
   "source": [
    "X_dec_train.head()"
   ]
  },
  {
   "cell_type": "code",
   "execution_count": 51,
   "metadata": {},
   "outputs": [],
   "source": [
    "decision_tree_classification = DecisionTreeClassifier(criterion = 'entropy', random_state = 10)\n",
    "decision_tree = decision_tree_classification.fit(X_dec_train, y_dec_train)"
   ]
  },
  {
   "cell_type": "markdown",
   "metadata": {},
   "source": [
    "labels = X_train.columns\n",
    "dot_data = tree.export_graphviz(decision_tree, feature_names = labels, class_names = [\"0\",\"1\"])  \n",
    "graph = pydotplus.graph_from_dot_data(dot_data)\n",
    "Image(graph.create_png())"
   ]
  },
  {
   "cell_type": "code",
   "execution_count": 52,
   "metadata": {},
   "outputs": [
    {
     "name": "stdout",
     "output_type": "stream",
     "text": [
      "              precision    recall  f1-score   support\n",
      "\n",
      "           0       0.82      0.87      0.84        61\n",
      "           1       0.68      0.59      0.63        29\n",
      "\n",
      "    accuracy                           0.78        90\n",
      "   macro avg       0.75      0.73      0.74        90\n",
      "weighted avg       0.77      0.78      0.77        90\n",
      "\n"
     ]
    }
   ],
   "source": [
    "print(get_test_report(decision_tree, X_dec_test, y_dec_test))"
   ]
  },
  {
   "cell_type": "code",
   "execution_count": 53,
   "metadata": {},
   "outputs": [
    {
     "data": {
      "image/png": "[encoded data removed]",
      "text/plain": [
       "<Figure size 1080x576 with 1 Axes>"
      ]
     },
     "metadata": {
      "needs_background": "light"
     },
     "output_type": "display_data"
    }
   ],
   "source": [
    "plot_confusion_matrix(decision_tree, X_dec_test, y_dec_test)"
   ]
  },
  {
   "cell_type": "code",
   "execution_count": 54,
   "metadata": {},
   "outputs": [
    {
     "data": {
      "image/png": "[encoded data removed]",
      "text/plain": [
       "<Figure size 1080x576 with 1 Axes>"
      ]
     },
     "metadata": {
      "needs_background": "light"
     },
     "output_type": "display_data"
    }
   ],
   "source": [
    "plot_roc(decision_tree, X_dec_test, y_dec_test)"
   ]
  },
  {
   "cell_type": "code",
   "execution_count": 55,
   "metadata": {},
   "outputs": [],
   "source": [
    "models_summary = update_model_summary(decision_tree, X_dec_test, y_dec_test, \"Decission Tree - Entropy\")"
   ]
  },
  {
   "cell_type": "code",
   "execution_count": 56,
   "metadata": {},
   "outputs": [
    {
     "data": {
      "text/html": [
       "<div>\n",
       "<style scoped>\n",
       "    .dataframe tbody tr th:only-of-type {\n",
       "        vertical-align: middle;\n",
       "    }\n",
       "\n",
       "    .dataframe tbody tr th {\n",
       "        vertical-align: top;\n",
       "    }\n",
       "\n",
       "    .dataframe thead th {\n",
       "        text-align: right;\n",
       "    }\n",
       "</style>\n",
       "<table border=\"1\" class=\"dataframe\">\n",
       "  <thead>\n",
       "    <tr style=\"text-align: right;\">\n",
       "      <th></th>\n",
       "      <th>Model_name</th>\n",
       "      <th>AUC_score</th>\n",
       "      <th>Accuracy</th>\n",
       "      <th>Precision</th>\n",
       "      <th>Recall</th>\n",
       "      <th>F1_score</th>\n",
       "    </tr>\n",
       "  </thead>\n",
       "  <tbody>\n",
       "    <tr>\n",
       "      <th>0</th>\n",
       "      <td>Logistic model</td>\n",
       "      <td>0.853000</td>\n",
       "      <td>0.777778</td>\n",
       "      <td>0.636364</td>\n",
       "      <td>0.724138</td>\n",
       "      <td>0.677419</td>\n",
       "    </tr>\n",
       "    <tr>\n",
       "      <th>1</th>\n",
       "      <td>GaussianNB model</td>\n",
       "      <td>0.803300</td>\n",
       "      <td>0.777778</td>\n",
       "      <td>0.666667</td>\n",
       "      <td>0.620690</td>\n",
       "      <td>0.642857</td>\n",
       "    </tr>\n",
       "    <tr>\n",
       "      <th>2</th>\n",
       "      <td>KNN model</td>\n",
       "      <td>0.714200</td>\n",
       "      <td>0.722222</td>\n",
       "      <td>0.576923</td>\n",
       "      <td>0.517241</td>\n",
       "      <td>0.545455</td>\n",
       "    </tr>\n",
       "    <tr>\n",
       "      <th>3</th>\n",
       "      <td>KNN model</td>\n",
       "      <td>0.714200</td>\n",
       "      <td>0.722222</td>\n",
       "      <td>0.576923</td>\n",
       "      <td>0.517241</td>\n",
       "      <td>0.545455</td>\n",
       "    </tr>\n",
       "    <tr>\n",
       "      <th>4</th>\n",
       "      <td>KNN best model(manhattan - 5)</td>\n",
       "      <td>0.753800</td>\n",
       "      <td>0.722222</td>\n",
       "      <td>0.611111</td>\n",
       "      <td>0.379310</td>\n",
       "      <td>0.468085</td>\n",
       "    </tr>\n",
       "    <tr>\n",
       "      <th>5</th>\n",
       "      <td>Decission Tree - Entropy</td>\n",
       "      <td>0.727500</td>\n",
       "      <td>0.777778</td>\n",
       "      <td>0.680000</td>\n",
       "      <td>0.586207</td>\n",
       "      <td>0.629630</td>\n",
       "    </tr>\n",
       "  </tbody>\n",
       "</table>\n",
       "</div>"
      ],
      "text/plain": [
       "                      Model_name  AUC_score  Accuracy  Precision   Recall  \\\n",
       "0                 Logistic model   0.853000  0.777778   0.636364 0.724138   \n",
       "1               GaussianNB model   0.803300  0.777778   0.666667 0.620690   \n",
       "2                      KNN model   0.714200  0.722222   0.576923 0.517241   \n",
       "3                      KNN model   0.714200  0.722222   0.576923 0.517241   \n",
       "4  KNN best model(manhattan - 5)   0.753800  0.722222   0.611111 0.379310   \n",
       "5       Decission Tree - Entropy   0.727500  0.777778   0.680000 0.586207   \n",
       "\n",
       "   F1_score  \n",
       "0  0.677419  \n",
       "1  0.642857  \n",
       "2  0.545455  \n",
       "3  0.545455  \n",
       "4  0.468085  \n",
       "5  0.629630  "
      ]
     },
     "execution_count": 56,
     "metadata": {},
     "output_type": "execute_result"
    }
   ],
   "source": [
    "models_summary"
   ]
  },
  {
   "cell_type": "code",
   "execution_count": 57,
   "metadata": {},
   "outputs": [],
   "source": [
    "decision_tree_classification = DecisionTreeClassifier(criterion = 'gini', random_state = 10)\n",
    "decision_tree = decision_tree_classification.fit(X_dec_train, y_dec_train)"
   ]
  },
  {
   "cell_type": "markdown",
   "metadata": {},
   "source": [
    "labels = X_dec_train.columns\n",
    "dot_data = tree.export_graphviz(decision_tree, feature_names = labels, class_names = [\"0\",\"1\"])  \n",
    "graph = pydotplus.graph_from_dot_data(dot_data)\n",
    "Image(graph.create_png())"
   ]
  },
  {
   "cell_type": "code",
   "execution_count": 58,
   "metadata": {},
   "outputs": [
    {
     "name": "stdout",
     "output_type": "stream",
     "text": [
      "              precision    recall  f1-score   support\n",
      "\n",
      "           0       0.84      0.89      0.86        61\n",
      "           1       0.73      0.66      0.69        29\n",
      "\n",
      "    accuracy                           0.81        90\n",
      "   macro avg       0.79      0.77      0.78        90\n",
      "weighted avg       0.81      0.81      0.81        90\n",
      "\n"
     ]
    }
   ],
   "source": [
    "print(get_test_report(decision_tree, X_dec_test, y_dec_test))"
   ]
  },
  {
   "cell_type": "code",
   "execution_count": 59,
   "metadata": {},
   "outputs": [
    {
     "data": {
      "image/png": "[encoded data removed]",
      "text/plain": [
       "<Figure size 1080x576 with 1 Axes>"
      ]
     },
     "metadata": {
      "needs_background": "light"
     },
     "output_type": "display_data"
    }
   ],
   "source": [
    "plot_confusion_matrix(decision_tree, X_dec_test, y_dec_test)"
   ]
  },
  {
   "cell_type": "code",
   "execution_count": 60,
   "metadata": {},
   "outputs": [
    {
     "data": {
      "image/png": "[encoded data removed]",
      "text/plain": [
       "<Figure size 1080x576 with 1 Axes>"
      ]
     },
     "metadata": {
      "needs_background": "light"
     },
     "output_type": "display_data"
    }
   ],
   "source": [
    "plot_roc(decision_tree, X_dec_test, y_dec_test)"
   ]
  },
  {
   "cell_type": "code",
   "execution_count": 61,
   "metadata": {},
   "outputs": [],
   "source": [
    "models_summary = update_model_summary(decision_tree, X_dec_test, y_dec_test, \"Decission Tree - Gini\")"
   ]
  },
  {
   "cell_type": "code",
   "execution_count": 62,
   "metadata": {},
   "outputs": [
    {
     "data": {
      "text/html": [
       "<div>\n",
       "<style scoped>\n",
       "    .dataframe tbody tr th:only-of-type {\n",
       "        vertical-align: middle;\n",
       "    }\n",
       "\n",
       "    .dataframe tbody tr th {\n",
       "        vertical-align: top;\n",
       "    }\n",
       "\n",
       "    .dataframe thead th {\n",
       "        text-align: right;\n",
       "    }\n",
       "</style>\n",
       "<table border=\"1\" class=\"dataframe\">\n",
       "  <thead>\n",
       "    <tr style=\"text-align: right;\">\n",
       "      <th></th>\n",
       "      <th>Model_name</th>\n",
       "      <th>AUC_score</th>\n",
       "      <th>Accuracy</th>\n",
       "      <th>Precision</th>\n",
       "      <th>Recall</th>\n",
       "      <th>F1_score</th>\n",
       "    </tr>\n",
       "  </thead>\n",
       "  <tbody>\n",
       "    <tr>\n",
       "      <th>0</th>\n",
       "      <td>Logistic model</td>\n",
       "      <td>0.853000</td>\n",
       "      <td>0.777778</td>\n",
       "      <td>0.636364</td>\n",
       "      <td>0.724138</td>\n",
       "      <td>0.677419</td>\n",
       "    </tr>\n",
       "    <tr>\n",
       "      <th>1</th>\n",
       "      <td>GaussianNB model</td>\n",
       "      <td>0.803300</td>\n",
       "      <td>0.777778</td>\n",
       "      <td>0.666667</td>\n",
       "      <td>0.620690</td>\n",
       "      <td>0.642857</td>\n",
       "    </tr>\n",
       "    <tr>\n",
       "      <th>2</th>\n",
       "      <td>KNN model</td>\n",
       "      <td>0.714200</td>\n",
       "      <td>0.722222</td>\n",
       "      <td>0.576923</td>\n",
       "      <td>0.517241</td>\n",
       "      <td>0.545455</td>\n",
       "    </tr>\n",
       "    <tr>\n",
       "      <th>3</th>\n",
       "      <td>KNN model</td>\n",
       "      <td>0.714200</td>\n",
       "      <td>0.722222</td>\n",
       "      <td>0.576923</td>\n",
       "      <td>0.517241</td>\n",
       "      <td>0.545455</td>\n",
       "    </tr>\n",
       "    <tr>\n",
       "      <th>4</th>\n",
       "      <td>KNN best model(manhattan - 5)</td>\n",
       "      <td>0.753800</td>\n",
       "      <td>0.722222</td>\n",
       "      <td>0.611111</td>\n",
       "      <td>0.379310</td>\n",
       "      <td>0.468085</td>\n",
       "    </tr>\n",
       "    <tr>\n",
       "      <th>5</th>\n",
       "      <td>Decission Tree - Entropy</td>\n",
       "      <td>0.727500</td>\n",
       "      <td>0.777778</td>\n",
       "      <td>0.680000</td>\n",
       "      <td>0.586207</td>\n",
       "      <td>0.629630</td>\n",
       "    </tr>\n",
       "    <tr>\n",
       "      <th>6</th>\n",
       "      <td>Decission Tree - Gini</td>\n",
       "      <td>0.770200</td>\n",
       "      <td>0.811111</td>\n",
       "      <td>0.730769</td>\n",
       "      <td>0.655172</td>\n",
       "      <td>0.690909</td>\n",
       "    </tr>\n",
       "  </tbody>\n",
       "</table>\n",
       "</div>"
      ],
      "text/plain": [
       "                      Model_name  AUC_score  Accuracy  Precision   Recall  \\\n",
       "0                 Logistic model   0.853000  0.777778   0.636364 0.724138   \n",
       "1               GaussianNB model   0.803300  0.777778   0.666667 0.620690   \n",
       "2                      KNN model   0.714200  0.722222   0.576923 0.517241   \n",
       "3                      KNN model   0.714200  0.722222   0.576923 0.517241   \n",
       "4  KNN best model(manhattan - 5)   0.753800  0.722222   0.611111 0.379310   \n",
       "5       Decission Tree - Entropy   0.727500  0.777778   0.680000 0.586207   \n",
       "6          Decission Tree - Gini   0.770200  0.811111   0.730769 0.655172   \n",
       "\n",
       "   F1_score  \n",
       "0  0.677419  \n",
       "1  0.642857  \n",
       "2  0.545455  \n",
       "3  0.545455  \n",
       "4  0.468085  \n",
       "5  0.629630  \n",
       "6  0.690909  "
      ]
     },
     "execution_count": 62,
     "metadata": {},
     "output_type": "execute_result"
    }
   ],
   "source": [
    "models_summary"
   ]
  },
  {
   "cell_type": "markdown",
   "metadata": {},
   "source": [
    "## Random Forest"
   ]
  },
  {
   "cell_type": "code",
   "execution_count": 63,
   "metadata": {},
   "outputs": [],
   "source": [
    "rf_classification = RandomForestClassifier(n_estimators = 10, random_state = 10)\n",
    "rf_model = rf_classification.fit(X_dec_train, y_dec_train)"
   ]
  },
  {
   "cell_type": "code",
   "execution_count": 64,
   "metadata": {},
   "outputs": [
    {
     "name": "stdout",
     "output_type": "stream",
     "text": [
      "              precision    recall  f1-score   support\n",
      "\n",
      "           0       0.86      0.93      0.90        61\n",
      "           1       0.83      0.69      0.75        29\n",
      "\n",
      "    accuracy                           0.86        90\n",
      "   macro avg       0.85      0.81      0.83        90\n",
      "weighted avg       0.85      0.86      0.85        90\n",
      "\n"
     ]
    }
   ],
   "source": [
    "print(get_test_report(rf_model, X_dec_test, y_dec_test))"
   ]
  },
  {
   "cell_type": "code",
   "execution_count": 65,
   "metadata": {},
   "outputs": [
    {
     "data": {
      "image/png": "[encoded data removed]",
      "text/plain": [
       "<Figure size 1080x576 with 1 Axes>"
      ]
     },
     "metadata": {
      "needs_background": "light"
     },
     "output_type": "display_data"
    }
   ],
   "source": [
    "plot_confusion_matrix(rf_model, X_dec_test, y_dec_test)"
   ]
  },
  {
   "cell_type": "code",
   "execution_count": 66,
   "metadata": {},
   "outputs": [
    {
     "data": {
      "image/png": "[encoded data removed]",
      "text/plain": [
       "<Figure size 1080x576 with 1 Axes>"
      ]
     },
     "metadata": {
      "needs_background": "light"
     },
     "output_type": "display_data"
    }
   ],
   "source": [
    "plot_roc(rf_model, X_dec_test, y_dec_test)"
   ]
  },
  {
   "cell_type": "code",
   "execution_count": 67,
   "metadata": {},
   "outputs": [],
   "source": [
    "models_summary = update_model_summary(rf_model, X_dec_test, y_dec_test, \"Random Forest\")"
   ]
  },
  {
   "cell_type": "code",
   "execution_count": 68,
   "metadata": {},
   "outputs": [
    {
     "data": {
      "text/html": [
       "<div>\n",
       "<style scoped>\n",
       "    .dataframe tbody tr th:only-of-type {\n",
       "        vertical-align: middle;\n",
       "    }\n",
       "\n",
       "    .dataframe tbody tr th {\n",
       "        vertical-align: top;\n",
       "    }\n",
       "\n",
       "    .dataframe thead th {\n",
       "        text-align: right;\n",
       "    }\n",
       "</style>\n",
       "<table border=\"1\" class=\"dataframe\">\n",
       "  <thead>\n",
       "    <tr style=\"text-align: right;\">\n",
       "      <th></th>\n",
       "      <th>Model_name</th>\n",
       "      <th>AUC_score</th>\n",
       "      <th>Accuracy</th>\n",
       "      <th>Precision</th>\n",
       "      <th>Recall</th>\n",
       "      <th>F1_score</th>\n",
       "    </tr>\n",
       "  </thead>\n",
       "  <tbody>\n",
       "    <tr>\n",
       "      <th>0</th>\n",
       "      <td>Logistic model</td>\n",
       "      <td>0.853000</td>\n",
       "      <td>0.777778</td>\n",
       "      <td>0.636364</td>\n",
       "      <td>0.724138</td>\n",
       "      <td>0.677419</td>\n",
       "    </tr>\n",
       "    <tr>\n",
       "      <th>1</th>\n",
       "      <td>GaussianNB model</td>\n",
       "      <td>0.803300</td>\n",
       "      <td>0.777778</td>\n",
       "      <td>0.666667</td>\n",
       "      <td>0.620690</td>\n",
       "      <td>0.642857</td>\n",
       "    </tr>\n",
       "    <tr>\n",
       "      <th>2</th>\n",
       "      <td>KNN model</td>\n",
       "      <td>0.714200</td>\n",
       "      <td>0.722222</td>\n",
       "      <td>0.576923</td>\n",
       "      <td>0.517241</td>\n",
       "      <td>0.545455</td>\n",
       "    </tr>\n",
       "    <tr>\n",
       "      <th>3</th>\n",
       "      <td>KNN model</td>\n",
       "      <td>0.714200</td>\n",
       "      <td>0.722222</td>\n",
       "      <td>0.576923</td>\n",
       "      <td>0.517241</td>\n",
       "      <td>0.545455</td>\n",
       "    </tr>\n",
       "    <tr>\n",
       "      <th>4</th>\n",
       "      <td>KNN best model(manhattan - 5)</td>\n",
       "      <td>0.753800</td>\n",
       "      <td>0.722222</td>\n",
       "      <td>0.611111</td>\n",
       "      <td>0.379310</td>\n",
       "      <td>0.468085</td>\n",
       "    </tr>\n",
       "    <tr>\n",
       "      <th>5</th>\n",
       "      <td>Decission Tree - Entropy</td>\n",
       "      <td>0.727500</td>\n",
       "      <td>0.777778</td>\n",
       "      <td>0.680000</td>\n",
       "      <td>0.586207</td>\n",
       "      <td>0.629630</td>\n",
       "    </tr>\n",
       "    <tr>\n",
       "      <th>6</th>\n",
       "      <td>Decission Tree - Gini</td>\n",
       "      <td>0.770200</td>\n",
       "      <td>0.811111</td>\n",
       "      <td>0.730769</td>\n",
       "      <td>0.655172</td>\n",
       "      <td>0.690909</td>\n",
       "    </tr>\n",
       "    <tr>\n",
       "      <th>7</th>\n",
       "      <td>Random Forest</td>\n",
       "      <td>0.886100</td>\n",
       "      <td>0.855556</td>\n",
       "      <td>0.833333</td>\n",
       "      <td>0.689655</td>\n",
       "      <td>0.754717</td>\n",
       "    </tr>\n",
       "  </tbody>\n",
       "</table>\n",
       "</div>"
      ],
      "text/plain": [
       "                      Model_name  AUC_score  Accuracy  Precision   Recall  \\\n",
       "0                 Logistic model   0.853000  0.777778   0.636364 0.724138   \n",
       "1               GaussianNB model   0.803300  0.777778   0.666667 0.620690   \n",
       "2                      KNN model   0.714200  0.722222   0.576923 0.517241   \n",
       "3                      KNN model   0.714200  0.722222   0.576923 0.517241   \n",
       "4  KNN best model(manhattan - 5)   0.753800  0.722222   0.611111 0.379310   \n",
       "5       Decission Tree - Entropy   0.727500  0.777778   0.680000 0.586207   \n",
       "6          Decission Tree - Gini   0.770200  0.811111   0.730769 0.655172   \n",
       "7                  Random Forest   0.886100  0.855556   0.833333 0.689655   \n",
       "\n",
       "   F1_score  \n",
       "0  0.677419  \n",
       "1  0.642857  \n",
       "2  0.545455  \n",
       "3  0.545455  \n",
       "4  0.468085  \n",
       "5  0.629630  \n",
       "6  0.690909  \n",
       "7  0.754717  "
      ]
     },
     "execution_count": 68,
     "metadata": {},
     "output_type": "execute_result"
    }
   ],
   "source": [
    "models_summary"
   ]
  },
  {
   "cell_type": "markdown",
   "metadata": {},
   "source": [
    "## Random Forest - Tuning Paramaters"
   ]
  },
  {
   "cell_type": "code",
   "execution_count": null,
   "metadata": {},
   "outputs": [],
   "source": [
    "'''%%time\n",
    "tuned_paramaters = [{'criterion': ['entropy', 'gini'],\n",
    "                     'n_estimators': [10, 30, 50, 70, 90],\n",
    "                     'max_depth': [10, 15, 20],\n",
    "                     'max_features': ['sqrt', 'log2'],\n",
    "                     'min_samples_split': [2, 5, 8, 11],\n",
    "                     'min_samples_leaf': [1, 5, 9],\n",
    "                     'max_leaf_nodes': [2, 5, 8, 11]}]\n",
    "\n",
    "random_forest_classification = RandomForestClassifier(random_state = 10)\n",
    "\n",
    "rf_grid = GridSearchCV(estimator = random_forest_classification, \n",
    "                       param_grid = tuned_paramaters, \n",
    "                       cv = 5)\n",
    "\n",
    "rf_grid_model = rf_grid.fit(X_dec_train, y_dec_train)\n",
    "\n",
    "print('Best parameters for random forest classifier: ', rf_grid_model.best_params_, '\\n')'''"
   ]
  },
  {
   "cell_type": "code",
   "execution_count": null,
   "metadata": {},
   "outputs": [],
   "source": [
    "'''%%time\n",
    "tuned_paramaters = [{'criterion': ['entropy', 'gini'],\n",
    "                     'n_estimators': [10, 30, 50, 70, 90],\n",
    "                     'max_depth': [10, 15, 20],\n",
    "                     'max_features': ['sqrt', 'log2'],\n",
    "                     'min_samples_split': [2, 5, 8, 11],\n",
    "                     'min_samples_leaf': [1, 5, 9],\n",
    "                     'max_leaf_nodes': [2, 5, 8, 11]}]\n",
    "\n",
    "random_forest_classification = RandomForestClassifier(random_state = 10)\n",
    "\n",
    "rf_grid = GridSearchCV(estimator = random_forest_classification, \n",
    "                       param_grid = tuned_paramaters, \n",
    "                       cv = 5)\n",
    "\n",
    "rf_grid_model = rf_grid.fit(X_dec_train, y_dec_train)\n",
    "\n",
    "print('Best parameters for random forest classifier: ', rf_grid_model.best_params_, '\\n')'''"
   ]
  },
  {
   "cell_type": "code",
   "execution_count": null,
   "metadata": {},
   "outputs": [],
   "source": [
    "'''Best parameters for random forest classifier:  {'criterion': 'entropy', 'max_depth': 10, 'max_features': 'sqrt', 'max_leaf_nodes': 5, 'min_samples_leaf': 5, 'min_samples_split': 11, 'n_estimators': 10} \n",
    "\n",
    "Wall time: 31min 20s'''"
   ]
  },
  {
   "cell_type": "code",
   "execution_count": 69,
   "metadata": {},
   "outputs": [
    {
     "name": "stdout",
     "output_type": "stream",
     "text": [
      "Classification Report for test set:\n",
      "               precision    recall  f1-score   support\n",
      "\n",
      "           0       0.86      0.93      0.90        61\n",
      "           1       0.83      0.69      0.75        29\n",
      "\n",
      "    accuracy                           0.86        90\n",
      "   macro avg       0.85      0.81      0.83        90\n",
      "weighted avg       0.85      0.86      0.85        90\n",
      "\n"
     ]
    }
   ],
   "source": [
    "# rf_model_tune = RandomForestClassifier(criterion = rf_grid_model.best_params_.get('criterion'), \n",
    "#                                   n_estimators = rf_grid_model.best_params_.get('n_estimators'),\n",
    "#                                   max_depth = rf_grid_model.best_params_.get('max_depth'),\n",
    "#                                   max_features = rf_grid_model.best_params_.get('max_features'),\n",
    "#                                   max_leaf_nodes = rf_grid_model.best_params_.get('max_leaf_nodes'),\n",
    "#                                   min_samples_leaf = rf_grid_model.best_params_.get('min_samples_leaf'),\n",
    "#                                   min_samples_split = rf_grid_model.best_params_.get('min_samples_split'),\n",
    "#                                   random_state = 10)\n",
    "\n",
    "\n",
    "rf_model_tune = RandomForestClassifier(criterion = 'entropy', \n",
    "                                  n_estimators = 10,\n",
    "                                  max_depth = 10 ,\n",
    "                                  max_features = 'sqrt',\n",
    "                                  max_leaf_nodes = 5,\n",
    "                                  min_samples_leaf = 5,\n",
    "                                  min_samples_split = 11,\n",
    "                                  random_state = 10)\n",
    "\n",
    "rf_model_tune = rf_model_tune.fit(X_dec_train, y_dec_train)\n",
    "\n",
    "# print the performance measures for test set for the model with best parameters\n",
    "print('Classification Report for test set:\\n', get_test_report(rf_model_tune, X_dec_test, y_dec_test))"
   ]
  },
  {
   "cell_type": "code",
   "execution_count": 70,
   "metadata": {},
   "outputs": [
    {
     "data": {
      "text/plain": [
       "Index(['age', 'anaemia', 'creatinine_phosphokinase', 'diabetes',\n",
       "       'ejection_fraction', 'high_blood_pressure', 'platelets',\n",
       "       'serum_creatinine', 'serum_sodium', 'sex', 'smoking', 'time'],\n",
       "      dtype='object')"
      ]
     },
     "execution_count": 70,
     "metadata": {},
     "output_type": "execute_result"
    }
   ],
   "source": [
    "X_dec_train.columns"
   ]
  },
  {
   "cell_type": "code",
   "execution_count": 71,
   "metadata": {},
   "outputs": [
    {
     "data": {
      "text/html": [
       "<div>\n",
       "<style scoped>\n",
       "    .dataframe tbody tr th:only-of-type {\n",
       "        vertical-align: middle;\n",
       "    }\n",
       "\n",
       "    .dataframe tbody tr th {\n",
       "        vertical-align: top;\n",
       "    }\n",
       "\n",
       "    .dataframe thead th {\n",
       "        text-align: right;\n",
       "    }\n",
       "</style>\n",
       "<table border=\"1\" class=\"dataframe\">\n",
       "  <thead>\n",
       "    <tr style=\"text-align: right;\">\n",
       "      <th></th>\n",
       "      <th>age</th>\n",
       "      <th>anaemia</th>\n",
       "      <th>creatinine_phosphokinase</th>\n",
       "      <th>diabetes</th>\n",
       "      <th>ejection_fraction</th>\n",
       "      <th>high_blood_pressure</th>\n",
       "      <th>platelets</th>\n",
       "      <th>serum_creatinine</th>\n",
       "      <th>serum_sodium</th>\n",
       "      <th>sex</th>\n",
       "      <th>smoking</th>\n",
       "      <th>time</th>\n",
       "    </tr>\n",
       "  </thead>\n",
       "  <tbody>\n",
       "    <tr>\n",
       "      <th>75</th>\n",
       "      <td>60.000000</td>\n",
       "      <td>1</td>\n",
       "      <td>47</td>\n",
       "      <td>0</td>\n",
       "      <td>20</td>\n",
       "      <td>0</td>\n",
       "      <td>204000.000000</td>\n",
       "      <td>0.700000</td>\n",
       "      <td>139</td>\n",
       "      <td>1</td>\n",
       "      <td>1</td>\n",
       "      <td>73</td>\n",
       "    </tr>\n",
       "    <tr>\n",
       "      <th>209</th>\n",
       "      <td>49.000000</td>\n",
       "      <td>0</td>\n",
       "      <td>972</td>\n",
       "      <td>1</td>\n",
       "      <td>35</td>\n",
       "      <td>1</td>\n",
       "      <td>268000.000000</td>\n",
       "      <td>0.800000</td>\n",
       "      <td>130</td>\n",
       "      <td>0</td>\n",
       "      <td>0</td>\n",
       "      <td>187</td>\n",
       "    </tr>\n",
       "    <tr>\n",
       "      <th>289</th>\n",
       "      <td>90.000000</td>\n",
       "      <td>1</td>\n",
       "      <td>337</td>\n",
       "      <td>0</td>\n",
       "      <td>38</td>\n",
       "      <td>0</td>\n",
       "      <td>390000.000000</td>\n",
       "      <td>0.900000</td>\n",
       "      <td>144</td>\n",
       "      <td>0</td>\n",
       "      <td>0</td>\n",
       "      <td>256</td>\n",
       "    </tr>\n",
       "    <tr>\n",
       "      <th>187</th>\n",
       "      <td>60.000000</td>\n",
       "      <td>0</td>\n",
       "      <td>1896</td>\n",
       "      <td>1</td>\n",
       "      <td>25</td>\n",
       "      <td>0</td>\n",
       "      <td>365000.000000</td>\n",
       "      <td>2.100000</td>\n",
       "      <td>144</td>\n",
       "      <td>0</td>\n",
       "      <td>0</td>\n",
       "      <td>172</td>\n",
       "    </tr>\n",
       "    <tr>\n",
       "      <th>20</th>\n",
       "      <td>65.000000</td>\n",
       "      <td>1</td>\n",
       "      <td>52</td>\n",
       "      <td>0</td>\n",
       "      <td>25</td>\n",
       "      <td>1</td>\n",
       "      <td>276000.000000</td>\n",
       "      <td>1.300000</td>\n",
       "      <td>137</td>\n",
       "      <td>0</td>\n",
       "      <td>0</td>\n",
       "      <td>16</td>\n",
       "    </tr>\n",
       "  </tbody>\n",
       "</table>\n",
       "</div>"
      ],
      "text/plain": [
       "          age  anaemia  creatinine_phosphokinase  diabetes  ejection_fraction  \\\n",
       "75  60.000000        1                        47         0                 20   \n",
       "209 49.000000        0                       972         1                 35   \n",
       "289 90.000000        1                       337         0                 38   \n",
       "187 60.000000        0                      1896         1                 25   \n",
       "20  65.000000        1                        52         0                 25   \n",
       "\n",
       "     high_blood_pressure     platelets  serum_creatinine  serum_sodium  sex  \\\n",
       "75                     0 204000.000000          0.700000           139    1   \n",
       "209                    1 268000.000000          0.800000           130    0   \n",
       "289                    0 390000.000000          0.900000           144    0   \n",
       "187                    0 365000.000000          2.100000           144    0   \n",
       "20                     1 276000.000000          1.300000           137    0   \n",
       "\n",
       "     smoking  time  \n",
       "75         1    73  \n",
       "209        0   187  \n",
       "289        0   256  \n",
       "187        0   172  \n",
       "20         0    16  "
      ]
     },
     "execution_count": 71,
     "metadata": {},
     "output_type": "execute_result"
    }
   ],
   "source": [
    "X_dec_train.head()"
   ]
  },
  {
   "cell_type": "code",
   "execution_count": 72,
   "metadata": {},
   "outputs": [
    {
     "name": "stdout",
     "output_type": "stream",
     "text": [
      "              precision    recall  f1-score   support\n",
      "\n",
      "           0       0.86      0.93      0.90        61\n",
      "           1       0.83      0.69      0.75        29\n",
      "\n",
      "    accuracy                           0.86        90\n",
      "   macro avg       0.85      0.81      0.83        90\n",
      "weighted avg       0.85      0.86      0.85        90\n",
      "\n"
     ]
    }
   ],
   "source": [
    "print(get_test_report(rf_model_tune, X_dec_test, y_dec_test))"
   ]
  },
  {
   "cell_type": "code",
   "execution_count": 73,
   "metadata": {},
   "outputs": [
    {
     "data": {
      "image/png": "[encoded data removed]",
      "text/plain": [
       "<Figure size 1080x576 with 1 Axes>"
      ]
     },
     "metadata": {
      "needs_background": "light"
     },
     "output_type": "display_data"
    }
   ],
   "source": [
    "plot_confusion_matrix(rf_model_tune, X_dec_test, y_dec_test)"
   ]
  },
  {
   "cell_type": "code",
   "execution_count": 74,
   "metadata": {},
   "outputs": [
    {
     "data": {
      "image/png": "[encoded data removed]",
      "text/plain": [
       "<Figure size 1080x576 with 1 Axes>"
      ]
     },
     "metadata": {
      "needs_background": "light"
     },
     "output_type": "display_data"
    }
   ],
   "source": [
    "plot_roc(rf_model_tune, X_dec_test, y_dec_test)"
   ]
  },
  {
   "cell_type": "code",
   "execution_count": 75,
   "metadata": {},
   "outputs": [],
   "source": [
    "models_summary = update_model_summary(rf_model_tune, X_dec_test, y_dec_test, \"Random Forest - Tuned Hyperparameter\")"
   ]
  },
  {
   "cell_type": "code",
   "execution_count": 76,
   "metadata": {},
   "outputs": [
    {
     "data": {
      "text/html": [
       "<div>\n",
       "<style scoped>\n",
       "    .dataframe tbody tr th:only-of-type {\n",
       "        vertical-align: middle;\n",
       "    }\n",
       "\n",
       "    .dataframe tbody tr th {\n",
       "        vertical-align: top;\n",
       "    }\n",
       "\n",
       "    .dataframe thead th {\n",
       "        text-align: right;\n",
       "    }\n",
       "</style>\n",
       "<table border=\"1\" class=\"dataframe\">\n",
       "  <thead>\n",
       "    <tr style=\"text-align: right;\">\n",
       "      <th></th>\n",
       "      <th>Model_name</th>\n",
       "      <th>AUC_score</th>\n",
       "      <th>Accuracy</th>\n",
       "      <th>Precision</th>\n",
       "      <th>Recall</th>\n",
       "      <th>F1_score</th>\n",
       "    </tr>\n",
       "  </thead>\n",
       "  <tbody>\n",
       "    <tr>\n",
       "      <th>0</th>\n",
       "      <td>Logistic model</td>\n",
       "      <td>0.853000</td>\n",
       "      <td>0.777778</td>\n",
       "      <td>0.636364</td>\n",
       "      <td>0.724138</td>\n",
       "      <td>0.677419</td>\n",
       "    </tr>\n",
       "    <tr>\n",
       "      <th>1</th>\n",
       "      <td>GaussianNB model</td>\n",
       "      <td>0.803300</td>\n",
       "      <td>0.777778</td>\n",
       "      <td>0.666667</td>\n",
       "      <td>0.620690</td>\n",
       "      <td>0.642857</td>\n",
       "    </tr>\n",
       "    <tr>\n",
       "      <th>2</th>\n",
       "      <td>KNN model</td>\n",
       "      <td>0.714200</td>\n",
       "      <td>0.722222</td>\n",
       "      <td>0.576923</td>\n",
       "      <td>0.517241</td>\n",
       "      <td>0.545455</td>\n",
       "    </tr>\n",
       "    <tr>\n",
       "      <th>3</th>\n",
       "      <td>KNN model</td>\n",
       "      <td>0.714200</td>\n",
       "      <td>0.722222</td>\n",
       "      <td>0.576923</td>\n",
       "      <td>0.517241</td>\n",
       "      <td>0.545455</td>\n",
       "    </tr>\n",
       "    <tr>\n",
       "      <th>4</th>\n",
       "      <td>KNN best model(manhattan - 5)</td>\n",
       "      <td>0.753800</td>\n",
       "      <td>0.722222</td>\n",
       "      <td>0.611111</td>\n",
       "      <td>0.379310</td>\n",
       "      <td>0.468085</td>\n",
       "    </tr>\n",
       "    <tr>\n",
       "      <th>5</th>\n",
       "      <td>Decission Tree - Entropy</td>\n",
       "      <td>0.727500</td>\n",
       "      <td>0.777778</td>\n",
       "      <td>0.680000</td>\n",
       "      <td>0.586207</td>\n",
       "      <td>0.629630</td>\n",
       "    </tr>\n",
       "    <tr>\n",
       "      <th>6</th>\n",
       "      <td>Decission Tree - Gini</td>\n",
       "      <td>0.770200</td>\n",
       "      <td>0.811111</td>\n",
       "      <td>0.730769</td>\n",
       "      <td>0.655172</td>\n",
       "      <td>0.690909</td>\n",
       "    </tr>\n",
       "    <tr>\n",
       "      <th>7</th>\n",
       "      <td>Random Forest</td>\n",
       "      <td>0.886100</td>\n",
       "      <td>0.855556</td>\n",
       "      <td>0.833333</td>\n",
       "      <td>0.689655</td>\n",
       "      <td>0.754717</td>\n",
       "    </tr>\n",
       "    <tr>\n",
       "      <th>8</th>\n",
       "      <td>Random Forest - Tuned Hyperparameter</td>\n",
       "      <td>0.896300</td>\n",
       "      <td>0.855556</td>\n",
       "      <td>0.833333</td>\n",
       "      <td>0.689655</td>\n",
       "      <td>0.754717</td>\n",
       "    </tr>\n",
       "  </tbody>\n",
       "</table>\n",
       "</div>"
      ],
      "text/plain": [
       "                             Model_name  AUC_score  Accuracy  Precision  \\\n",
       "0                        Logistic model   0.853000  0.777778   0.636364   \n",
       "1                      GaussianNB model   0.803300  0.777778   0.666667   \n",
       "2                             KNN model   0.714200  0.722222   0.576923   \n",
       "3                             KNN model   0.714200  0.722222   0.576923   \n",
       "4         KNN best model(manhattan - 5)   0.753800  0.722222   0.611111   \n",
       "5              Decission Tree - Entropy   0.727500  0.777778   0.680000   \n",
       "6                 Decission Tree - Gini   0.770200  0.811111   0.730769   \n",
       "7                         Random Forest   0.886100  0.855556   0.833333   \n",
       "8  Random Forest - Tuned Hyperparameter   0.896300  0.855556   0.833333   \n",
       "\n",
       "    Recall  F1_score  \n",
       "0 0.724138  0.677419  \n",
       "1 0.620690  0.642857  \n",
       "2 0.517241  0.545455  \n",
       "3 0.517241  0.545455  \n",
       "4 0.379310  0.468085  \n",
       "5 0.586207  0.629630  \n",
       "6 0.655172  0.690909  \n",
       "7 0.689655  0.754717  \n",
       "8 0.689655  0.754717  "
      ]
     },
     "execution_count": 76,
     "metadata": {},
     "output_type": "execute_result"
    }
   ],
   "source": [
    "models_summary"
   ]
  },
  {
   "cell_type": "code",
   "execution_count": 77,
   "metadata": {},
   "outputs": [],
   "source": [
    "base_model_summary = models_summary.copy()"
   ]
  },
  {
   "cell_type": "code",
   "execution_count": 79,
   "metadata": {},
   "outputs": [
    {
     "data": {
      "text/html": [
       "<div>\n",
       "<style scoped>\n",
       "    .dataframe tbody tr th:only-of-type {\n",
       "        vertical-align: middle;\n",
       "    }\n",
       "\n",
       "    .dataframe tbody tr th {\n",
       "        vertical-align: top;\n",
       "    }\n",
       "\n",
       "    .dataframe thead th {\n",
       "        text-align: right;\n",
       "    }\n",
       "</style>\n",
       "<table border=\"1\" class=\"dataframe\">\n",
       "  <thead>\n",
       "    <tr style=\"text-align: right;\">\n",
       "      <th></th>\n",
       "      <th>Model_name</th>\n",
       "      <th>AUC_score</th>\n",
       "      <th>Accuracy</th>\n",
       "      <th>Precision</th>\n",
       "      <th>Recall</th>\n",
       "      <th>F1_score</th>\n",
       "    </tr>\n",
       "  </thead>\n",
       "  <tbody>\n",
       "    <tr>\n",
       "      <th>8</th>\n",
       "      <td>Random Forest - Tuned Hyperparameter</td>\n",
       "      <td>0.896300</td>\n",
       "      <td>0.855556</td>\n",
       "      <td>0.833333</td>\n",
       "      <td>0.689655</td>\n",
       "      <td>0.754717</td>\n",
       "    </tr>\n",
       "    <tr>\n",
       "      <th>7</th>\n",
       "      <td>Random Forest</td>\n",
       "      <td>0.886100</td>\n",
       "      <td>0.855556</td>\n",
       "      <td>0.833333</td>\n",
       "      <td>0.689655</td>\n",
       "      <td>0.754717</td>\n",
       "    </tr>\n",
       "    <tr>\n",
       "      <th>0</th>\n",
       "      <td>Logistic model</td>\n",
       "      <td>0.853000</td>\n",
       "      <td>0.777778</td>\n",
       "      <td>0.636364</td>\n",
       "      <td>0.724138</td>\n",
       "      <td>0.677419</td>\n",
       "    </tr>\n",
       "    <tr>\n",
       "      <th>1</th>\n",
       "      <td>GaussianNB model</td>\n",
       "      <td>0.803300</td>\n",
       "      <td>0.777778</td>\n",
       "      <td>0.666667</td>\n",
       "      <td>0.620690</td>\n",
       "      <td>0.642857</td>\n",
       "    </tr>\n",
       "    <tr>\n",
       "      <th>6</th>\n",
       "      <td>Decission Tree - Gini</td>\n",
       "      <td>0.770200</td>\n",
       "      <td>0.811111</td>\n",
       "      <td>0.730769</td>\n",
       "      <td>0.655172</td>\n",
       "      <td>0.690909</td>\n",
       "    </tr>\n",
       "    <tr>\n",
       "      <th>4</th>\n",
       "      <td>KNN best model(manhattan - 5)</td>\n",
       "      <td>0.753800</td>\n",
       "      <td>0.722222</td>\n",
       "      <td>0.611111</td>\n",
       "      <td>0.379310</td>\n",
       "      <td>0.468085</td>\n",
       "    </tr>\n",
       "    <tr>\n",
       "      <th>5</th>\n",
       "      <td>Decission Tree - Entropy</td>\n",
       "      <td>0.727500</td>\n",
       "      <td>0.777778</td>\n",
       "      <td>0.680000</td>\n",
       "      <td>0.586207</td>\n",
       "      <td>0.629630</td>\n",
       "    </tr>\n",
       "    <tr>\n",
       "      <th>2</th>\n",
       "      <td>KNN model</td>\n",
       "      <td>0.714200</td>\n",
       "      <td>0.722222</td>\n",
       "      <td>0.576923</td>\n",
       "      <td>0.517241</td>\n",
       "      <td>0.545455</td>\n",
       "    </tr>\n",
       "    <tr>\n",
       "      <th>3</th>\n",
       "      <td>KNN model</td>\n",
       "      <td>0.714200</td>\n",
       "      <td>0.722222</td>\n",
       "      <td>0.576923</td>\n",
       "      <td>0.517241</td>\n",
       "      <td>0.545455</td>\n",
       "    </tr>\n",
       "  </tbody>\n",
       "</table>\n",
       "</div>"
      ],
      "text/plain": [
       "                             Model_name  AUC_score  Accuracy  Precision  \\\n",
       "8  Random Forest - Tuned Hyperparameter   0.896300  0.855556   0.833333   \n",
       "7                         Random Forest   0.886100  0.855556   0.833333   \n",
       "0                        Logistic model   0.853000  0.777778   0.636364   \n",
       "1                      GaussianNB model   0.803300  0.777778   0.666667   \n",
       "6                 Decission Tree - Gini   0.770200  0.811111   0.730769   \n",
       "4         KNN best model(manhattan - 5)   0.753800  0.722222   0.611111   \n",
       "5              Decission Tree - Entropy   0.727500  0.777778   0.680000   \n",
       "2                             KNN model   0.714200  0.722222   0.576923   \n",
       "3                             KNN model   0.714200  0.722222   0.576923   \n",
       "\n",
       "    Recall  F1_score  \n",
       "8 0.689655  0.754717  \n",
       "7 0.689655  0.754717  \n",
       "0 0.724138  0.677419  \n",
       "1 0.620690  0.642857  \n",
       "6 0.655172  0.690909  \n",
       "4 0.379310  0.468085  \n",
       "5 0.586207  0.629630  \n",
       "2 0.517241  0.545455  \n",
       "3 0.517241  0.545455  "
      ]
     },
     "execution_count": 79,
     "metadata": {},
     "output_type": "execute_result"
    }
   ],
   "source": [
    "base_model_summary.sort_values(\"AUC_score\", ascending=False)"
   ]
  },
  {
   "cell_type": "markdown",
   "metadata": {},
   "source": [
    "# Improvization"
   ]
  },
  {
   "cell_type": "markdown",
   "metadata": {},
   "source": [
    "## Logistic"
   ]
  },
  {
   "cell_type": "markdown",
   "metadata": {},
   "source": [
    "## RFE"
   ]
  },
  {
   "cell_type": "code",
   "execution_count": 80,
   "metadata": {},
   "outputs": [
    {
     "name": "stdout",
     "output_type": "stream",
     "text": [
      "Index(['age', 'diabetes', 'ejection_fraction', 'serum_creatinine',\n",
      "       'serum_sodium', 'time'],\n",
      "      dtype='object')\n"
     ]
    }
   ],
   "source": [
    "rfe_model = RFE(estimator=lr)\n",
    "rfe_model = rfe_model.fit(X_train, y_train)\n",
    "feat_index = pd.Series(data = rfe_model.ranking_, index = X_train.columns)\n",
    "signi_feat_rfe = feat_index[feat_index==1].index\n",
    "print(signi_feat_rfe)"
   ]
  },
  {
   "cell_type": "code",
   "execution_count": 81,
   "metadata": {},
   "outputs": [
    {
     "data": {
      "text/html": [
       "<div>\n",
       "<style scoped>\n",
       "    .dataframe tbody tr th:only-of-type {\n",
       "        vertical-align: middle;\n",
       "    }\n",
       "\n",
       "    .dataframe tbody tr th {\n",
       "        vertical-align: top;\n",
       "    }\n",
       "\n",
       "    .dataframe thead th {\n",
       "        text-align: right;\n",
       "    }\n",
       "</style>\n",
       "<table border=\"1\" class=\"dataframe\">\n",
       "  <thead>\n",
       "    <tr style=\"text-align: right;\">\n",
       "      <th></th>\n",
       "      <th>age</th>\n",
       "      <th>diabetes</th>\n",
       "      <th>ejection_fraction</th>\n",
       "      <th>serum_creatinine</th>\n",
       "      <th>serum_sodium</th>\n",
       "      <th>time</th>\n",
       "    </tr>\n",
       "  </thead>\n",
       "  <tbody>\n",
       "    <tr>\n",
       "      <th>0</th>\n",
       "      <td>1.192945</td>\n",
       "      <td>-0.847579</td>\n",
       "      <td>-1.530560</td>\n",
       "      <td>0.490057</td>\n",
       "      <td>-1.504036</td>\n",
       "      <td>-1.629502</td>\n",
       "    </tr>\n",
       "    <tr>\n",
       "      <th>1</th>\n",
       "      <td>-0.491279</td>\n",
       "      <td>-0.847579</td>\n",
       "      <td>-0.007077</td>\n",
       "      <td>-0.284552</td>\n",
       "      <td>-0.141976</td>\n",
       "      <td>-1.603691</td>\n",
       "    </tr>\n",
       "    <tr>\n",
       "      <th>2</th>\n",
       "      <td>0.350833</td>\n",
       "      <td>-0.847579</td>\n",
       "      <td>-1.530560</td>\n",
       "      <td>-0.090900</td>\n",
       "      <td>-1.731046</td>\n",
       "      <td>-1.590785</td>\n",
       "    </tr>\n",
       "    <tr>\n",
       "      <th>3</th>\n",
       "      <td>-0.912335</td>\n",
       "      <td>-0.847579</td>\n",
       "      <td>-1.530560</td>\n",
       "      <td>0.490057</td>\n",
       "      <td>0.085034</td>\n",
       "      <td>-1.590785</td>\n",
       "    </tr>\n",
       "    <tr>\n",
       "      <th>4</th>\n",
       "      <td>0.350833</td>\n",
       "      <td>1.179830</td>\n",
       "      <td>-1.530560</td>\n",
       "      <td>1.264666</td>\n",
       "      <td>-4.682176</td>\n",
       "      <td>-1.577879</td>\n",
       "    </tr>\n",
       "  </tbody>\n",
       "</table>\n",
       "</div>"
      ],
      "text/plain": [
       "        age  diabetes  ejection_fraction  serum_creatinine  serum_sodium  \\\n",
       "0  1.192945 -0.847579          -1.530560          0.490057     -1.504036   \n",
       "1 -0.491279 -0.847579          -0.007077         -0.284552     -0.141976   \n",
       "2  0.350833 -0.847579          -1.530560         -0.090900     -1.731046   \n",
       "3 -0.912335 -0.847579          -1.530560          0.490057      0.085034   \n",
       "4  0.350833  1.179830          -1.530560          1.264666     -4.682176   \n",
       "\n",
       "       time  \n",
       "0 -1.629502  \n",
       "1 -1.603691  \n",
       "2 -1.590785  \n",
       "3 -1.590785  \n",
       "4 -1.577879  "
      ]
     },
     "execution_count": 81,
     "metadata": {},
     "output_type": "execute_result"
    }
   ],
   "source": [
    "X_rfe = X[signi_feat_rfe]\n",
    "X_rfe.head()"
   ]
  },
  {
   "cell_type": "code",
   "execution_count": 82,
   "metadata": {},
   "outputs": [
    {
     "data": {
      "text/plain": [
       "((209, 6), (90, 6), (209,), (90,))"
      ]
     },
     "execution_count": 82,
     "metadata": {},
     "output_type": "execute_result"
    }
   ],
   "source": [
    "X_rfe_train, X_rfe_test, y_rfe_train, y_rfe_test = train_test_split(X_rfe, y, test_size =   0.3, random_state = 0) \n",
    "X_rfe_train.shape, X_rfe_test.shape, y_rfe_train.shape, y_rfe_test.shape"
   ]
  },
  {
   "cell_type": "code",
   "execution_count": 83,
   "metadata": {},
   "outputs": [],
   "source": [
    "logistic_model_rfe = lr.fit(X_rfe_train, y_rfe_train)"
   ]
  },
  {
   "cell_type": "code",
   "execution_count": 84,
   "metadata": {},
   "outputs": [
    {
     "name": "stdout",
     "output_type": "stream",
     "text": [
      "              precision    recall  f1-score   support\n",
      "\n",
      "           0       0.81      0.95      0.87        62\n",
      "           1       0.82      0.50      0.62        28\n",
      "\n",
      "    accuracy                           0.81        90\n",
      "   macro avg       0.82      0.73      0.75        90\n",
      "weighted avg       0.81      0.81      0.80        90\n",
      "\n"
     ]
    }
   ],
   "source": [
    "test_report = get_test_report(logistic_model_rfe, X_rfe_test, y_rfe_test)\n",
    "print(test_report)"
   ]
  },
  {
   "cell_type": "code",
   "execution_count": 85,
   "metadata": {},
   "outputs": [
    {
     "data": {
      "image/png": "[encoded data removed]",
      "text/plain": [
       "<Figure size 1080x576 with 1 Axes>"
      ]
     },
     "metadata": {
      "needs_background": "light"
     },
     "output_type": "display_data"
    }
   ],
   "source": [
    "plot_roc(logistic_model_rfe, X_rfe_test, y_rfe_test)"
   ]
  },
  {
   "cell_type": "code",
   "execution_count": 86,
   "metadata": {},
   "outputs": [
    {
     "data": {
      "image/png": "[encoded data removed]",
      "text/plain": [
       "<Figure size 1080x576 with 1 Axes>"
      ]
     },
     "metadata": {
      "needs_background": "light"
     },
     "output_type": "display_data"
    }
   ],
   "source": [
    "plot_confusion_matrix(logistic_model_rfe, X_rfe_test, y_rfe_test)"
   ]
  },
  {
   "cell_type": "code",
   "execution_count": 87,
   "metadata": {},
   "outputs": [],
   "source": [
    "models_summary = update_model_summary(logistic_model_rfe, X_rfe_test, y_rfe_test, \"Logistic Model from RFE\")"
   ]
  },
  {
   "cell_type": "code",
   "execution_count": 88,
   "metadata": {},
   "outputs": [
    {
     "data": {
      "text/html": [
       "<div>\n",
       "<style scoped>\n",
       "    .dataframe tbody tr th:only-of-type {\n",
       "        vertical-align: middle;\n",
       "    }\n",
       "\n",
       "    .dataframe tbody tr th {\n",
       "        vertical-align: top;\n",
       "    }\n",
       "\n",
       "    .dataframe thead th {\n",
       "        text-align: right;\n",
       "    }\n",
       "</style>\n",
       "<table border=\"1\" class=\"dataframe\">\n",
       "  <thead>\n",
       "    <tr style=\"text-align: right;\">\n",
       "      <th></th>\n",
       "      <th>Model_name</th>\n",
       "      <th>AUC_score</th>\n",
       "      <th>Accuracy</th>\n",
       "      <th>Precision</th>\n",
       "      <th>Recall</th>\n",
       "      <th>F1_score</th>\n",
       "    </tr>\n",
       "  </thead>\n",
       "  <tbody>\n",
       "    <tr>\n",
       "      <th>0</th>\n",
       "      <td>Logistic model</td>\n",
       "      <td>0.853000</td>\n",
       "      <td>0.777778</td>\n",
       "      <td>0.636364</td>\n",
       "      <td>0.724138</td>\n",
       "      <td>0.677419</td>\n",
       "    </tr>\n",
       "    <tr>\n",
       "      <th>1</th>\n",
       "      <td>GaussianNB model</td>\n",
       "      <td>0.803300</td>\n",
       "      <td>0.777778</td>\n",
       "      <td>0.666667</td>\n",
       "      <td>0.620690</td>\n",
       "      <td>0.642857</td>\n",
       "    </tr>\n",
       "    <tr>\n",
       "      <th>2</th>\n",
       "      <td>KNN model</td>\n",
       "      <td>0.714200</td>\n",
       "      <td>0.722222</td>\n",
       "      <td>0.576923</td>\n",
       "      <td>0.517241</td>\n",
       "      <td>0.545455</td>\n",
       "    </tr>\n",
       "    <tr>\n",
       "      <th>3</th>\n",
       "      <td>KNN model</td>\n",
       "      <td>0.714200</td>\n",
       "      <td>0.722222</td>\n",
       "      <td>0.576923</td>\n",
       "      <td>0.517241</td>\n",
       "      <td>0.545455</td>\n",
       "    </tr>\n",
       "    <tr>\n",
       "      <th>4</th>\n",
       "      <td>KNN best model(manhattan - 5)</td>\n",
       "      <td>0.753800</td>\n",
       "      <td>0.722222</td>\n",
       "      <td>0.611111</td>\n",
       "      <td>0.379310</td>\n",
       "      <td>0.468085</td>\n",
       "    </tr>\n",
       "    <tr>\n",
       "      <th>5</th>\n",
       "      <td>Decission Tree - Entropy</td>\n",
       "      <td>0.727500</td>\n",
       "      <td>0.777778</td>\n",
       "      <td>0.680000</td>\n",
       "      <td>0.586207</td>\n",
       "      <td>0.629630</td>\n",
       "    </tr>\n",
       "    <tr>\n",
       "      <th>6</th>\n",
       "      <td>Decission Tree - Gini</td>\n",
       "      <td>0.770200</td>\n",
       "      <td>0.811111</td>\n",
       "      <td>0.730769</td>\n",
       "      <td>0.655172</td>\n",
       "      <td>0.690909</td>\n",
       "    </tr>\n",
       "    <tr>\n",
       "      <th>7</th>\n",
       "      <td>Random Forest</td>\n",
       "      <td>0.886100</td>\n",
       "      <td>0.855556</td>\n",
       "      <td>0.833333</td>\n",
       "      <td>0.689655</td>\n",
       "      <td>0.754717</td>\n",
       "    </tr>\n",
       "    <tr>\n",
       "      <th>8</th>\n",
       "      <td>Random Forest - Tuned Hyperparameter</td>\n",
       "      <td>0.896300</td>\n",
       "      <td>0.855556</td>\n",
       "      <td>0.833333</td>\n",
       "      <td>0.689655</td>\n",
       "      <td>0.754717</td>\n",
       "    </tr>\n",
       "    <tr>\n",
       "      <th>9</th>\n",
       "      <td>Logistic Model from RFE</td>\n",
       "      <td>0.874400</td>\n",
       "      <td>0.811111</td>\n",
       "      <td>0.823529</td>\n",
       "      <td>0.500000</td>\n",
       "      <td>0.622222</td>\n",
       "    </tr>\n",
       "  </tbody>\n",
       "</table>\n",
       "</div>"
      ],
      "text/plain": [
       "                             Model_name  AUC_score  Accuracy  Precision  \\\n",
       "0                        Logistic model   0.853000  0.777778   0.636364   \n",
       "1                      GaussianNB model   0.803300  0.777778   0.666667   \n",
       "2                             KNN model   0.714200  0.722222   0.576923   \n",
       "3                             KNN model   0.714200  0.722222   0.576923   \n",
       "4         KNN best model(manhattan - 5)   0.753800  0.722222   0.611111   \n",
       "5              Decission Tree - Entropy   0.727500  0.777778   0.680000   \n",
       "6                 Decission Tree - Gini   0.770200  0.811111   0.730769   \n",
       "7                         Random Forest   0.886100  0.855556   0.833333   \n",
       "8  Random Forest - Tuned Hyperparameter   0.896300  0.855556   0.833333   \n",
       "9               Logistic Model from RFE   0.874400  0.811111   0.823529   \n",
       "\n",
       "    Recall  F1_score  \n",
       "0 0.724138  0.677419  \n",
       "1 0.620690  0.642857  \n",
       "2 0.517241  0.545455  \n",
       "3 0.517241  0.545455  \n",
       "4 0.379310  0.468085  \n",
       "5 0.586207  0.629630  \n",
       "6 0.655172  0.690909  \n",
       "7 0.689655  0.754717  \n",
       "8 0.689655  0.754717  \n",
       "9 0.500000  0.622222  "
      ]
     },
     "execution_count": 88,
     "metadata": {},
     "output_type": "execute_result"
    }
   ],
   "source": [
    "models_summary"
   ]
  },
  {
   "cell_type": "markdown",
   "metadata": {},
   "source": [
    "## Forward Elimination"
   ]
  },
  {
   "cell_type": "code",
   "execution_count": 89,
   "metadata": {},
   "outputs": [],
   "source": [
    "lr_forward = sfs(estimator = lr, k_features = 'best', forward = True)\n",
    "sfs_forward = lr_forward.fit(X_train, y_train)"
   ]
  },
  {
   "cell_type": "code",
   "execution_count": 90,
   "metadata": {},
   "outputs": [
    {
     "name": "stdout",
     "output_type": "stream",
     "text": [
      "Features selelected using forward selection are: \n",
      "['age', 'anaemia', 'creatinine_phosphokinase', 'high_blood_pressure', 'serum_creatinine', 'serum_sodium', 'time']\n",
      "\n",
      "Accuracy:  0.8567944250871081\n"
     ]
    }
   ],
   "source": [
    "print('Features selelected using forward selection are: ')\n",
    "sfs_forward_features = list(sfs_forward.k_feature_names_)\n",
    "print(sfs_forward_features)\n",
    "print('\\nAccuracy: ', sfs_forward.k_score_)"
   ]
  },
  {
   "cell_type": "code",
   "execution_count": 91,
   "metadata": {},
   "outputs": [
    {
     "data": {
      "text/html": [
       "<div>\n",
       "<style scoped>\n",
       "    .dataframe tbody tr th:only-of-type {\n",
       "        vertical-align: middle;\n",
       "    }\n",
       "\n",
       "    .dataframe tbody tr th {\n",
       "        vertical-align: top;\n",
       "    }\n",
       "\n",
       "    .dataframe thead th {\n",
       "        text-align: right;\n",
       "    }\n",
       "</style>\n",
       "<table border=\"1\" class=\"dataframe\">\n",
       "  <thead>\n",
       "    <tr style=\"text-align: right;\">\n",
       "      <th></th>\n",
       "      <th>age</th>\n",
       "      <th>anaemia</th>\n",
       "      <th>creatinine_phosphokinase</th>\n",
       "      <th>high_blood_pressure</th>\n",
       "      <th>serum_creatinine</th>\n",
       "      <th>serum_sodium</th>\n",
       "      <th>time</th>\n",
       "    </tr>\n",
       "  </thead>\n",
       "  <tbody>\n",
       "    <tr>\n",
       "      <th>0</th>\n",
       "      <td>1.192945</td>\n",
       "      <td>-0.871105</td>\n",
       "      <td>0.000166</td>\n",
       "      <td>1.359272</td>\n",
       "      <td>0.490057</td>\n",
       "      <td>-1.504036</td>\n",
       "      <td>-1.629502</td>\n",
       "    </tr>\n",
       "    <tr>\n",
       "      <th>1</th>\n",
       "      <td>-0.491279</td>\n",
       "      <td>-0.871105</td>\n",
       "      <td>7.514640</td>\n",
       "      <td>-0.735688</td>\n",
       "      <td>-0.284552</td>\n",
       "      <td>-0.141976</td>\n",
       "      <td>-1.603691</td>\n",
       "    </tr>\n",
       "    <tr>\n",
       "      <th>2</th>\n",
       "      <td>0.350833</td>\n",
       "      <td>-0.871105</td>\n",
       "      <td>-0.449939</td>\n",
       "      <td>-0.735688</td>\n",
       "      <td>-0.090900</td>\n",
       "      <td>-1.731046</td>\n",
       "      <td>-1.590785</td>\n",
       "    </tr>\n",
       "    <tr>\n",
       "      <th>3</th>\n",
       "      <td>-0.912335</td>\n",
       "      <td>1.147968</td>\n",
       "      <td>-0.486071</td>\n",
       "      <td>-0.735688</td>\n",
       "      <td>0.490057</td>\n",
       "      <td>0.085034</td>\n",
       "      <td>-1.590785</td>\n",
       "    </tr>\n",
       "    <tr>\n",
       "      <th>4</th>\n",
       "      <td>0.350833</td>\n",
       "      <td>1.147968</td>\n",
       "      <td>-0.435486</td>\n",
       "      <td>-0.735688</td>\n",
       "      <td>1.264666</td>\n",
       "      <td>-4.682176</td>\n",
       "      <td>-1.577879</td>\n",
       "    </tr>\n",
       "  </tbody>\n",
       "</table>\n",
       "</div>"
      ],
      "text/plain": [
       "        age   anaemia  creatinine_phosphokinase  high_blood_pressure  \\\n",
       "0  1.192945 -0.871105                  0.000166             1.359272   \n",
       "1 -0.491279 -0.871105                  7.514640            -0.735688   \n",
       "2  0.350833 -0.871105                 -0.449939            -0.735688   \n",
       "3 -0.912335  1.147968                 -0.486071            -0.735688   \n",
       "4  0.350833  1.147968                 -0.435486            -0.735688   \n",
       "\n",
       "   serum_creatinine  serum_sodium      time  \n",
       "0          0.490057     -1.504036 -1.629502  \n",
       "1         -0.284552     -0.141976 -1.603691  \n",
       "2         -0.090900     -1.731046 -1.590785  \n",
       "3          0.490057      0.085034 -1.590785  \n",
       "4          1.264666     -4.682176 -1.577879  "
      ]
     },
     "execution_count": 91,
     "metadata": {},
     "output_type": "execute_result"
    }
   ],
   "source": [
    "X_lr_fr = X[sfs_forward_features]\n",
    "X_lr_fr.head()"
   ]
  },
  {
   "cell_type": "code",
   "execution_count": 92,
   "metadata": {},
   "outputs": [
    {
     "data": {
      "text/plain": [
       "((209, 7), (90, 7), (209,), (90,))"
      ]
     },
     "execution_count": 92,
     "metadata": {},
     "output_type": "execute_result"
    }
   ],
   "source": [
    "X_lr_fr_train, X_lr_fr_test, y_lr_fr_train, y_lr_fr_test = train_test_split(X_lr_fr, y, test_size =   0.3, random_state = 0) \n",
    "X_lr_fr_train.shape, X_lr_fr_test.shape, y_lr_fr_train.shape, y_lr_fr_test.shape"
   ]
  },
  {
   "cell_type": "code",
   "execution_count": 93,
   "metadata": {},
   "outputs": [],
   "source": [
    "logistic_model_lr_fr = lr.fit(X_lr_fr_train, y_lr_fr_train)"
   ]
  },
  {
   "cell_type": "code",
   "execution_count": 94,
   "metadata": {},
   "outputs": [
    {
     "name": "stdout",
     "output_type": "stream",
     "text": [
      "              precision    recall  f1-score   support\n",
      "\n",
      "           0       0.86      0.97      0.91        62\n",
      "           1       0.90      0.64      0.75        28\n",
      "\n",
      "    accuracy                           0.87        90\n",
      "   macro avg       0.88      0.81      0.83        90\n",
      "weighted avg       0.87      0.87      0.86        90\n",
      "\n"
     ]
    }
   ],
   "source": [
    "test_report = get_test_report(logistic_model_lr_fr, X_lr_fr_test, y_lr_fr_test)\n",
    "print(test_report)"
   ]
  },
  {
   "cell_type": "code",
   "execution_count": 95,
   "metadata": {},
   "outputs": [
    {
     "data": {
      "image/png": "[encoded data removed]",
      "text/plain": [
       "<Figure size 1080x576 with 1 Axes>"
      ]
     },
     "metadata": {
      "needs_background": "light"
     },
     "output_type": "display_data"
    }
   ],
   "source": [
    "plot_roc(logistic_model_lr_fr, X_lr_fr_test, y_lr_fr_test)"
   ]
  },
  {
   "cell_type": "code",
   "execution_count": 96,
   "metadata": {},
   "outputs": [
    {
     "data": {
      "image/png": "[encoded data removed]",
      "text/plain": [
       "<Figure size 1080x576 with 1 Axes>"
      ]
     },
     "metadata": {
      "needs_background": "light"
     },
     "output_type": "display_data"
    }
   ],
   "source": [
    "plot_confusion_matrix(logistic_model_lr_fr, X_lr_fr_test, y_lr_fr_test)"
   ]
  },
  {
   "cell_type": "code",
   "execution_count": 97,
   "metadata": {},
   "outputs": [],
   "source": [
    "models_summary = update_model_summary(logistic_model_lr_fr, X_lr_fr_test, y_lr_fr_test, \"Logistic Model from Forward Selection\")"
   ]
  },
  {
   "cell_type": "code",
   "execution_count": 98,
   "metadata": {},
   "outputs": [
    {
     "data": {
      "text/html": [
       "<div>\n",
       "<style scoped>\n",
       "    .dataframe tbody tr th:only-of-type {\n",
       "        vertical-align: middle;\n",
       "    }\n",
       "\n",
       "    .dataframe tbody tr th {\n",
       "        vertical-align: top;\n",
       "    }\n",
       "\n",
       "    .dataframe thead th {\n",
       "        text-align: right;\n",
       "    }\n",
       "</style>\n",
       "<table border=\"1\" class=\"dataframe\">\n",
       "  <thead>\n",
       "    <tr style=\"text-align: right;\">\n",
       "      <th></th>\n",
       "      <th>Model_name</th>\n",
       "      <th>AUC_score</th>\n",
       "      <th>Accuracy</th>\n",
       "      <th>Precision</th>\n",
       "      <th>Recall</th>\n",
       "      <th>F1_score</th>\n",
       "    </tr>\n",
       "  </thead>\n",
       "  <tbody>\n",
       "    <tr>\n",
       "      <th>0</th>\n",
       "      <td>Logistic model</td>\n",
       "      <td>0.853000</td>\n",
       "      <td>0.777778</td>\n",
       "      <td>0.636364</td>\n",
       "      <td>0.724138</td>\n",
       "      <td>0.677419</td>\n",
       "    </tr>\n",
       "    <tr>\n",
       "      <th>1</th>\n",
       "      <td>GaussianNB model</td>\n",
       "      <td>0.803300</td>\n",
       "      <td>0.777778</td>\n",
       "      <td>0.666667</td>\n",
       "      <td>0.620690</td>\n",
       "      <td>0.642857</td>\n",
       "    </tr>\n",
       "    <tr>\n",
       "      <th>2</th>\n",
       "      <td>KNN model</td>\n",
       "      <td>0.714200</td>\n",
       "      <td>0.722222</td>\n",
       "      <td>0.576923</td>\n",
       "      <td>0.517241</td>\n",
       "      <td>0.545455</td>\n",
       "    </tr>\n",
       "    <tr>\n",
       "      <th>3</th>\n",
       "      <td>KNN model</td>\n",
       "      <td>0.714200</td>\n",
       "      <td>0.722222</td>\n",
       "      <td>0.576923</td>\n",
       "      <td>0.517241</td>\n",
       "      <td>0.545455</td>\n",
       "    </tr>\n",
       "    <tr>\n",
       "      <th>4</th>\n",
       "      <td>KNN best model(manhattan - 5)</td>\n",
       "      <td>0.753800</td>\n",
       "      <td>0.722222</td>\n",
       "      <td>0.611111</td>\n",
       "      <td>0.379310</td>\n",
       "      <td>0.468085</td>\n",
       "    </tr>\n",
       "    <tr>\n",
       "      <th>5</th>\n",
       "      <td>Decission Tree - Entropy</td>\n",
       "      <td>0.727500</td>\n",
       "      <td>0.777778</td>\n",
       "      <td>0.680000</td>\n",
       "      <td>0.586207</td>\n",
       "      <td>0.629630</td>\n",
       "    </tr>\n",
       "    <tr>\n",
       "      <th>6</th>\n",
       "      <td>Decission Tree - Gini</td>\n",
       "      <td>0.770200</td>\n",
       "      <td>0.811111</td>\n",
       "      <td>0.730769</td>\n",
       "      <td>0.655172</td>\n",
       "      <td>0.690909</td>\n",
       "    </tr>\n",
       "    <tr>\n",
       "      <th>7</th>\n",
       "      <td>Random Forest</td>\n",
       "      <td>0.886100</td>\n",
       "      <td>0.855556</td>\n",
       "      <td>0.833333</td>\n",
       "      <td>0.689655</td>\n",
       "      <td>0.754717</td>\n",
       "    </tr>\n",
       "    <tr>\n",
       "      <th>8</th>\n",
       "      <td>Random Forest - Tuned Hyperparameter</td>\n",
       "      <td>0.896300</td>\n",
       "      <td>0.855556</td>\n",
       "      <td>0.833333</td>\n",
       "      <td>0.689655</td>\n",
       "      <td>0.754717</td>\n",
       "    </tr>\n",
       "    <tr>\n",
       "      <th>9</th>\n",
       "      <td>Logistic Model from RFE</td>\n",
       "      <td>0.874400</td>\n",
       "      <td>0.811111</td>\n",
       "      <td>0.823529</td>\n",
       "      <td>0.500000</td>\n",
       "      <td>0.622222</td>\n",
       "    </tr>\n",
       "    <tr>\n",
       "      <th>10</th>\n",
       "      <td>Logistic Model from Forward Selection</td>\n",
       "      <td>0.844500</td>\n",
       "      <td>0.866667</td>\n",
       "      <td>0.900000</td>\n",
       "      <td>0.642857</td>\n",
       "      <td>0.750000</td>\n",
       "    </tr>\n",
       "  </tbody>\n",
       "</table>\n",
       "</div>"
      ],
      "text/plain": [
       "                               Model_name  AUC_score  Accuracy  Precision  \\\n",
       "0                          Logistic model   0.853000  0.777778   0.636364   \n",
       "1                        GaussianNB model   0.803300  0.777778   0.666667   \n",
       "2                               KNN model   0.714200  0.722222   0.576923   \n",
       "3                               KNN model   0.714200  0.722222   0.576923   \n",
       "4           KNN best model(manhattan - 5)   0.753800  0.722222   0.611111   \n",
       "5                Decission Tree - Entropy   0.727500  0.777778   0.680000   \n",
       "6                   Decission Tree - Gini   0.770200  0.811111   0.730769   \n",
       "7                           Random Forest   0.886100  0.855556   0.833333   \n",
       "8    Random Forest - Tuned Hyperparameter   0.896300  0.855556   0.833333   \n",
       "9                 Logistic Model from RFE   0.874400  0.811111   0.823529   \n",
       "10  Logistic Model from Forward Selection   0.844500  0.866667   0.900000   \n",
       "\n",
       "     Recall  F1_score  \n",
       "0  0.724138  0.677419  \n",
       "1  0.620690  0.642857  \n",
       "2  0.517241  0.545455  \n",
       "3  0.517241  0.545455  \n",
       "4  0.379310  0.468085  \n",
       "5  0.586207  0.629630  \n",
       "6  0.655172  0.690909  \n",
       "7  0.689655  0.754717  \n",
       "8  0.689655  0.754717  \n",
       "9  0.500000  0.622222  \n",
       "10 0.642857  0.750000  "
      ]
     },
     "execution_count": 98,
     "metadata": {},
     "output_type": "execute_result"
    }
   ],
   "source": [
    "models_summary"
   ]
  },
  {
   "cell_type": "markdown",
   "metadata": {},
   "source": [
    "## Backward Elimination"
   ]
  },
  {
   "cell_type": "code",
   "execution_count": 99,
   "metadata": {},
   "outputs": [],
   "source": [
    "lr_backward = sfs(estimator = lr, k_features = 'best', forward = False)\n",
    "sfs_backward = lr_backward.fit(X_train, y_train)"
   ]
  },
  {
   "cell_type": "code",
   "execution_count": 100,
   "metadata": {},
   "outputs": [
    {
     "name": "stdout",
     "output_type": "stream",
     "text": [
      "Features selelected using backward selection are: \n",
      "['age', 'serum_creatinine', 'serum_sodium', 'sex', 'time']\n",
      "\n",
      "Accuracy:  0.8569105691056912\n"
     ]
    }
   ],
   "source": [
    "print('Features selelected using backward selection are: ')\n",
    "sfs_backward_features = list(sfs_backward.k_feature_names_)\n",
    "print(sfs_backward_features)\n",
    "print('\\nAccuracy: ', sfs_backward.k_score_)"
   ]
  },
  {
   "cell_type": "code",
   "execution_count": 101,
   "metadata": {},
   "outputs": [
    {
     "data": {
      "text/html": [
       "<div>\n",
       "<style scoped>\n",
       "    .dataframe tbody tr th:only-of-type {\n",
       "        vertical-align: middle;\n",
       "    }\n",
       "\n",
       "    .dataframe tbody tr th {\n",
       "        vertical-align: top;\n",
       "    }\n",
       "\n",
       "    .dataframe thead th {\n",
       "        text-align: right;\n",
       "    }\n",
       "</style>\n",
       "<table border=\"1\" class=\"dataframe\">\n",
       "  <thead>\n",
       "    <tr style=\"text-align: right;\">\n",
       "      <th></th>\n",
       "      <th>age</th>\n",
       "      <th>serum_creatinine</th>\n",
       "      <th>serum_sodium</th>\n",
       "      <th>sex</th>\n",
       "      <th>time</th>\n",
       "    </tr>\n",
       "  </thead>\n",
       "  <tbody>\n",
       "    <tr>\n",
       "      <th>0</th>\n",
       "      <td>1.192945</td>\n",
       "      <td>0.490057</td>\n",
       "      <td>-1.504036</td>\n",
       "      <td>0.735688</td>\n",
       "      <td>-1.629502</td>\n",
       "    </tr>\n",
       "    <tr>\n",
       "      <th>1</th>\n",
       "      <td>-0.491279</td>\n",
       "      <td>-0.284552</td>\n",
       "      <td>-0.141976</td>\n",
       "      <td>0.735688</td>\n",
       "      <td>-1.603691</td>\n",
       "    </tr>\n",
       "    <tr>\n",
       "      <th>2</th>\n",
       "      <td>0.350833</td>\n",
       "      <td>-0.090900</td>\n",
       "      <td>-1.731046</td>\n",
       "      <td>0.735688</td>\n",
       "      <td>-1.590785</td>\n",
       "    </tr>\n",
       "    <tr>\n",
       "      <th>3</th>\n",
       "      <td>-0.912335</td>\n",
       "      <td>0.490057</td>\n",
       "      <td>0.085034</td>\n",
       "      <td>0.735688</td>\n",
       "      <td>-1.590785</td>\n",
       "    </tr>\n",
       "    <tr>\n",
       "      <th>4</th>\n",
       "      <td>0.350833</td>\n",
       "      <td>1.264666</td>\n",
       "      <td>-4.682176</td>\n",
       "      <td>-1.359272</td>\n",
       "      <td>-1.577879</td>\n",
       "    </tr>\n",
       "  </tbody>\n",
       "</table>\n",
       "</div>"
      ],
      "text/plain": [
       "        age  serum_creatinine  serum_sodium       sex      time\n",
       "0  1.192945          0.490057     -1.504036  0.735688 -1.629502\n",
       "1 -0.491279         -0.284552     -0.141976  0.735688 -1.603691\n",
       "2  0.350833         -0.090900     -1.731046  0.735688 -1.590785\n",
       "3 -0.912335          0.490057      0.085034  0.735688 -1.590785\n",
       "4  0.350833          1.264666     -4.682176 -1.359272 -1.577879"
      ]
     },
     "execution_count": 101,
     "metadata": {},
     "output_type": "execute_result"
    }
   ],
   "source": [
    "X_lr_bk = X[sfs_backward_features]\n",
    "X_lr_bk.head()"
   ]
  },
  {
   "cell_type": "code",
   "execution_count": 102,
   "metadata": {},
   "outputs": [
    {
     "data": {
      "text/plain": [
       "((209, 5), (90, 5), (209,), (90,))"
      ]
     },
     "execution_count": 102,
     "metadata": {},
     "output_type": "execute_result"
    }
   ],
   "source": [
    "X_lr_bk_train, X_lr_bk_test, y_lr_bk_train, y_lr_bk_test = train_test_split(X_lr_bk, y, test_size =   0.3, random_state = 0) \n",
    "X_lr_bk_train.shape, X_lr_bk_test.shape, y_lr_bk_train.shape, y_lr_bk_test.shape"
   ]
  },
  {
   "cell_type": "code",
   "execution_count": 103,
   "metadata": {},
   "outputs": [],
   "source": [
    "logistic_model_lr_bk = lr.fit(X_lr_bk_train, y_lr_bk_train)"
   ]
  },
  {
   "cell_type": "code",
   "execution_count": 104,
   "metadata": {},
   "outputs": [
    {
     "name": "stdout",
     "output_type": "stream",
     "text": [
      "              precision    recall  f1-score   support\n",
      "\n",
      "           0       0.87      0.95      0.91        62\n",
      "           1       0.86      0.68      0.76        28\n",
      "\n",
      "    accuracy                           0.87        90\n",
      "   macro avg       0.87      0.82      0.83        90\n",
      "weighted avg       0.87      0.87      0.86        90\n",
      "\n"
     ]
    }
   ],
   "source": [
    "test_report = get_test_report(logistic_model_lr_bk, X_lr_bk_test, y_lr_bk_test)\n",
    "print(test_report)"
   ]
  },
  {
   "cell_type": "code",
   "execution_count": 105,
   "metadata": {},
   "outputs": [
    {
     "data": {
      "image/png": "[encoded data removed]",
      "text/plain": [
       "<Figure size 1080x576 with 1 Axes>"
      ]
     },
     "metadata": {
      "needs_background": "light"
     },
     "output_type": "display_data"
    }
   ],
   "source": [
    "plot_roc(logistic_model_lr_bk, X_lr_bk_test, y_lr_bk_test)"
   ]
  },
  {
   "cell_type": "code",
   "execution_count": 106,
   "metadata": {},
   "outputs": [
    {
     "data": {
      "image/png": "[encoded data removed]",
      "text/plain": [
       "<Figure size 1080x576 with 1 Axes>"
      ]
     },
     "metadata": {
      "needs_background": "light"
     },
     "output_type": "display_data"
    }
   ],
   "source": [
    "plot_confusion_matrix(logistic_model_lr_bk, X_lr_bk_test, y_lr_bk_test)"
   ]
  },
  {
   "cell_type": "code",
   "execution_count": 107,
   "metadata": {},
   "outputs": [],
   "source": [
    "models_summary = update_model_summary(logistic_model_lr_bk, X_lr_bk_test, y_lr_bk_test, \"Logistic Model from Backward Selection\")"
   ]
  },
  {
   "cell_type": "code",
   "execution_count": 108,
   "metadata": {},
   "outputs": [
    {
     "data": {
      "text/html": [
       "<div>\n",
       "<style scoped>\n",
       "    .dataframe tbody tr th:only-of-type {\n",
       "        vertical-align: middle;\n",
       "    }\n",
       "\n",
       "    .dataframe tbody tr th {\n",
       "        vertical-align: top;\n",
       "    }\n",
       "\n",
       "    .dataframe thead th {\n",
       "        text-align: right;\n",
       "    }\n",
       "</style>\n",
       "<table border=\"1\" class=\"dataframe\">\n",
       "  <thead>\n",
       "    <tr style=\"text-align: right;\">\n",
       "      <th></th>\n",
       "      <th>Model_name</th>\n",
       "      <th>AUC_score</th>\n",
       "      <th>Accuracy</th>\n",
       "      <th>Precision</th>\n",
       "      <th>Recall</th>\n",
       "      <th>F1_score</th>\n",
       "    </tr>\n",
       "  </thead>\n",
       "  <tbody>\n",
       "    <tr>\n",
       "      <th>0</th>\n",
       "      <td>Logistic model</td>\n",
       "      <td>0.853000</td>\n",
       "      <td>0.777778</td>\n",
       "      <td>0.636364</td>\n",
       "      <td>0.724138</td>\n",
       "      <td>0.677419</td>\n",
       "    </tr>\n",
       "    <tr>\n",
       "      <th>1</th>\n",
       "      <td>GaussianNB model</td>\n",
       "      <td>0.803300</td>\n",
       "      <td>0.777778</td>\n",
       "      <td>0.666667</td>\n",
       "      <td>0.620690</td>\n",
       "      <td>0.642857</td>\n",
       "    </tr>\n",
       "    <tr>\n",
       "      <th>2</th>\n",
       "      <td>KNN model</td>\n",
       "      <td>0.714200</td>\n",
       "      <td>0.722222</td>\n",
       "      <td>0.576923</td>\n",
       "      <td>0.517241</td>\n",
       "      <td>0.545455</td>\n",
       "    </tr>\n",
       "    <tr>\n",
       "      <th>3</th>\n",
       "      <td>KNN model</td>\n",
       "      <td>0.714200</td>\n",
       "      <td>0.722222</td>\n",
       "      <td>0.576923</td>\n",
       "      <td>0.517241</td>\n",
       "      <td>0.545455</td>\n",
       "    </tr>\n",
       "    <tr>\n",
       "      <th>4</th>\n",
       "      <td>KNN best model(manhattan - 5)</td>\n",
       "      <td>0.753800</td>\n",
       "      <td>0.722222</td>\n",
       "      <td>0.611111</td>\n",
       "      <td>0.379310</td>\n",
       "      <td>0.468085</td>\n",
       "    </tr>\n",
       "    <tr>\n",
       "      <th>5</th>\n",
       "      <td>Decission Tree - Entropy</td>\n",
       "      <td>0.727500</td>\n",
       "      <td>0.777778</td>\n",
       "      <td>0.680000</td>\n",
       "      <td>0.586207</td>\n",
       "      <td>0.629630</td>\n",
       "    </tr>\n",
       "    <tr>\n",
       "      <th>6</th>\n",
       "      <td>Decission Tree - Gini</td>\n",
       "      <td>0.770200</td>\n",
       "      <td>0.811111</td>\n",
       "      <td>0.730769</td>\n",
       "      <td>0.655172</td>\n",
       "      <td>0.690909</td>\n",
       "    </tr>\n",
       "    <tr>\n",
       "      <th>7</th>\n",
       "      <td>Random Forest</td>\n",
       "      <td>0.886100</td>\n",
       "      <td>0.855556</td>\n",
       "      <td>0.833333</td>\n",
       "      <td>0.689655</td>\n",
       "      <td>0.754717</td>\n",
       "    </tr>\n",
       "    <tr>\n",
       "      <th>8</th>\n",
       "      <td>Random Forest - Tuned Hyperparameter</td>\n",
       "      <td>0.896300</td>\n",
       "      <td>0.855556</td>\n",
       "      <td>0.833333</td>\n",
       "      <td>0.689655</td>\n",
       "      <td>0.754717</td>\n",
       "    </tr>\n",
       "    <tr>\n",
       "      <th>9</th>\n",
       "      <td>Logistic Model from RFE</td>\n",
       "      <td>0.874400</td>\n",
       "      <td>0.811111</td>\n",
       "      <td>0.823529</td>\n",
       "      <td>0.500000</td>\n",
       "      <td>0.622222</td>\n",
       "    </tr>\n",
       "    <tr>\n",
       "      <th>10</th>\n",
       "      <td>Logistic Model from Forward Selection</td>\n",
       "      <td>0.844500</td>\n",
       "      <td>0.866667</td>\n",
       "      <td>0.900000</td>\n",
       "      <td>0.642857</td>\n",
       "      <td>0.750000</td>\n",
       "    </tr>\n",
       "    <tr>\n",
       "      <th>11</th>\n",
       "      <td>Logistic Model from Backward Selection</td>\n",
       "      <td>0.839900</td>\n",
       "      <td>0.866667</td>\n",
       "      <td>0.863636</td>\n",
       "      <td>0.678571</td>\n",
       "      <td>0.760000</td>\n",
       "    </tr>\n",
       "  </tbody>\n",
       "</table>\n",
       "</div>"
      ],
      "text/plain": [
       "                                Model_name  AUC_score  Accuracy  Precision  \\\n",
       "0                           Logistic model   0.853000  0.777778   0.636364   \n",
       "1                         GaussianNB model   0.803300  0.777778   0.666667   \n",
       "2                                KNN model   0.714200  0.722222   0.576923   \n",
       "3                                KNN model   0.714200  0.722222   0.576923   \n",
       "4            KNN best model(manhattan - 5)   0.753800  0.722222   0.611111   \n",
       "5                 Decission Tree - Entropy   0.727500  0.777778   0.680000   \n",
       "6                    Decission Tree - Gini   0.770200  0.811111   0.730769   \n",
       "7                            Random Forest   0.886100  0.855556   0.833333   \n",
       "8     Random Forest - Tuned Hyperparameter   0.896300  0.855556   0.833333   \n",
       "9                  Logistic Model from RFE   0.874400  0.811111   0.823529   \n",
       "10   Logistic Model from Forward Selection   0.844500  0.866667   0.900000   \n",
       "11  Logistic Model from Backward Selection   0.839900  0.866667   0.863636   \n",
       "\n",
       "     Recall  F1_score  \n",
       "0  0.724138  0.677419  \n",
       "1  0.620690  0.642857  \n",
       "2  0.517241  0.545455  \n",
       "3  0.517241  0.545455  \n",
       "4  0.379310  0.468085  \n",
       "5  0.586207  0.629630  \n",
       "6  0.655172  0.690909  \n",
       "7  0.689655  0.754717  \n",
       "8  0.689655  0.754717  \n",
       "9  0.500000  0.622222  \n",
       "10 0.642857  0.750000  \n",
       "11 0.678571  0.760000  "
      ]
     },
     "execution_count": 108,
     "metadata": {},
     "output_type": "execute_result"
    }
   ],
   "source": [
    "models_summary"
   ]
  },
  {
   "cell_type": "code",
   "execution_count": 109,
   "metadata": {},
   "outputs": [
    {
     "data": {
      "text/html": [
       "<div>\n",
       "<style scoped>\n",
       "    .dataframe tbody tr th:only-of-type {\n",
       "        vertical-align: middle;\n",
       "    }\n",
       "\n",
       "    .dataframe tbody tr th {\n",
       "        vertical-align: top;\n",
       "    }\n",
       "\n",
       "    .dataframe thead th {\n",
       "        text-align: right;\n",
       "    }\n",
       "</style>\n",
       "<table border=\"1\" class=\"dataframe\">\n",
       "  <thead>\n",
       "    <tr style=\"text-align: right;\">\n",
       "      <th></th>\n",
       "      <th>Model_name</th>\n",
       "      <th>AUC_score</th>\n",
       "      <th>Accuracy</th>\n",
       "      <th>Precision</th>\n",
       "      <th>Recall</th>\n",
       "      <th>F1_score</th>\n",
       "    </tr>\n",
       "  </thead>\n",
       "  <tbody>\n",
       "    <tr>\n",
       "      <th>8</th>\n",
       "      <td>Random Forest - Tuned Hyperparameter</td>\n",
       "      <td>0.896300</td>\n",
       "      <td>0.855556</td>\n",
       "      <td>0.833333</td>\n",
       "      <td>0.689655</td>\n",
       "      <td>0.754717</td>\n",
       "    </tr>\n",
       "    <tr>\n",
       "      <th>7</th>\n",
       "      <td>Random Forest</td>\n",
       "      <td>0.886100</td>\n",
       "      <td>0.855556</td>\n",
       "      <td>0.833333</td>\n",
       "      <td>0.689655</td>\n",
       "      <td>0.754717</td>\n",
       "    </tr>\n",
       "    <tr>\n",
       "      <th>9</th>\n",
       "      <td>Logistic Model from RFE</td>\n",
       "      <td>0.874400</td>\n",
       "      <td>0.811111</td>\n",
       "      <td>0.823529</td>\n",
       "      <td>0.500000</td>\n",
       "      <td>0.622222</td>\n",
       "    </tr>\n",
       "    <tr>\n",
       "      <th>0</th>\n",
       "      <td>Logistic model</td>\n",
       "      <td>0.853000</td>\n",
       "      <td>0.777778</td>\n",
       "      <td>0.636364</td>\n",
       "      <td>0.724138</td>\n",
       "      <td>0.677419</td>\n",
       "    </tr>\n",
       "    <tr>\n",
       "      <th>10</th>\n",
       "      <td>Logistic Model from Forward Selection</td>\n",
       "      <td>0.844500</td>\n",
       "      <td>0.866667</td>\n",
       "      <td>0.900000</td>\n",
       "      <td>0.642857</td>\n",
       "      <td>0.750000</td>\n",
       "    </tr>\n",
       "    <tr>\n",
       "      <th>11</th>\n",
       "      <td>Logistic Model from Backward Selection</td>\n",
       "      <td>0.839900</td>\n",
       "      <td>0.866667</td>\n",
       "      <td>0.863636</td>\n",
       "      <td>0.678571</td>\n",
       "      <td>0.760000</td>\n",
       "    </tr>\n",
       "    <tr>\n",
       "      <th>1</th>\n",
       "      <td>GaussianNB model</td>\n",
       "      <td>0.803300</td>\n",
       "      <td>0.777778</td>\n",
       "      <td>0.666667</td>\n",
       "      <td>0.620690</td>\n",
       "      <td>0.642857</td>\n",
       "    </tr>\n",
       "    <tr>\n",
       "      <th>6</th>\n",
       "      <td>Decission Tree - Gini</td>\n",
       "      <td>0.770200</td>\n",
       "      <td>0.811111</td>\n",
       "      <td>0.730769</td>\n",
       "      <td>0.655172</td>\n",
       "      <td>0.690909</td>\n",
       "    </tr>\n",
       "    <tr>\n",
       "      <th>4</th>\n",
       "      <td>KNN best model(manhattan - 5)</td>\n",
       "      <td>0.753800</td>\n",
       "      <td>0.722222</td>\n",
       "      <td>0.611111</td>\n",
       "      <td>0.379310</td>\n",
       "      <td>0.468085</td>\n",
       "    </tr>\n",
       "    <tr>\n",
       "      <th>5</th>\n",
       "      <td>Decission Tree - Entropy</td>\n",
       "      <td>0.727500</td>\n",
       "      <td>0.777778</td>\n",
       "      <td>0.680000</td>\n",
       "      <td>0.586207</td>\n",
       "      <td>0.629630</td>\n",
       "    </tr>\n",
       "    <tr>\n",
       "      <th>2</th>\n",
       "      <td>KNN model</td>\n",
       "      <td>0.714200</td>\n",
       "      <td>0.722222</td>\n",
       "      <td>0.576923</td>\n",
       "      <td>0.517241</td>\n",
       "      <td>0.545455</td>\n",
       "    </tr>\n",
       "    <tr>\n",
       "      <th>3</th>\n",
       "      <td>KNN model</td>\n",
       "      <td>0.714200</td>\n",
       "      <td>0.722222</td>\n",
       "      <td>0.576923</td>\n",
       "      <td>0.517241</td>\n",
       "      <td>0.545455</td>\n",
       "    </tr>\n",
       "  </tbody>\n",
       "</table>\n",
       "</div>"
      ],
      "text/plain": [
       "                                Model_name  AUC_score  Accuracy  Precision  \\\n",
       "8     Random Forest - Tuned Hyperparameter   0.896300  0.855556   0.833333   \n",
       "7                            Random Forest   0.886100  0.855556   0.833333   \n",
       "9                  Logistic Model from RFE   0.874400  0.811111   0.823529   \n",
       "0                           Logistic model   0.853000  0.777778   0.636364   \n",
       "10   Logistic Model from Forward Selection   0.844500  0.866667   0.900000   \n",
       "11  Logistic Model from Backward Selection   0.839900  0.866667   0.863636   \n",
       "1                         GaussianNB model   0.803300  0.777778   0.666667   \n",
       "6                    Decission Tree - Gini   0.770200  0.811111   0.730769   \n",
       "4            KNN best model(manhattan - 5)   0.753800  0.722222   0.611111   \n",
       "5                 Decission Tree - Entropy   0.727500  0.777778   0.680000   \n",
       "2                                KNN model   0.714200  0.722222   0.576923   \n",
       "3                                KNN model   0.714200  0.722222   0.576923   \n",
       "\n",
       "     Recall  F1_score  \n",
       "8  0.689655  0.754717  \n",
       "7  0.689655  0.754717  \n",
       "9  0.500000  0.622222  \n",
       "0  0.724138  0.677419  \n",
       "10 0.642857  0.750000  \n",
       "11 0.678571  0.760000  \n",
       "1  0.620690  0.642857  \n",
       "6  0.655172  0.690909  \n",
       "4  0.379310  0.468085  \n",
       "5  0.586207  0.629630  \n",
       "2  0.517241  0.545455  \n",
       "3  0.517241  0.545455  "
      ]
     },
     "execution_count": 109,
     "metadata": {},
     "output_type": "execute_result"
    }
   ],
   "source": [
    "models_summary.sort_values(\"AUC_score\", ascending=False)"
   ]
  },
  {
   "cell_type": "markdown",
   "metadata": {},
   "source": [
    "# SMOTE"
   ]
  },
  {
   "cell_type": "code",
   "execution_count": 110,
   "metadata": {},
   "outputs": [],
   "source": [
    "from imblearn.over_sampling import SMOTE"
   ]
  },
  {
   "cell_type": "code",
   "execution_count": 111,
   "metadata": {},
   "outputs": [
    {
     "data": {
      "text/plain": [
       "0    203\n",
       "1     96\n",
       "Name: DEATH_EVENT, dtype: int64"
      ]
     },
     "execution_count": 111,
     "metadata": {},
     "output_type": "execute_result"
    }
   ],
   "source": [
    "y.value_counts()"
   ]
  },
  {
   "cell_type": "code",
   "execution_count": 112,
   "metadata": {},
   "outputs": [
    {
     "data": {
      "text/plain": [
       "0    203\n",
       "1    203\n",
       "Name: DEATH_EVENT, dtype: int64"
      ]
     },
     "execution_count": 112,
     "metadata": {},
     "output_type": "execute_result"
    }
   ],
   "source": [
    "sm = SMOTE(random_state=10)\n",
    "X_sm, y_sm = sm.fit_resample(X, y)\n",
    "y_sm.value_counts()"
   ]
  },
  {
   "cell_type": "code",
   "execution_count": 113,
   "metadata": {},
   "outputs": [
    {
     "data": {
      "text/plain": [
       "((284, 12), (122, 12), (284,), (122,))"
      ]
     },
     "execution_count": 113,
     "metadata": {},
     "output_type": "execute_result"
    }
   ],
   "source": [
    "X_sm_train, X_sm_test, y_sm_train, y_sm_test = train_test_split(X_sm, y_sm, test_size =   0.3, random_state = 0) \n",
    "X_sm_train.shape, X_sm_test.shape, y_sm_train.shape, y_sm_test.shape"
   ]
  },
  {
   "cell_type": "code",
   "execution_count": 114,
   "metadata": {},
   "outputs": [],
   "source": [
    "logistic_model_sm = lr.fit(X_sm_train, y_sm_train)"
   ]
  },
  {
   "cell_type": "code",
   "execution_count": 115,
   "metadata": {},
   "outputs": [
    {
     "data": {
      "text/plain": [
       "0.819672131147541"
      ]
     },
     "execution_count": 115,
     "metadata": {},
     "output_type": "execute_result"
    }
   ],
   "source": [
    "logistic_model_sm.score(X_sm_test, y_sm_test)"
   ]
  },
  {
   "cell_type": "code",
   "execution_count": 116,
   "metadata": {},
   "outputs": [
    {
     "data": {
      "text/plain": [
       "0.8936"
      ]
     },
     "execution_count": 116,
     "metadata": {},
     "output_type": "execute_result"
    }
   ],
   "source": [
    "calculate_auc_score(logistic_model_sm, X_sm_test, y_sm_test)"
   ]
  },
  {
   "cell_type": "code",
   "execution_count": 117,
   "metadata": {},
   "outputs": [
    {
     "name": "stdout",
     "output_type": "stream",
     "text": [
      "              precision    recall  f1-score   support\n",
      "\n",
      "           0       0.80      0.77      0.79        53\n",
      "           1       0.83      0.86      0.84        69\n",
      "\n",
      "    accuracy                           0.82       122\n",
      "   macro avg       0.82      0.81      0.82       122\n",
      "weighted avg       0.82      0.82      0.82       122\n",
      "\n"
     ]
    }
   ],
   "source": [
    "test_report = get_test_report(logistic_model_sm, X_sm_test, y_sm_test)\n",
    "print(test_report)"
   ]
  },
  {
   "cell_type": "code",
   "execution_count": 118,
   "metadata": {},
   "outputs": [
    {
     "data": {
      "image/png": "[encoded data removed]",
      "text/plain": [
       "<Figure size 1080x576 with 1 Axes>"
      ]
     },
     "metadata": {
      "needs_background": "light"
     },
     "output_type": "display_data"
    }
   ],
   "source": [
    "plot_roc(logistic_model_sm, X_sm_test, y_sm_test)"
   ]
  },
  {
   "cell_type": "code",
   "execution_count": 119,
   "metadata": {},
   "outputs": [
    {
     "data": {
      "image/png": "[encoded data removed]",
      "text/plain": [
       "<Figure size 1080x576 with 1 Axes>"
      ]
     },
     "metadata": {
      "needs_background": "light"
     },
     "output_type": "display_data"
    }
   ],
   "source": [
    "plot_confusion_matrix(logistic_model_sm, X_sm_test, y_sm_test)"
   ]
  },
  {
   "cell_type": "code",
   "execution_count": 120,
   "metadata": {},
   "outputs": [],
   "source": [
    "models_summary = update_model_summary(logistic_model_sm, X_sm_test, y_sm_test, \"Logistic Model after SMOTE\")"
   ]
  },
  {
   "cell_type": "code",
   "execution_count": 121,
   "metadata": {},
   "outputs": [
    {
     "data": {
      "text/html": [
       "<div>\n",
       "<style scoped>\n",
       "    .dataframe tbody tr th:only-of-type {\n",
       "        vertical-align: middle;\n",
       "    }\n",
       "\n",
       "    .dataframe tbody tr th {\n",
       "        vertical-align: top;\n",
       "    }\n",
       "\n",
       "    .dataframe thead th {\n",
       "        text-align: right;\n",
       "    }\n",
       "</style>\n",
       "<table border=\"1\" class=\"dataframe\">\n",
       "  <thead>\n",
       "    <tr style=\"text-align: right;\">\n",
       "      <th></th>\n",
       "      <th>Model_name</th>\n",
       "      <th>AUC_score</th>\n",
       "      <th>Accuracy</th>\n",
       "      <th>Precision</th>\n",
       "      <th>Recall</th>\n",
       "      <th>F1_score</th>\n",
       "    </tr>\n",
       "  </thead>\n",
       "  <tbody>\n",
       "    <tr>\n",
       "      <th>0</th>\n",
       "      <td>Logistic model</td>\n",
       "      <td>0.853000</td>\n",
       "      <td>0.777778</td>\n",
       "      <td>0.636364</td>\n",
       "      <td>0.724138</td>\n",
       "      <td>0.677419</td>\n",
       "    </tr>\n",
       "    <tr>\n",
       "      <th>1</th>\n",
       "      <td>GaussianNB model</td>\n",
       "      <td>0.803300</td>\n",
       "      <td>0.777778</td>\n",
       "      <td>0.666667</td>\n",
       "      <td>0.620690</td>\n",
       "      <td>0.642857</td>\n",
       "    </tr>\n",
       "    <tr>\n",
       "      <th>2</th>\n",
       "      <td>KNN model</td>\n",
       "      <td>0.714200</td>\n",
       "      <td>0.722222</td>\n",
       "      <td>0.576923</td>\n",
       "      <td>0.517241</td>\n",
       "      <td>0.545455</td>\n",
       "    </tr>\n",
       "    <tr>\n",
       "      <th>3</th>\n",
       "      <td>KNN model</td>\n",
       "      <td>0.714200</td>\n",
       "      <td>0.722222</td>\n",
       "      <td>0.576923</td>\n",
       "      <td>0.517241</td>\n",
       "      <td>0.545455</td>\n",
       "    </tr>\n",
       "    <tr>\n",
       "      <th>4</th>\n",
       "      <td>KNN best model(manhattan - 5)</td>\n",
       "      <td>0.753800</td>\n",
       "      <td>0.722222</td>\n",
       "      <td>0.611111</td>\n",
       "      <td>0.379310</td>\n",
       "      <td>0.468085</td>\n",
       "    </tr>\n",
       "    <tr>\n",
       "      <th>5</th>\n",
       "      <td>Decission Tree - Entropy</td>\n",
       "      <td>0.727500</td>\n",
       "      <td>0.777778</td>\n",
       "      <td>0.680000</td>\n",
       "      <td>0.586207</td>\n",
       "      <td>0.629630</td>\n",
       "    </tr>\n",
       "    <tr>\n",
       "      <th>6</th>\n",
       "      <td>Decission Tree - Gini</td>\n",
       "      <td>0.770200</td>\n",
       "      <td>0.811111</td>\n",
       "      <td>0.730769</td>\n",
       "      <td>0.655172</td>\n",
       "      <td>0.690909</td>\n",
       "    </tr>\n",
       "    <tr>\n",
       "      <th>7</th>\n",
       "      <td>Random Forest</td>\n",
       "      <td>0.886100</td>\n",
       "      <td>0.855556</td>\n",
       "      <td>0.833333</td>\n",
       "      <td>0.689655</td>\n",
       "      <td>0.754717</td>\n",
       "    </tr>\n",
       "    <tr>\n",
       "      <th>8</th>\n",
       "      <td>Random Forest - Tuned Hyperparameter</td>\n",
       "      <td>0.896300</td>\n",
       "      <td>0.855556</td>\n",
       "      <td>0.833333</td>\n",
       "      <td>0.689655</td>\n",
       "      <td>0.754717</td>\n",
       "    </tr>\n",
       "    <tr>\n",
       "      <th>9</th>\n",
       "      <td>Logistic Model from RFE</td>\n",
       "      <td>0.874400</td>\n",
       "      <td>0.811111</td>\n",
       "      <td>0.823529</td>\n",
       "      <td>0.500000</td>\n",
       "      <td>0.622222</td>\n",
       "    </tr>\n",
       "    <tr>\n",
       "      <th>10</th>\n",
       "      <td>Logistic Model from Forward Selection</td>\n",
       "      <td>0.844500</td>\n",
       "      <td>0.866667</td>\n",
       "      <td>0.900000</td>\n",
       "      <td>0.642857</td>\n",
       "      <td>0.750000</td>\n",
       "    </tr>\n",
       "    <tr>\n",
       "      <th>11</th>\n",
       "      <td>Logistic Model from Backward Selection</td>\n",
       "      <td>0.839900</td>\n",
       "      <td>0.866667</td>\n",
       "      <td>0.863636</td>\n",
       "      <td>0.678571</td>\n",
       "      <td>0.760000</td>\n",
       "    </tr>\n",
       "    <tr>\n",
       "      <th>12</th>\n",
       "      <td>Logistic Model after SMOTE</td>\n",
       "      <td>0.893600</td>\n",
       "      <td>0.819672</td>\n",
       "      <td>0.830986</td>\n",
       "      <td>0.855072</td>\n",
       "      <td>0.842857</td>\n",
       "    </tr>\n",
       "  </tbody>\n",
       "</table>\n",
       "</div>"
      ],
      "text/plain": [
       "                                Model_name  AUC_score  Accuracy  Precision  \\\n",
       "0                           Logistic model   0.853000  0.777778   0.636364   \n",
       "1                         GaussianNB model   0.803300  0.777778   0.666667   \n",
       "2                                KNN model   0.714200  0.722222   0.576923   \n",
       "3                                KNN model   0.714200  0.722222   0.576923   \n",
       "4            KNN best model(manhattan - 5)   0.753800  0.722222   0.611111   \n",
       "5                 Decission Tree - Entropy   0.727500  0.777778   0.680000   \n",
       "6                    Decission Tree - Gini   0.770200  0.811111   0.730769   \n",
       "7                            Random Forest   0.886100  0.855556   0.833333   \n",
       "8     Random Forest - Tuned Hyperparameter   0.896300  0.855556   0.833333   \n",
       "9                  Logistic Model from RFE   0.874400  0.811111   0.823529   \n",
       "10   Logistic Model from Forward Selection   0.844500  0.866667   0.900000   \n",
       "11  Logistic Model from Backward Selection   0.839900  0.866667   0.863636   \n",
       "12              Logistic Model after SMOTE   0.893600  0.819672   0.830986   \n",
       "\n",
       "     Recall  F1_score  \n",
       "0  0.724138  0.677419  \n",
       "1  0.620690  0.642857  \n",
       "2  0.517241  0.545455  \n",
       "3  0.517241  0.545455  \n",
       "4  0.379310  0.468085  \n",
       "5  0.586207  0.629630  \n",
       "6  0.655172  0.690909  \n",
       "7  0.689655  0.754717  \n",
       "8  0.689655  0.754717  \n",
       "9  0.500000  0.622222  \n",
       "10 0.642857  0.750000  \n",
       "11 0.678571  0.760000  \n",
       "12 0.855072  0.842857  "
      ]
     },
     "execution_count": 121,
     "metadata": {},
     "output_type": "execute_result"
    }
   ],
   "source": [
    "models_summary"
   ]
  },
  {
   "cell_type": "code",
   "execution_count": 122,
   "metadata": {},
   "outputs": [
    {
     "data": {
      "text/html": [
       "<div>\n",
       "<style scoped>\n",
       "    .dataframe tbody tr th:only-of-type {\n",
       "        vertical-align: middle;\n",
       "    }\n",
       "\n",
       "    .dataframe tbody tr th {\n",
       "        vertical-align: top;\n",
       "    }\n",
       "\n",
       "    .dataframe thead th {\n",
       "        text-align: right;\n",
       "    }\n",
       "</style>\n",
       "<table border=\"1\" class=\"dataframe\">\n",
       "  <thead>\n",
       "    <tr style=\"text-align: right;\">\n",
       "      <th></th>\n",
       "      <th>Model_name</th>\n",
       "      <th>AUC_score</th>\n",
       "      <th>Accuracy</th>\n",
       "      <th>Precision</th>\n",
       "      <th>Recall</th>\n",
       "      <th>F1_score</th>\n",
       "    </tr>\n",
       "  </thead>\n",
       "  <tbody>\n",
       "    <tr>\n",
       "      <th>8</th>\n",
       "      <td>Random Forest - Tuned Hyperparameter</td>\n",
       "      <td>0.896300</td>\n",
       "      <td>0.855556</td>\n",
       "      <td>0.833333</td>\n",
       "      <td>0.689655</td>\n",
       "      <td>0.754717</td>\n",
       "    </tr>\n",
       "    <tr>\n",
       "      <th>12</th>\n",
       "      <td>Logistic Model after SMOTE</td>\n",
       "      <td>0.893600</td>\n",
       "      <td>0.819672</td>\n",
       "      <td>0.830986</td>\n",
       "      <td>0.855072</td>\n",
       "      <td>0.842857</td>\n",
       "    </tr>\n",
       "    <tr>\n",
       "      <th>7</th>\n",
       "      <td>Random Forest</td>\n",
       "      <td>0.886100</td>\n",
       "      <td>0.855556</td>\n",
       "      <td>0.833333</td>\n",
       "      <td>0.689655</td>\n",
       "      <td>0.754717</td>\n",
       "    </tr>\n",
       "    <tr>\n",
       "      <th>9</th>\n",
       "      <td>Logistic Model from RFE</td>\n",
       "      <td>0.874400</td>\n",
       "      <td>0.811111</td>\n",
       "      <td>0.823529</td>\n",
       "      <td>0.500000</td>\n",
       "      <td>0.622222</td>\n",
       "    </tr>\n",
       "    <tr>\n",
       "      <th>0</th>\n",
       "      <td>Logistic model</td>\n",
       "      <td>0.853000</td>\n",
       "      <td>0.777778</td>\n",
       "      <td>0.636364</td>\n",
       "      <td>0.724138</td>\n",
       "      <td>0.677419</td>\n",
       "    </tr>\n",
       "    <tr>\n",
       "      <th>10</th>\n",
       "      <td>Logistic Model from Forward Selection</td>\n",
       "      <td>0.844500</td>\n",
       "      <td>0.866667</td>\n",
       "      <td>0.900000</td>\n",
       "      <td>0.642857</td>\n",
       "      <td>0.750000</td>\n",
       "    </tr>\n",
       "    <tr>\n",
       "      <th>11</th>\n",
       "      <td>Logistic Model from Backward Selection</td>\n",
       "      <td>0.839900</td>\n",
       "      <td>0.866667</td>\n",
       "      <td>0.863636</td>\n",
       "      <td>0.678571</td>\n",
       "      <td>0.760000</td>\n",
       "    </tr>\n",
       "    <tr>\n",
       "      <th>1</th>\n",
       "      <td>GaussianNB model</td>\n",
       "      <td>0.803300</td>\n",
       "      <td>0.777778</td>\n",
       "      <td>0.666667</td>\n",
       "      <td>0.620690</td>\n",
       "      <td>0.642857</td>\n",
       "    </tr>\n",
       "    <tr>\n",
       "      <th>6</th>\n",
       "      <td>Decission Tree - Gini</td>\n",
       "      <td>0.770200</td>\n",
       "      <td>0.811111</td>\n",
       "      <td>0.730769</td>\n",
       "      <td>0.655172</td>\n",
       "      <td>0.690909</td>\n",
       "    </tr>\n",
       "    <tr>\n",
       "      <th>4</th>\n",
       "      <td>KNN best model(manhattan - 5)</td>\n",
       "      <td>0.753800</td>\n",
       "      <td>0.722222</td>\n",
       "      <td>0.611111</td>\n",
       "      <td>0.379310</td>\n",
       "      <td>0.468085</td>\n",
       "    </tr>\n",
       "    <tr>\n",
       "      <th>5</th>\n",
       "      <td>Decission Tree - Entropy</td>\n",
       "      <td>0.727500</td>\n",
       "      <td>0.777778</td>\n",
       "      <td>0.680000</td>\n",
       "      <td>0.586207</td>\n",
       "      <td>0.629630</td>\n",
       "    </tr>\n",
       "    <tr>\n",
       "      <th>2</th>\n",
       "      <td>KNN model</td>\n",
       "      <td>0.714200</td>\n",
       "      <td>0.722222</td>\n",
       "      <td>0.576923</td>\n",
       "      <td>0.517241</td>\n",
       "      <td>0.545455</td>\n",
       "    </tr>\n",
       "    <tr>\n",
       "      <th>3</th>\n",
       "      <td>KNN model</td>\n",
       "      <td>0.714200</td>\n",
       "      <td>0.722222</td>\n",
       "      <td>0.576923</td>\n",
       "      <td>0.517241</td>\n",
       "      <td>0.545455</td>\n",
       "    </tr>\n",
       "  </tbody>\n",
       "</table>\n",
       "</div>"
      ],
      "text/plain": [
       "                                Model_name  AUC_score  Accuracy  Precision  \\\n",
       "8     Random Forest - Tuned Hyperparameter   0.896300  0.855556   0.833333   \n",
       "12              Logistic Model after SMOTE   0.893600  0.819672   0.830986   \n",
       "7                            Random Forest   0.886100  0.855556   0.833333   \n",
       "9                  Logistic Model from RFE   0.874400  0.811111   0.823529   \n",
       "0                           Logistic model   0.853000  0.777778   0.636364   \n",
       "10   Logistic Model from Forward Selection   0.844500  0.866667   0.900000   \n",
       "11  Logistic Model from Backward Selection   0.839900  0.866667   0.863636   \n",
       "1                         GaussianNB model   0.803300  0.777778   0.666667   \n",
       "6                    Decission Tree - Gini   0.770200  0.811111   0.730769   \n",
       "4            KNN best model(manhattan - 5)   0.753800  0.722222   0.611111   \n",
       "5                 Decission Tree - Entropy   0.727500  0.777778   0.680000   \n",
       "2                                KNN model   0.714200  0.722222   0.576923   \n",
       "3                                KNN model   0.714200  0.722222   0.576923   \n",
       "\n",
       "     Recall  F1_score  \n",
       "8  0.689655  0.754717  \n",
       "12 0.855072  0.842857  \n",
       "7  0.689655  0.754717  \n",
       "9  0.500000  0.622222  \n",
       "0  0.724138  0.677419  \n",
       "10 0.642857  0.750000  \n",
       "11 0.678571  0.760000  \n",
       "1  0.620690  0.642857  \n",
       "6  0.655172  0.690909  \n",
       "4  0.379310  0.468085  \n",
       "5  0.586207  0.629630  \n",
       "2  0.517241  0.545455  \n",
       "3  0.517241  0.545455  "
      ]
     },
     "execution_count": 122,
     "metadata": {},
     "output_type": "execute_result"
    }
   ],
   "source": [
    "models_summary.sort_values(\"AUC_score\", ascending=False)"
   ]
  },
  {
   "cell_type": "code",
   "execution_count": 123,
   "metadata": {},
   "outputs": [
    {
     "name": "stdout",
     "output_type": "stream",
     "text": [
      "Classification Report for test set:\n",
      "               precision    recall  f1-score   support\n",
      "\n",
      "           0       0.86      0.93      0.90        61\n",
      "           1       0.83      0.69      0.75        29\n",
      "\n",
      "    accuracy                           0.86        90\n",
      "   macro avg       0.85      0.81      0.83        90\n",
      "weighted avg       0.85      0.86      0.85        90\n",
      "\n"
     ]
    }
   ],
   "source": [
    "rf_model_tune = RandomForestClassifier(criterion = 'entropy', \n",
    "                                  n_estimators = 10,\n",
    "                                  max_depth = 10 ,\n",
    "                                  max_features = 'sqrt',\n",
    "                                  max_leaf_nodes = 5,\n",
    "                                  min_samples_leaf = 5,\n",
    "                                  min_samples_split = 11,\n",
    "                                  random_state = 10)\n",
    "\n",
    "rf_model_tune = rf_model_tune.fit(X_dec_train, y_dec_train)\n",
    "\n",
    "# print the performance measures for test set for the model with best parameters\n",
    "print('Classification Report for test set:\\n', get_test_report(rf_model_tune, X_dec_test, y_dec_test))"
   ]
  },
  {
   "cell_type": "code",
   "execution_count": 124,
   "metadata": {},
   "outputs": [],
   "source": [
    "def calculate_auc_score(model, x_test, y_test):\n",
    "    y_pred_prob = model.predict_proba(x_test)[:,1]\n",
    "    return round(roc_auc_score(y_test, y_pred_prob),4)"
   ]
  },
  {
   "cell_type": "code",
   "execution_count": 125,
   "metadata": {},
   "outputs": [
    {
     "data": {
      "text/plain": [
       "(          age  anaemia  creatinine_phosphokinase  diabetes  ejection_fraction  \\\n",
       " 24  75.000000        0                       582         1                 30   \n",
       " 64  45.000000        0                       582         0                 80   \n",
       " 102 80.000000        0                       898         0                 25   \n",
       " 170 51.000000        1                       582         1                 35   \n",
       " 285 55.000000        1                       170         1                 40   \n",
       " 139 50.000000        0                      1548         0                 30   \n",
       " 198 50.000000        1                       582         1                 20   \n",
       " 129 53.000000        1                       270         1                 35   \n",
       " 292 52.000000        0                       190         1                 38   \n",
       " 280 70.000000        0                      2695         1                 40   \n",
       " 240 70.000000        0                        81         1                 35   \n",
       " 43  72.000000        0                       127         1                 50   \n",
       " 191 64.000000        1                        62         0                 60   \n",
       " 254 53.000000        1                       446         0                 60   \n",
       " 293 63.000000        1                       103         1                 35   \n",
       " 26  95.000000        1                       112         0                 40   \n",
       " 65  60.000000        0                        68         0                 20   \n",
       " 253 70.000000        0                        88         1                 35   \n",
       " 127 58.000000        1                       200         1                 60   \n",
       " 274 60.000000        1                       257         1                 30   \n",
       " 52  60.000000        0                      3964         1                 62   \n",
       " 188 60.667000        1                       151         1                 40   \n",
       " 233 53.000000        1                       707         0                 38   \n",
       " 121 66.000000        1                        68         1                 38   \n",
       " 100 65.000000        1                       305         0                 25   \n",
       " 114 60.000000        1                       754         1                 40   \n",
       " 186 50.000000        0                       582         0                 50   \n",
       " 282 42.000000        0                        64         0                 30   \n",
       " 119 86.000000        0                       582         0                 38   \n",
       " 131 60.000000        1                      1082         1                 45   \n",
       " 47  60.000000        0                       582         1                 38   \n",
       " 183 75.000000        0                        99         0                 38   \n",
       " 25  80.000000        0                       148         1                 38   \n",
       " 164 45.000000        0                      2442         1                 30   \n",
       " 184 58.000000        1                       145         0                 25   \n",
       " 111 55.000000        0                        60         0                 35   \n",
       " 257 58.000000        0                       132         1                 38   \n",
       " 228 65.000000        0                        56         0                 25   \n",
       " 138 62.000000        0                       281         1                 35   \n",
       " 181 59.000000        1                       176         1                 25   \n",
       " 76  70.000000        0                        92         0                 60   \n",
       " 70  41.000000        0                       148         0                 40   \n",
       " 92  42.000000        0                       582         0                 60   \n",
       " 281 70.000000        0                       582         0                 40   \n",
       " 235 77.000000        1                       109         0                 50   \n",
       " 180 40.000000        0                       478         1                 30   \n",
       " 137 68.000000        1                       646         0                 25   \n",
       " 105 72.000000        1                       328         0                 30   \n",
       " 36  90.000000        1                        60         1                 50   \n",
       " 10  75.000000        1                        81         0                 38   \n",
       " 98  60.000000        1                       156         1                 25   \n",
       " 279 55.000000        0                        84         1                 38   \n",
       " 174 65.000000        0                       198         1                 35   \n",
       " 260 55.000000        0                        66         0                 40   \n",
       " 193 73.000000        1                       231         1                 30   \n",
       " 234 53.000000        1                       582         0                 45   \n",
       " 175 60.000000        1                        95         0                 60   \n",
       " 59  72.000000        0                       364         1                 20   \n",
       " 56  70.000000        1                        75         0                 35   \n",
       " 35  69.000000        0                       582         1                 35   \n",
       " 269 40.000000        0                       582         1                 35   \n",
       " 87  65.000000        1                        68         1                 60   \n",
       " 19  48.000000        1                       582         1                 55   \n",
       " 241 65.000000        0                       582         1                 30   \n",
       " 162 63.000000        1                       582         0                 40   \n",
       " 147 64.000000        0                      1610         0                 60   \n",
       " 61  50.000000        0                       318         0                 40   \n",
       " 5   90.000000        1                        47         0                 40   \n",
       " 130 53.000000        1                      1808         0                 60   \n",
       " 204 78.000000        1                        64         0                 40   \n",
       " 106 55.000000        0                       748         0                 45   \n",
       " 80  70.000000        0                        69         0                 40   \n",
       " 210 70.000000        0                       212         1                 17   \n",
       " 196 45.000000        0                       582         1                 38   \n",
       " 271 51.000000        0                       582         1                 40   \n",
       " 142 50.000000        0                       482         1                 30   \n",
       " 152 50.000000        0                       115         0                 45   \n",
       " 113 70.000000        1                       143         0                 60   \n",
       " 60  45.000000        0                      7702         1                 25   \n",
       " 171 52.000000        0                      3966         0                 40   \n",
       " 69  65.000000        0                       113         1                 25   \n",
       " 21  65.000000        1                       128         1                 30   \n",
       " 290 45.000000        0                       615         1                 55   \n",
       " 78  75.000000        1                       203         1                 38   \n",
       " 167 59.000000        0                        66         1                 20   \n",
       " 49  57.000000        1                       129         0                 30   \n",
       " 273 42.000000        0                        64         0                 40   \n",
       " 194 45.000000        0                       582         0                 20   \n",
       " 58  49.000000        0                       789         0                 20   \n",
       " 148 75.000000        1                       582         0                 30   \n",
       " \n",
       "      high_blood_pressure     platelets  serum_creatinine  serum_sodium  sex  \\\n",
       " 24                     1 263358.030000          1.830000           134    0   \n",
       " 64                     0 263358.030000          1.180000           137    0   \n",
       " 102                    0 149000.000000          1.100000           144    1   \n",
       " 170                    0 263358.030000          1.500000           136    1   \n",
       " 285                    0 336000.000000          1.200000           135    1   \n",
       " 139                    1 211000.000000          0.800000           138    1   \n",
       " 198                    1 279000.000000          1.000000           134    0   \n",
       " 129                    0 227000.000000          3.400000           145    1   \n",
       " 292                    0 382000.000000          1.000000           140    1   \n",
       " 280                    0 241000.000000          1.000000           137    1   \n",
       " 240                    1 533000.000000          1.300000           139    0   \n",
       " 43                     1 218000.000000          1.000000           134    1   \n",
       " 191                    0 309000.000000          1.500000           135    0   \n",
       " 254                    1 263358.030000          1.000000           139    1   \n",
       " 293                    0 179000.000000          0.900000           136    1   \n",
       " 26                     1 196000.000000          1.000000           138    0   \n",
       " 65                     0 119000.000000          2.900000           127    1   \n",
       " 253                    1 236000.000000          1.200000           132    0   \n",
       " 127                    0 300000.000000          0.800000           137    0   \n",
       " 274                    0 150000.000000          1.000000           137    1   \n",
       " 52                     0 263358.030000          6.800000           146    0   \n",
       " 188                    1 201000.000000          1.000000           136    0   \n",
       " 233                    0 330000.000000          1.400000           137    1   \n",
       " 121                    1 162000.000000          1.000000           136    0   \n",
       " 100                    0 298000.000000          1.100000           141    1   \n",
       " 114                    1 328000.000000          1.200000           126    1   \n",
       " 186                    0 153000.000000          0.600000           134    0   \n",
       " 282                    0 215000.000000          3.800000           128    1   \n",
       " 119                    0 263358.030000          1.830000           134    0   \n",
       " 131                    0 250000.000000          6.100000           131    1   \n",
       " 47                     1 451000.000000          0.600000           138    1   \n",
       " 183                    1 224000.000000          2.500000           134    1   \n",
       " 25                     0 149000.000000          1.900000           144    1   \n",
       " 164                    0 334000.000000          1.100000           139    1   \n",
       " 184                    0 219000.000000          1.200000           137    1   \n",
       " 111                    0 228000.000000          1.200000           135    1   \n",
       " 257                    1 253000.000000          1.000000           139    1   \n",
       " 228                    0 237000.000000          5.000000           130    0   \n",
       " 138                    0 221000.000000          1.000000           136    0   \n",
       " 181                    0 221000.000000          1.000000           136    1   \n",
       " 76                     1 317000.000000          0.800000           140    0   \n",
       " 70                     0 374000.000000          0.800000           140    1   \n",
       " 92                     0 263358.030000          1.180000           137    0   \n",
       " 281                    0  51000.000000          2.700000           136    1   \n",
       " 235                    1 406000.000000          1.100000           137    1   \n",
       " 180                    0 303000.000000          0.900000           136    1   \n",
       " 137                    0 305000.000000          2.100000           130    1   \n",
       " 105                    1 621000.000000          1.700000           138    0   \n",
       " 36                     0 226000.000000          1.000000           134    1   \n",
       " 10                     1 368000.000000          4.000000           131    1   \n",
       " 98                     1 318000.000000          1.200000           137    0   \n",
       " 279                    0 451000.000000          1.300000           136    0   \n",
       " 174                    1 281000.000000          0.900000           137    1   \n",
       " 260                    0 203000.000000          1.000000           138    1   \n",
       " 193                    0 160000.000000          1.180000           142    1   \n",
       " 234                    0 305000.000000          1.100000           137    1   \n",
       " 175                    0 337000.000000          1.000000           138    1   \n",
       " 59                     1 254000.000000          1.300000           136    1   \n",
       " 56                     0 223000.000000          2.700000           138    1   \n",
       " 35                     0 228000.000000          3.500000           134    1   \n",
       " 269                    0 222000.000000          1.000000           132    1   \n",
       " 87                     1 304000.000000          0.800000           140    1   \n",
       " 19                     0  87000.000000          1.900000           121    0   \n",
       " 241                    0 249000.000000          1.300000           136    1   \n",
       " 162                    0 448000.000000          0.900000           137    1   \n",
       " 147                    0 242000.000000          1.000000           137    1   \n",
       " 61                     1 216000.000000          2.300000           131    0   \n",
       " 5                      1 204000.000000          2.100000           132    1   \n",
       " 130                    1 249000.000000          0.700000           138    1   \n",
       " 204                    0 277000.000000          0.700000           137    1   \n",
       " 106                    0 263000.000000          1.300000           137    1   \n",
       " 80                     0 293000.000000          1.700000           136    0   \n",
       " 210                    1 389000.000000          1.000000           136    1   \n",
       " 196                    1 263358.030000          1.180000           137    0   \n",
       " 271                    0 221000.000000          0.900000           134    0   \n",
       " 142                    0 329000.000000          0.900000           132    0   \n",
       " 152                    1 184000.000000          0.900000           134    1   \n",
       " 113                    0 351000.000000          1.300000           137    0   \n",
       " 60                     1 390000.000000          1.000000           139    1   \n",
       " 171                    0 325000.000000          0.900000           140    1   \n",
       " 69                     0 497000.000000          1.830000           135    1   \n",
       " 21                     1 297000.000000          1.600000           136    0   \n",
       " 290                    0 222000.000000          0.800000           141    0   \n",
       " 78                     1 283000.000000          0.600000           131    1   \n",
       " 167                    0  70000.000000          2.400000           134    1   \n",
       " 49                     0 395000.000000          1.000000           140    0   \n",
       " 273                    0 189000.000000          0.700000           140    1   \n",
       " 194                    1 126000.000000          1.600000           135    1   \n",
       " 58                     1 319000.000000          1.100000           136    1   \n",
       " 148                    0 225000.000000          1.830000           134    1   \n",
       " \n",
       "      smoking  time  \n",
       " 24         0    23  \n",
       " 64         0    63  \n",
       " 102        1    87  \n",
       " 170        1   145  \n",
       " 285        0   250  \n",
       " 139        0   108  \n",
       " 198        0   186  \n",
       " 129        0   105  \n",
       " 292        1   258  \n",
       " 280        0   247  \n",
       " 240        0   212  \n",
       " 43         0    33  \n",
       " 191        0   174  \n",
       " 254        0   215  \n",
       " 293        1   270  \n",
       " 26         0    24  \n",
       " 65         1    64  \n",
       " 253        0   215  \n",
       " 127        0   104  \n",
       " 274        1   245  \n",
       " 52         0    43  \n",
       " 188        0   172  \n",
       " 233        1   209  \n",
       " 121        0    95  \n",
       " 100        0    87  \n",
       " 114        0    91  \n",
       " 186        0   172  \n",
       " 282        1   250  \n",
       " 119        0    95  \n",
       " 131        0   107  \n",
       " 47         1    40  \n",
       " 183        0   162  \n",
       " 25         1    23  \n",
       " 164        0   129  \n",
       " 184        1   170  \n",
       " 111        1    90  \n",
       " 257        0   230  \n",
       " 228        0   207  \n",
       " 138        0   108  \n",
       " 181        1   150  \n",
       " 76         1    74  \n",
       " 70         1    68  \n",
       " 92         0    82  \n",
       " 281        1   250  \n",
       " 235        0   209  \n",
       " 180        0   148  \n",
       " 137        0   108  \n",
       " 105        1    88  \n",
       " 36         0    30  \n",
       " 10         1    10  \n",
       " 98         0    85  \n",
       " 279        0   246  \n",
       " 174        1   146  \n",
       " 260        0   233  \n",
       " 193        1   180  \n",
       " 234        1   209  \n",
       " 175        1   146  \n",
       " 59         1    59  \n",
       " 56         1    54  \n",
       " 35         0    30  \n",
       " 269        0   244  \n",
       " 87         0    79  \n",
       " 19         0    15  \n",
       " 241        1   212  \n",
       " 162        1   123  \n",
       " 147        0   113  \n",
       " 61         0    60  \n",
       " 5          1     8  \n",
       " 130        1   106  \n",
       " 204        1   187  \n",
       " 106        0    88  \n",
       " 80         0    75  \n",
       " 210        1   188  \n",
       " 196        0   185  \n",
       " 271        0   244  \n",
       " 142        0   109  \n",
       " 152        1   118  \n",
       " 113        0    90  \n",
       " 60         0    60  \n",
       " 171        1   146  \n",
       " 69         0    67  \n",
       " 21         0    20  \n",
       " 290        0   257  \n",
       " 78         1    74  \n",
       " 167        0   135  \n",
       " 49         0    42  \n",
       " 273        0   245  \n",
       " 194        0   180  \n",
       " 58         1    55  \n",
       " 148        0   113  ,\n",
       " 24     1\n",
       " 64     0\n",
       " 102    0\n",
       " 170    0\n",
       " 285    0\n",
       " 139    0\n",
       " 198    0\n",
       " 129    0\n",
       " 292    0\n",
       " 280    0\n",
       " 240    0\n",
       " 43     0\n",
       " 191    0\n",
       " 254    0\n",
       " 293    0\n",
       " 26     1\n",
       " 65     1\n",
       " 253    0\n",
       " 127    0\n",
       " 274    0\n",
       " 52     1\n",
       " 188    0\n",
       " 233    0\n",
       " 121    0\n",
       " 100    0\n",
       " 114    0\n",
       " 186    1\n",
       " 282    0\n",
       " 119    1\n",
       " 131    0\n",
       " 47     1\n",
       " 183    1\n",
       " 25     1\n",
       " 164    1\n",
       " 184    1\n",
       " 111    0\n",
       " 257    0\n",
       " 228    0\n",
       " 138    0\n",
       " 181    1\n",
       " 76     0\n",
       " 70     0\n",
       " 92     0\n",
       " 281    0\n",
       " 235    0\n",
       " 180    0\n",
       " 137    0\n",
       " 105    1\n",
       " 36     1\n",
       " 10     1\n",
       " 98     0\n",
       " 279    0\n",
       " 174    0\n",
       " 260    0\n",
       " 193    0\n",
       " 234    0\n",
       " 175    0\n",
       " 59     1\n",
       " 56     0\n",
       " 35     1\n",
       " 269    0\n",
       " 87     0\n",
       " 19     1\n",
       " 241    0\n",
       " 162    0\n",
       " 147    0\n",
       " 61     1\n",
       " 5      1\n",
       " 130    0\n",
       " 204    0\n",
       " 106    0\n",
       " 80     0\n",
       " 210    0\n",
       " 196    0\n",
       " 271    0\n",
       " 142    0\n",
       " 152    0\n",
       " 113    1\n",
       " 60     1\n",
       " 171    0\n",
       " 69     1\n",
       " 21     1\n",
       " 290    0\n",
       " 78     0\n",
       " 167    1\n",
       " 49     1\n",
       " 273    0\n",
       " 194    1\n",
       " 58     1\n",
       " 148    1\n",
       " Name: DEATH_EVENT, dtype: int64)"
      ]
     },
     "execution_count": 125,
     "metadata": {},
     "output_type": "execute_result"
    }
   ],
   "source": [
    " X_dec_test, y_dec_test"
   ]
  },
  {
   "cell_type": "code",
   "execution_count": 126,
   "metadata": {},
   "outputs": [
    {
     "data": {
      "text/plain": [
       "0.8963"
      ]
     },
     "execution_count": 126,
     "metadata": {},
     "output_type": "execute_result"
    }
   ],
   "source": [
    "y1_pred_prob=rf_model_tune.predict_proba(X_dec_test)[:,1]\n",
    "round(roc_auc_score(y_dec_test, y1_pred_prob),4)"
   ]
  },
  {
   "cell_type": "code",
   "execution_count": 127,
   "metadata": {},
   "outputs": [
    {
     "data": {
      "text/plain": [
       "0.8555555555555555"
      ]
     },
     "execution_count": 127,
     "metadata": {},
     "output_type": "execute_result"
    }
   ],
   "source": [
    "\n",
    "rf_model_tune.score(X_dec_test,y_dec_test)"
   ]
  },
  {
   "cell_type": "code",
   "execution_count": 128,
   "metadata": {},
   "outputs": [
    {
     "data": {
      "text/plain": [
       "array([1, 1, 0, 0, 0], dtype=int64)"
      ]
     },
     "execution_count": 128,
     "metadata": {},
     "output_type": "execute_result"
    }
   ],
   "source": [
    "rf_model_tune.predict(X_dec_test)[:5]"
   ]
  },
  {
   "cell_type": "code",
   "execution_count": 129,
   "metadata": {},
   "outputs": [
    {
     "data": {
      "text/html": [
       "<div>\n",
       "<style scoped>\n",
       "    .dataframe tbody tr th:only-of-type {\n",
       "        vertical-align: middle;\n",
       "    }\n",
       "\n",
       "    .dataframe tbody tr th {\n",
       "        vertical-align: top;\n",
       "    }\n",
       "\n",
       "    .dataframe thead th {\n",
       "        text-align: right;\n",
       "    }\n",
       "</style>\n",
       "<table border=\"1\" class=\"dataframe\">\n",
       "  <thead>\n",
       "    <tr style=\"text-align: right;\">\n",
       "      <th></th>\n",
       "      <th>age</th>\n",
       "      <th>anaemia</th>\n",
       "      <th>creatinine_phosphokinase</th>\n",
       "      <th>diabetes</th>\n",
       "      <th>ejection_fraction</th>\n",
       "      <th>high_blood_pressure</th>\n",
       "      <th>platelets</th>\n",
       "      <th>serum_creatinine</th>\n",
       "      <th>serum_sodium</th>\n",
       "      <th>sex</th>\n",
       "      <th>smoking</th>\n",
       "      <th>time</th>\n",
       "    </tr>\n",
       "  </thead>\n",
       "  <tbody>\n",
       "    <tr>\n",
       "      <th>24</th>\n",
       "      <td>75.000000</td>\n",
       "      <td>0</td>\n",
       "      <td>582</td>\n",
       "      <td>1</td>\n",
       "      <td>30</td>\n",
       "      <td>1</td>\n",
       "      <td>263358.030000</td>\n",
       "      <td>1.830000</td>\n",
       "      <td>134</td>\n",
       "      <td>0</td>\n",
       "      <td>0</td>\n",
       "      <td>23</td>\n",
       "    </tr>\n",
       "    <tr>\n",
       "      <th>64</th>\n",
       "      <td>45.000000</td>\n",
       "      <td>0</td>\n",
       "      <td>582</td>\n",
       "      <td>0</td>\n",
       "      <td>80</td>\n",
       "      <td>0</td>\n",
       "      <td>263358.030000</td>\n",
       "      <td>1.180000</td>\n",
       "      <td>137</td>\n",
       "      <td>0</td>\n",
       "      <td>0</td>\n",
       "      <td>63</td>\n",
       "    </tr>\n",
       "    <tr>\n",
       "      <th>102</th>\n",
       "      <td>80.000000</td>\n",
       "      <td>0</td>\n",
       "      <td>898</td>\n",
       "      <td>0</td>\n",
       "      <td>25</td>\n",
       "      <td>0</td>\n",
       "      <td>149000.000000</td>\n",
       "      <td>1.100000</td>\n",
       "      <td>144</td>\n",
       "      <td>1</td>\n",
       "      <td>1</td>\n",
       "      <td>87</td>\n",
       "    </tr>\n",
       "    <tr>\n",
       "      <th>170</th>\n",
       "      <td>51.000000</td>\n",
       "      <td>1</td>\n",
       "      <td>582</td>\n",
       "      <td>1</td>\n",
       "      <td>35</td>\n",
       "      <td>0</td>\n",
       "      <td>263358.030000</td>\n",
       "      <td>1.500000</td>\n",
       "      <td>136</td>\n",
       "      <td>1</td>\n",
       "      <td>1</td>\n",
       "      <td>145</td>\n",
       "    </tr>\n",
       "    <tr>\n",
       "      <th>285</th>\n",
       "      <td>55.000000</td>\n",
       "      <td>1</td>\n",
       "      <td>170</td>\n",
       "      <td>1</td>\n",
       "      <td>40</td>\n",
       "      <td>0</td>\n",
       "      <td>336000.000000</td>\n",
       "      <td>1.200000</td>\n",
       "      <td>135</td>\n",
       "      <td>1</td>\n",
       "      <td>0</td>\n",
       "      <td>250</td>\n",
       "    </tr>\n",
       "  </tbody>\n",
       "</table>\n",
       "</div>"
      ],
      "text/plain": [
       "          age  anaemia  creatinine_phosphokinase  diabetes  ejection_fraction  \\\n",
       "24  75.000000        0                       582         1                 30   \n",
       "64  45.000000        0                       582         0                 80   \n",
       "102 80.000000        0                       898         0                 25   \n",
       "170 51.000000        1                       582         1                 35   \n",
       "285 55.000000        1                       170         1                 40   \n",
       "\n",
       "     high_blood_pressure     platelets  serum_creatinine  serum_sodium  sex  \\\n",
       "24                     1 263358.030000          1.830000           134    0   \n",
       "64                     0 263358.030000          1.180000           137    0   \n",
       "102                    0 149000.000000          1.100000           144    1   \n",
       "170                    0 263358.030000          1.500000           136    1   \n",
       "285                    0 336000.000000          1.200000           135    1   \n",
       "\n",
       "     smoking  time  \n",
       "24         0    23  \n",
       "64         0    63  \n",
       "102        1    87  \n",
       "170        1   145  \n",
       "285        0   250  "
      ]
     },
     "execution_count": 129,
     "metadata": {},
     "output_type": "execute_result"
    }
   ],
   "source": [
    "X_dec_test.head()"
   ]
  },
  {
   "cell_type": "markdown",
   "metadata": {},
   "source": [
    "# Export model"
   ]
  },
  {
   "cell_type": "code",
   "execution_count": 130,
   "metadata": {},
   "outputs": [],
   "source": [
    "import joblib"
   ]
  },
  {
   "cell_type": "code",
   "execution_count": 131,
   "metadata": {},
   "outputs": [
    {
     "data": {
      "text/plain": [
       "['Heart_Stroke_prediction_model.ml']"
      ]
     },
     "execution_count": 131,
     "metadata": {},
     "output_type": "execute_result"
    }
   ],
   "source": [
    "joblib.dump(rf_model_tune,'Heart_Stroke_prediction_model.ml')"
   ]
  },
  {
   "cell_type": "code",
   "execution_count": 132,
   "metadata": {},
   "outputs": [],
   "source": [
    "import pickle\n",
    "file=open('Heart_Stroke_prediction_model.pkl','wb')\n",
    "pickle.dump(rf_model_tune,file)"
   ]
  }
 ],
 "metadata": {
  "kernelspec": {
   "display_name": "Python 3 (ipykernel)",
   "language": "python",
   "name": "python3"
  },
  "language_info": {
   "codemirror_mode": {
    "name": "ipython",
    "version": 3
   },
   "file_extension": ".py",
   "mimetype": "text/x-python",
   "name": "python",
   "nbconvert_exporter": "python",
   "pygments_lexer": "ipython3",
   "version": "3.9.7"
  }
 },
 "nbformat": 4,
 "nbformat_minor": 4
}
