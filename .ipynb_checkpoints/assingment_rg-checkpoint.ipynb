{
 "cells": [
  {
   "cell_type": "code",
   "execution_count": 96,
   "id": "novel-shuttle",
   "metadata": {},
   "outputs": [],
   "source": [
    "# import 'Pandas' \n",
    "import pandas as pd \n",
    "\n",
    "# import 'Numpy' \n",
    "import numpy as np\n",
    "\n",
    "# import subpackage of Matplotlib\n",
    "import matplotlib.pyplot as plt\n",
    "from matplotlib.colors import ListedColormap\n",
    "\n",
    "# import 'Seaborn' \n",
    "import seaborn as sns\n",
    "\n",
    "# to suppress warnings\n",
    "from warnings import filterwarnings\n",
    "filterwarnings('ignore')\n",
    "\n",
    "# display all columns of the dataframe\n",
    "pd.options.display.max_columns = None\n",
    "\n",
    "# display all rows of the dataframe\n",
    "pd.options.display.max_rows = None\n",
    " \n",
    "# to display the float values upto 6 decimal places     \n",
    "pd.options.display.float_format = '{:.6f}'.format\n",
    "\n",
    "# import train-test split \n",
    "from sklearn.model_selection import train_test_split\n",
    "\n",
    "# import StandardScaler to perform scaling\n",
    "from sklearn.preprocessing import StandardScaler\n",
    "from sklearn.preprocessing import MinMaxScaler\n",
    "\n",
    "# import various functions from sklearn \n",
    "from sklearn.neighbors import KNeighborsClassifier\n",
    "from sklearn import metrics\n",
    "from sklearn.metrics import classification_report\n",
    "from sklearn.model_selection import GridSearchCV\n",
    "from sklearn.metrics import accuracy_score\n",
    "from sklearn.metrics import roc_curve\n",
    "from sklearn.metrics import roc_auc_score\n",
    "from sklearn.metrics import confusion_matrix\n",
    "from sklearn.model_selection import GridSearchCV\n",
    "from sklearn.model_selection import cross_val_score\n",
    "from sklearn.linear_model import LogisticRegression\n",
    "from sklearn.naive_bayes import GaussianNB\n",
    "from sklearn.tree import DecisionTreeClassifier\n",
    "from sklearn.ensemble import RandomForestClassifier\n",
    "from sklearn import tree\n",
    "from sklearn.feature_selection import RFE\n",
    "from sklearn.ensemble import AdaBoostClassifier\n",
    "from sklearn.ensemble import GradientBoostingClassifier\n",
    "from sklearn.ensemble import StackingClassifier\n",
    "\n",
    "from mlxtend.feature_selection import SequentialFeatureSelector as sfs\n",
    "\n",
    "# for performance metric\n",
    "from sklearn.metrics import precision_score\n",
    "from sklearn.metrics import recall_score\n",
    "from sklearn.metrics import f1_score\n",
    "\n",
    "# import the functions for visualizing the decision tree\n",
    "import pydotplus\n",
    "from IPython.display import Image\n",
    "\n",
    "from xgboost import XGBClassifier"
   ]
  },
  {
   "cell_type": "code",
   "execution_count": 20,
   "id": "pharmaceutical-jimmy",
   "metadata": {},
   "outputs": [],
   "source": [
    "# EDA Packages\n",
    "import pandas as pd\n",
    "import numpy as np"
   ]
  },
  {
   "cell_type": "code",
   "execution_count": 23,
   "id": "junior-resolution",
   "metadata": {},
   "outputs": [],
   "source": [
    "# ML Packages For Vectorization of Text For Feature Extraction\n",
    "from sklearn.feature_extraction.text import CountVectorizer\n",
    "from sklearn.feature_extraction.text import TfidfVectorizer"
   ]
  },
  {
   "cell_type": "code",
   "execution_count": 24,
   "id": "accomplished-theater",
   "metadata": {},
   "outputs": [],
   "source": [
    "# Visualization Packages\n",
    "import matplotlib.pyplot as plt\n",
    "import seaborn as sns"
   ]
  },
  {
   "cell_type": "code",
   "execution_count": 25,
   "id": "assumed-region",
   "metadata": {},
   "outputs": [
    {
     "data": {
      "text/plain": [
       "(1157, 5)"
      ]
     },
     "execution_count": 25,
     "metadata": {},
     "output_type": "execute_result"
    }
   ],
   "source": [
    "df = pd.read_csv('test.csv')\n",
    "df.shape"
   ]
  },
  {
   "cell_type": "code",
   "execution_count": 18,
   "id": "municipal-tongue",
   "metadata": {},
   "outputs": [
    {
     "data": {
      "text/html": [
       "<div>\n",
       "<style scoped>\n",
       "    .dataframe tbody tr th:only-of-type {\n",
       "        vertical-align: middle;\n",
       "    }\n",
       "\n",
       "    .dataframe tbody tr th {\n",
       "        vertical-align: top;\n",
       "    }\n",
       "\n",
       "    .dataframe thead th {\n",
       "        text-align: right;\n",
       "    }\n",
       "</style>\n",
       "<table border=\"1\" class=\"dataframe\">\n",
       "  <thead>\n",
       "    <tr style=\"text-align: right;\">\n",
       "      <th></th>\n",
       "      <th>COMMENT_ID</th>\n",
       "      <th>AUTHOR</th>\n",
       "      <th>DATE</th>\n",
       "      <th>CONTENT</th>\n",
       "      <th>CLASS</th>\n",
       "    </tr>\n",
       "  </thead>\n",
       "  <tbody>\n",
       "    <tr>\n",
       "      <th>0</th>\n",
       "      <td>LZQPQhLyRh80UYxNuaDWhIGQYNQ96IuCg-AYWqNPjpU</td>\n",
       "      <td>Julius NM</td>\n",
       "      <td>2013-11-07T06:20:48</td>\n",
       "      <td>Huh, anyway check out this you[tube] channel: ...</td>\n",
       "      <td>1</td>\n",
       "    </tr>\n",
       "    <tr>\n",
       "      <th>1</th>\n",
       "      <td>z13jhp0bxqncu512g22wvzkasxmvvzjaz04</td>\n",
       "      <td>ElNino Melendez</td>\n",
       "      <td>2013-11-09T08:28:43</td>\n",
       "      <td>me shaking my sexy ass on my channel enjoy ^_^ ﻿</td>\n",
       "      <td>1</td>\n",
       "    </tr>\n",
       "    <tr>\n",
       "      <th>2</th>\n",
       "      <td>z13fwbwp1oujthgqj04chlngpvzmtt3r3dw</td>\n",
       "      <td>GsMega</td>\n",
       "      <td>2013-11-10T16:05:38</td>\n",
       "      <td>watch?v=vtaRGgvGtWQ   Check this out .﻿</td>\n",
       "      <td>1</td>\n",
       "    </tr>\n",
       "    <tr>\n",
       "      <th>3</th>\n",
       "      <td>z13lfzdo5vmdi1cm123te5uz2mqig1brz04</td>\n",
       "      <td>ferleck ferles</td>\n",
       "      <td>2013-11-27T21:39:24</td>\n",
       "      <td>Subscribe to my channel ﻿</td>\n",
       "      <td>1</td>\n",
       "    </tr>\n",
       "    <tr>\n",
       "      <th>4</th>\n",
       "      <td>z12avveb4xqiirsix04chxviiljryduwxg0</td>\n",
       "      <td>BeBe Burkey</td>\n",
       "      <td>2013-11-28T16:30:13</td>\n",
       "      <td>and u should.d check my channel and tell me wh...</td>\n",
       "      <td>1</td>\n",
       "    </tr>\n",
       "  </tbody>\n",
       "</table>\n",
       "</div>"
      ],
      "text/plain": [
       "                                    COMMENT_ID           AUTHOR  \\\n",
       "0  LZQPQhLyRh80UYxNuaDWhIGQYNQ96IuCg-AYWqNPjpU        Julius NM   \n",
       "1          z13jhp0bxqncu512g22wvzkasxmvvzjaz04  ElNino Melendez   \n",
       "2          z13fwbwp1oujthgqj04chlngpvzmtt3r3dw           GsMega   \n",
       "3          z13lfzdo5vmdi1cm123te5uz2mqig1brz04   ferleck ferles   \n",
       "4          z12avveb4xqiirsix04chxviiljryduwxg0      BeBe Burkey   \n",
       "\n",
       "                  DATE                                            CONTENT  \\\n",
       "0  2013-11-07T06:20:48  Huh, anyway check out this you[tube] channel: ...   \n",
       "1  2013-11-09T08:28:43   me shaking my sexy ass on my channel enjoy ^_^ ﻿   \n",
       "2  2013-11-10T16:05:38            watch?v=vtaRGgvGtWQ   Check this out .﻿   \n",
       "3  2013-11-27T21:39:24                          Subscribe to my channel ﻿   \n",
       "4  2013-11-28T16:30:13  and u should.d check my channel and tell me wh...   \n",
       "\n",
       "   CLASS  \n",
       "0      1  \n",
       "1      1  \n",
       "2      1  \n",
       "3      1  \n",
       "4      1  "
      ]
     },
     "execution_count": 18,
     "metadata": {},
     "output_type": "execute_result"
    }
   ],
   "source": [
    "df.head()"
   ]
  },
  {
   "cell_type": "markdown",
   "id": "spatial-sender",
   "metadata": {},
   "source": [
    "# Data Cleaning"
   ]
  },
  {
   "cell_type": "code",
   "execution_count": 26,
   "id": "intelligent-feeling",
   "metadata": {},
   "outputs": [
    {
     "data": {
      "text/plain": [
       "Index(['COMMENT_ID', 'AUTHOR', 'DATE', 'CONTENT', 'CLASS'], dtype='object')"
      ]
     },
     "execution_count": 26,
     "metadata": {},
     "output_type": "execute_result"
    }
   ],
   "source": [
    "# Checking for Consistent Column Name\n",
    "df.columns"
   ]
  },
  {
   "cell_type": "code",
   "execution_count": 27,
   "id": "muslim-ivory",
   "metadata": {},
   "outputs": [
    {
     "data": {
      "text/plain": [
       "COMMENT_ID    object\n",
       "AUTHOR        object\n",
       "DATE          object\n",
       "CONTENT       object\n",
       "CLASS          int64\n",
       "dtype: object"
      ]
     },
     "execution_count": 27,
     "metadata": {},
     "output_type": "execute_result"
    }
   ],
   "source": [
    "# Checking for Datatypes\n",
    "df.dtypes"
   ]
  },
  {
   "cell_type": "code",
   "execution_count": 28,
   "id": "wooden-albany",
   "metadata": {},
   "outputs": [
    {
     "data": {
      "text/plain": [
       "COMMENT_ID    0\n",
       "AUTHOR        0\n",
       "DATE          0\n",
       "CONTENT       0\n",
       "CLASS         0\n",
       "dtype: int64"
      ]
     },
     "execution_count": 28,
     "metadata": {},
     "output_type": "execute_result"
    }
   ],
   "source": [
    "# Check for missing nan\n",
    "df.isnull().isnull().sum()"
   ]
  },
  {
   "cell_type": "code",
   "execution_count": 30,
   "id": "assumed-island",
   "metadata": {},
   "outputs": [
    {
     "data": {
      "text/plain": [
       "0    2013-11-07T06:20:48\n",
       "1    2013-11-09T08:28:43\n",
       "2    2013-11-10T16:05:38\n",
       "3    2013-11-27T21:39:24\n",
       "4    2013-11-28T16:30:13\n",
       "Name: DATE, dtype: object"
      ]
     },
     "execution_count": 30,
     "metadata": {},
     "output_type": "execute_result"
    }
   ],
   "source": [
    "# Checking for Date\n",
    "df[\"DATE\"].head()"
   ]
  },
  {
   "cell_type": "markdown",
   "id": "global-casino",
   "metadata": {},
   "source": [
    "# Working With Text Content"
   ]
  },
  {
   "cell_type": "code",
   "execution_count": 31,
   "id": "adolescent-collins",
   "metadata": {},
   "outputs": [],
   "source": [
    "df_data = df[[\"CONTENT\",\"CLASS\"]]"
   ]
  },
  {
   "cell_type": "code",
   "execution_count": 32,
   "id": "metric-reality",
   "metadata": {},
   "outputs": [
    {
     "data": {
      "text/plain": [
       "Index(['CONTENT', 'CLASS'], dtype='object')"
      ]
     },
     "execution_count": 32,
     "metadata": {},
     "output_type": "execute_result"
    }
   ],
   "source": [
    "df_data.columns"
   ]
  },
  {
   "cell_type": "code",
   "execution_count": 33,
   "id": "considered-basement",
   "metadata": {},
   "outputs": [],
   "source": [
    "df_x = df_data['CONTENT']\n",
    "df_y = df_data['CLASS']"
   ]
  },
  {
   "cell_type": "markdown",
   "id": "executive-immigration",
   "metadata": {},
   "source": [
    "## Feature Extraction From Text\n",
    "CountVectorizer\n",
    "TfidfVectorizer"
   ]
  },
  {
   "cell_type": "markdown",
   "id": "identified-newfoundland",
   "metadata": {},
   "source": [
    "# Example how countvectorizer will work"
   ]
  },
  {
   "cell_type": "markdown",
   "id": "national-estonia",
   "metadata": {},
   "source": [
    "# Count Vectorizer:\n",
    "CountVectorizer tokenizes(tokenization means dividing the sentences in words) the text along with performing very basic preprocessing. It removes the punctuation marks and converts all the words to lowercase.\n",
    "The vocabulary of known words is formed which is also used for encoding unseen text later.\n",
    "An encoded vector is returned with a length of the entire vocabulary and an integer count for the number of times each word appeared in the document. The image below shows what I mean by the encoded vector.\n"
   ]
  },
  {
   "cell_type": "code",
   "execution_count": 34,
   "id": "exotic-tomorrow",
   "metadata": {},
   "outputs": [],
   "source": [
    "cv = CountVectorizer()\n",
    "ex = cv.fit_transform([\"Great song but check this out\",\"What is this song?\"])"
   ]
  },
  {
   "cell_type": "code",
   "execution_count": 35,
   "id": "adjusted-healthcare",
   "metadata": {},
   "outputs": [
    {
     "data": {
      "text/plain": [
       "array([[1, 1, 1, 0, 1, 1, 1, 0],\n",
       "       [0, 0, 0, 1, 0, 1, 1, 1]], dtype=int64)"
      ]
     },
     "execution_count": 35,
     "metadata": {},
     "output_type": "execute_result"
    }
   ],
   "source": [
    "ex.toarray()"
   ]
  },
  {
   "cell_type": "code",
   "execution_count": 36,
   "id": "different-march",
   "metadata": {},
   "outputs": [
    {
     "data": {
      "text/plain": [
       "['but', 'check', 'great', 'is', 'out', 'song', 'this', 'what']"
      ]
     },
     "execution_count": 36,
     "metadata": {},
     "output_type": "execute_result"
    }
   ],
   "source": [
    "cv.get_feature_names()"
   ]
  },
  {
   "cell_type": "code",
   "execution_count": 37,
   "id": "special-candle",
   "metadata": {},
   "outputs": [],
   "source": [
    "# Extract Feature With CountVectorizer\n",
    "corpus = df_x\n",
    "cv = CountVectorizer()\n",
    "X = cv.fit_transform(corpus) # Fit the Data"
   ]
  },
  {
   "cell_type": "code",
   "execution_count": 38,
   "id": "short-arthritis",
   "metadata": {},
   "outputs": [
    {
     "data": {
      "text/plain": [
       "array([[0, 0, 0, ..., 0, 0, 0],\n",
       "       [0, 0, 0, ..., 0, 0, 0],\n",
       "       [0, 0, 0, ..., 0, 0, 0],\n",
       "       ...,\n",
       "       [0, 0, 0, ..., 0, 0, 0],\n",
       "       [0, 0, 0, ..., 0, 0, 0],\n",
       "       [0, 0, 0, ..., 0, 0, 0]], dtype=int64)"
      ]
     },
     "execution_count": 38,
     "metadata": {},
     "output_type": "execute_result"
    }
   ],
   "source": [
    "X.toarray()"
   ]
  },
  {
   "cell_type": "code",
   "execution_count": 39,
   "id": "floating-helmet",
   "metadata": {},
   "outputs": [
    {
     "data": {
      "text/plain": [
       "['00',\n",
       " '000',\n",
       " '002',\n",
       " '018',\n",
       " '02',\n",
       " '034',\n",
       " '04',\n",
       " '047000',\n",
       " '05',\n",
       " '053012',\n",
       " '08',\n",
       " '09',\n",
       " '0d878a889c',\n",
       " '0laviqu2b',\n",
       " '10',\n",
       " '100',\n",
       " '10000000',\n",
       " '100007085325116',\n",
       " '10001',\n",
       " '100877300245414',\n",
       " '10200253113705769',\n",
       " '104999962146104962510',\n",
       " '10626048',\n",
       " '1073741828',\n",
       " '1073741830',\n",
       " '1073741943',\n",
       " '109',\n",
       " '11',\n",
       " '111719098841907',\n",
       " '12',\n",
       " '123',\n",
       " '124',\n",
       " '126',\n",
       " '128gb',\n",
       " '13',\n",
       " '1337',\n",
       " '134470083389909',\n",
       " '14',\n",
       " '1442646731',\n",
       " '1495323920744243',\n",
       " '1496241863981208',\n",
       " '1496273723978022',\n",
       " '1498561870415874',\n",
       " '14gkvdo',\n",
       " '15',\n",
       " '16',\n",
       " '161620527267482',\n",
       " '16gb',\n",
       " '17',\n",
       " '1727483389',\n",
       " '17yr',\n",
       " '18',\n",
       " '19',\n",
       " '19255',\n",
       " '1990',\n",
       " '19924',\n",
       " '1b',\n",
       " '1bi',\n",
       " '1billion',\n",
       " '1firo',\n",
       " '1hmvtx',\n",
       " '1k',\n",
       " '1m',\n",
       " '1m00s',\n",
       " '20',\n",
       " '200',\n",
       " '2004',\n",
       " '2009',\n",
       " '200k',\n",
       " '200mm',\n",
       " '2010',\n",
       " '2011',\n",
       " '2012',\n",
       " '2012430',\n",
       " '2012bitches',\n",
       " '2013',\n",
       " '2014',\n",
       " '201470069872822',\n",
       " '2015',\n",
       " '2017',\n",
       " '210',\n",
       " '2177367',\n",
       " '229508',\n",
       " '23',\n",
       " '23active',\n",
       " '23everydayimvaping',\n",
       " '23giraffebruuh',\n",
       " '23kinglothedancer',\n",
       " '23lmfao',\n",
       " '243a',\n",
       " '247',\n",
       " '25',\n",
       " '250',\n",
       " '25000',\n",
       " '251638183951',\n",
       " '25874',\n",
       " '26',\n",
       " '26032883',\n",
       " '26t22',\n",
       " '279',\n",
       " '28',\n",
       " '2asfn9shghk',\n",
       " '2b',\n",
       " '2billion',\n",
       " '2m19s',\n",
       " '2tggp3pv6l',\n",
       " '2x10',\n",
       " '30',\n",
       " '300',\n",
       " '3000',\n",
       " '302703146601369',\n",
       " '313327',\n",
       " '320',\n",
       " '327568907427561',\n",
       " '32gb',\n",
       " '33',\n",
       " '333607726823679',\n",
       " '333608120156973',\n",
       " '33gxrf',\n",
       " '35',\n",
       " '360',\n",
       " '365',\n",
       " '385',\n",
       " '389088',\n",
       " '39',\n",
       " '390',\n",
       " '3d',\n",
       " '3m',\n",
       " '3m40s',\n",
       " '3rd',\n",
       " '40',\n",
       " '4000',\n",
       " '4000dollars',\n",
       " '41',\n",
       " '43',\n",
       " '4344749',\n",
       " '4477063',\n",
       " '447935454150',\n",
       " '4483179854075',\n",
       " '45',\n",
       " '46',\n",
       " '4604617',\n",
       " '476000',\n",
       " '482',\n",
       " '490',\n",
       " '4g',\n",
       " '4gb',\n",
       " '4m11s',\n",
       " '4netjobs',\n",
       " '4s',\n",
       " '4th',\n",
       " '50',\n",
       " '500',\n",
       " '5000',\n",
       " '500k',\n",
       " '500m',\n",
       " '505b0232',\n",
       " '5094',\n",
       " '50k',\n",
       " '510',\n",
       " '515',\n",
       " '521',\n",
       " '5242575',\n",
       " '5277478',\n",
       " '5337555197',\n",
       " '53481',\n",
       " '543627485763966',\n",
       " '55',\n",
       " '5575096797',\n",
       " '55mm',\n",
       " '566',\n",
       " '57',\n",
       " '5800',\n",
       " '5af506e1',\n",
       " '5c',\n",
       " '5c2f',\n",
       " '5million',\n",
       " '5s',\n",
       " '5th',\n",
       " '5tu9gn1l310',\n",
       " '60',\n",
       " '600',\n",
       " '600m',\n",
       " '613000',\n",
       " '616375350',\n",
       " '6174122',\n",
       " '629',\n",
       " '6381501',\n",
       " '661',\n",
       " '666',\n",
       " '674732645945877',\n",
       " '694',\n",
       " '6th',\n",
       " '700',\n",
       " '710',\n",
       " '710000',\n",
       " '733634264',\n",
       " '733949243353321',\n",
       " '734237113324534',\n",
       " '74',\n",
       " '750',\n",
       " '775510675841486',\n",
       " '783',\n",
       " '79',\n",
       " '7in',\n",
       " '7k',\n",
       " '800',\n",
       " '82',\n",
       " '821',\n",
       " '824',\n",
       " '832000',\n",
       " '84',\n",
       " '85',\n",
       " '851',\n",
       " '857',\n",
       " '860',\n",
       " '868',\n",
       " '8692160',\n",
       " '87',\n",
       " '870',\n",
       " '88',\n",
       " '884',\n",
       " '898',\n",
       " '89___',\n",
       " '89c',\n",
       " '89iyec7nrwp5nytno5u7amhvmflutggl',\n",
       " '8a',\n",
       " '8bit',\n",
       " '90',\n",
       " '902099',\n",
       " '920',\n",
       " '9277547',\n",
       " '936868579660284',\n",
       " '937732262907249',\n",
       " '940',\n",
       " '969',\n",
       " '999999999',\n",
       " '9bzkp7q19f0',\n",
       " '9gag',\n",
       " '9nl',\n",
       " '_0f9fa8aa',\n",
       " '__',\n",
       " '______________________',\n",
       " '______________________________',\n",
       " '_chris_cz',\n",
       " '_self',\n",
       " '_trksid',\n",
       " 'a7',\n",
       " 'aa',\n",
       " 'aaas',\n",
       " 'aavpwj9',\n",
       " 'abbas',\n",
       " 'ablaze',\n",
       " 'able',\n",
       " 'abominable',\n",
       " 'abomination',\n",
       " 'abonner',\n",
       " 'about',\n",
       " 'above',\n",
       " 'absolutely',\n",
       " 'abused',\n",
       " 'abusive',\n",
       " 'ac',\n",
       " 'acaer',\n",
       " 'acceptance',\n",
       " 'access',\n",
       " 'accidental',\n",
       " 'account',\n",
       " 'acidic',\n",
       " 'acquire',\n",
       " 'act',\n",
       " 'acting',\n",
       " 'active',\n",
       " 'actor',\n",
       " 'actorid',\n",
       " 'actors',\n",
       " 'actresses',\n",
       " 'actual',\n",
       " 'actually',\n",
       " 'ad',\n",
       " 'adam',\n",
       " 'add',\n",
       " 'adding',\n",
       " 'addition',\n",
       " 'adele',\n",
       " 'adf',\n",
       " 'adhoc',\n",
       " 'admirable',\n",
       " 'admit',\n",
       " 'adore',\n",
       " 'adsense',\n",
       " 'advance',\n",
       " 'advertise',\n",
       " 'advertisements',\n",
       " 'advertisiments',\n",
       " 'affiliated',\n",
       " 'afflicted',\n",
       " 'afford',\n",
       " 'afraid',\n",
       " 'africa',\n",
       " 'african',\n",
       " 'africans',\n",
       " 'after',\n",
       " 'again',\n",
       " 'against',\n",
       " 'age',\n",
       " 'ago',\n",
       " 'agree',\n",
       " 'ah',\n",
       " 'ahead',\n",
       " 'ahhh',\n",
       " 'aiiima',\n",
       " 'aimbwbfqbzg',\n",
       " 'ain',\n",
       " 'air',\n",
       " 'airplane',\n",
       " 'aka',\n",
       " 'al',\n",
       " 'album',\n",
       " 'alcoholic',\n",
       " 'alex',\n",
       " 'alfred',\n",
       " 'ali',\n",
       " 'alive',\n",
       " 'all',\n",
       " 'allot',\n",
       " 'allow',\n",
       " 'allways',\n",
       " 'almond',\n",
       " 'almost',\n",
       " 'aloidia',\n",
       " 'alone',\n",
       " 'alot',\n",
       " 'already',\n",
       " 'alright',\n",
       " 'also',\n",
       " 'alternate',\n",
       " 'alvar',\n",
       " 'always',\n",
       " 'am',\n",
       " 'amazed',\n",
       " 'amazing',\n",
       " 'amazon',\n",
       " 'ambition',\n",
       " 'amendment',\n",
       " 'america',\n",
       " 'american',\n",
       " 'americans',\n",
       " 'amiable',\n",
       " 'amount',\n",
       " 'amp',\n",
       " 'an',\n",
       " 'ana',\n",
       " 'anand',\n",
       " 'ancestors',\n",
       " 'and',\n",
       " 'anderson',\n",
       " 'android',\n",
       " 'angel',\n",
       " 'angels',\n",
       " 'angry',\n",
       " 'animal',\n",
       " 'animals',\n",
       " 'animes',\n",
       " 'annoying',\n",
       " 'annoys',\n",
       " 'another',\n",
       " 'ans',\n",
       " 'anthem',\n",
       " 'antrobofficial',\n",
       " 'anxious',\n",
       " 'any',\n",
       " 'anymore',\n",
       " 'anyone',\n",
       " 'anything',\n",
       " 'anyway',\n",
       " 'apocalypse',\n",
       " 'apologies',\n",
       " 'apostles',\n",
       " 'app',\n",
       " 'apparently',\n",
       " 'applause',\n",
       " 'apple',\n",
       " 'applied',\n",
       " 'applocker',\n",
       " 'appreciate',\n",
       " 'appreciated',\n",
       " 'apprecitate',\n",
       " 'apps',\n",
       " 'arbitrate',\n",
       " 'are',\n",
       " 'aren',\n",
       " 'arive',\n",
       " 'arkglzjqup0',\n",
       " 'army',\n",
       " 'around',\n",
       " 'arrogant',\n",
       " 'arrowgance',\n",
       " 'art',\n",
       " 'articles',\n",
       " 'artist',\n",
       " 'artists',\n",
       " 'as',\n",
       " 'aseris',\n",
       " 'asia',\n",
       " 'asian',\n",
       " 'ask',\n",
       " 'asked',\n",
       " 'asking',\n",
       " 'aslamu',\n",
       " 'aspx',\n",
       " 'ass',\n",
       " 'assume',\n",
       " 'astauand',\n",
       " 'aswell',\n",
       " 'at',\n",
       " 'attention',\n",
       " 'auburn',\n",
       " 'audio',\n",
       " 'auditioning',\n",
       " 'aunt',\n",
       " 'australia',\n",
       " 'authority',\n",
       " 'autotune',\n",
       " 'autotuned',\n",
       " 'avaaz',\n",
       " 'avicii',\n",
       " 'avoid',\n",
       " 'awards',\n",
       " 'away',\n",
       " 'aways',\n",
       " 'awesom',\n",
       " 'awesome',\n",
       " 'awful',\n",
       " 'awsome',\n",
       " 'axeljonssons',\n",
       " 'ayyy',\n",
       " 'azerbaijan',\n",
       " 'b3',\n",
       " 'b5',\n",
       " 'b5t',\n",
       " 'b7b',\n",
       " 'b8l',\n",
       " 'ba',\n",
       " 'baba',\n",
       " 'baby',\n",
       " 'back',\n",
       " 'bad',\n",
       " 'bady',\n",
       " 'ball',\n",
       " 'band',\n",
       " 'bands',\n",
       " 'bang',\n",
       " 'bangers',\n",
       " 'bangladesh',\n",
       " 'barnesandnoble',\n",
       " 'bars',\n",
       " 'based',\n",
       " 'basically',\n",
       " 'bass',\n",
       " 'bd3721315',\n",
       " 'bdp',\n",
       " 'be',\n",
       " 'beat',\n",
       " 'beatboxing',\n",
       " 'beaties',\n",
       " 'beats',\n",
       " 'beautiful',\n",
       " 'beauty',\n",
       " 'because',\n",
       " 'become',\n",
       " 'been',\n",
       " 'before',\n",
       " 'begin',\n",
       " 'beginning',\n",
       " 'behavior',\n",
       " 'behind',\n",
       " 'behold',\n",
       " 'beibs',\n",
       " 'being',\n",
       " 'belgium',\n",
       " 'believe',\n",
       " 'believemefilm',\n",
       " 'believing',\n",
       " 'bella',\n",
       " 'below',\n",
       " 'belrus',\n",
       " 'beneath',\n",
       " 'bennett',\n",
       " 'berzerk',\n",
       " 'besloor',\n",
       " 'best',\n",
       " 'betfair',\n",
       " 'better',\n",
       " 'between',\n",
       " 'beutiful',\n",
       " 'bieber',\n",
       " 'big',\n",
       " 'bigboss286',\n",
       " 'bigelow',\n",
       " 'bigger',\n",
       " 'bighit',\n",
       " 'bikini',\n",
       " 'bil',\n",
       " 'bilion',\n",
       " 'billboard',\n",
       " 'billie',\n",
       " 'billion',\n",
       " 'bills',\n",
       " 'binbox',\n",
       " 'bing',\n",
       " 'birtgday',\n",
       " 'birthday',\n",
       " 'bit',\n",
       " 'bitch',\n",
       " 'black',\n",
       " 'blanc',\n",
       " 'blank',\n",
       " 'blast',\n",
       " 'bleach',\n",
       " 'bless',\n",
       " 'block',\n",
       " 'blog',\n",
       " 'blogspot',\n",
       " 'blond',\n",
       " 'blow',\n",
       " 'blows',\n",
       " 'blue',\n",
       " 'boa',\n",
       " 'boaconic',\n",
       " 'body',\n",
       " 'bogdan',\n",
       " 'bones',\n",
       " 'bonus',\n",
       " 'boobs',\n",
       " 'book',\n",
       " 'bookmakers',\n",
       " 'boooobs',\n",
       " 'boost',\n",
       " 'border',\n",
       " 'bored',\n",
       " 'born',\n",
       " 'bots',\n",
       " 'bottom',\n",
       " 'bout',\n",
       " 'bowl',\n",
       " 'box',\n",
       " 'boy',\n",
       " 'boyfriend',\n",
       " 'boys',\n",
       " 'br',\n",
       " 'brah',\n",
       " 'brain',\n",
       " 'brand',\n",
       " 'brazil',\n",
       " 'brazilian',\n",
       " 'break',\n",
       " 'breaks',\n",
       " 'brew',\n",
       " 'bring',\n",
       " 'bringing',\n",
       " 'brings',\n",
       " 'brinkman',\n",
       " 'british',\n",
       " 'broken',\n",
       " 'brooooo',\n",
       " 'brother',\n",
       " 'brotherhood',\n",
       " 'brothers',\n",
       " 'brought',\n",
       " 'browser',\n",
       " 'brt0u5',\n",
       " 'bs',\n",
       " 'btw',\n",
       " 'bubblews',\n",
       " 'buchmair',\n",
       " 'bucket',\n",
       " 'bulgaria',\n",
       " 'bumps',\n",
       " 'burda',\n",
       " 'burned',\n",
       " 'business',\n",
       " 'but',\n",
       " 'butalabs',\n",
       " 'butt',\n",
       " 'button',\n",
       " 'butts',\n",
       " 'buy',\n",
       " 'buys',\n",
       " 'buzz',\n",
       " 'bxrosr',\n",
       " 'by',\n",
       " 'c3',\n",
       " 'c349',\n",
       " 'cabelo',\n",
       " 'cachebuster',\n",
       " 'call',\n",
       " 'called',\n",
       " 'came',\n",
       " 'camera',\n",
       " 'cameraman',\n",
       " 'campid',\n",
       " 'can',\n",
       " 'canal',\n",
       " 'cant',\n",
       " 'canvas',\n",
       " 'capitalized',\n",
       " 'car',\n",
       " 'card',\n",
       " 'cards',\n",
       " 'care',\n",
       " 'career',\n",
       " 'cares',\n",
       " 'caroline',\n",
       " 'case',\n",
       " 'cash',\n",
       " 'catch',\n",
       " 'cause',\n",
       " 'caution',\n",
       " 'cd92db3f4',\n",
       " 'ce',\n",
       " 'cease',\n",
       " 'celeb',\n",
       " 'celebrated',\n",
       " 'celebrity',\n",
       " 'censor',\n",
       " 'cereal',\n",
       " 'certain',\n",
       " 'certification',\n",
       " 'cevxzvsjlk8',\n",
       " 'cge',\n",
       " 'chacking',\n",
       " 'chainise',\n",
       " 'challenge',\n",
       " 'challenges',\n",
       " 'champion',\n",
       " 'chance',\n",
       " 'chanel',\n",
       " 'chanell',\n",
       " 'change',\n",
       " 'changeable',\n",
       " 'chanicka',\n",
       " 'channel',\n",
       " 'channels',\n",
       " 'channnnnnelll',\n",
       " 'characterized',\n",
       " 'charley',\n",
       " 'charlie',\n",
       " 'chaste',\n",
       " 'chaîne',\n",
       " 'chcfcvzfzfbvzdr',\n",
       " 'cheat',\n",
       " 'cheating',\n",
       " 'cheats',\n",
       " 'check',\n",
       " 'checked',\n",
       " 'checking',\n",
       " 'cheer',\n",
       " 'cheers',\n",
       " 'cheetos',\n",
       " 'cheilith',\n",
       " 'chesture',\n",
       " 'chhanel',\n",
       " 'child',\n",
       " 'chillpal',\n",
       " 'chillstep',\n",
       " 'china',\n",
       " 'chinese',\n",
       " 'chiptunes',\n",
       " 'choice',\n",
       " 'chorenn',\n",
       " 'chose',\n",
       " 'chrck',\n",
       " 'christ',\n",
       " 'christians',\n",
       " 'christmas',\n",
       " 'chubby',\n",
       " 'chuck',\n",
       " 'cirus',\n",
       " 'cking',\n",
       " 'claiming',\n",
       " 'clap',\n",
       " 'class',\n",
       " 'classsic',\n",
       " 'clean',\n",
       " 'cleaning',\n",
       " 'click',\n",
       " 'clicked',\n",
       " 'clip',\n",
       " 'close',\n",
       " 'closer',\n",
       " 'clothes',\n",
       " 'clue',\n",
       " 'co',\n",
       " 'coby',\n",
       " 'cock',\n",
       " 'code',\n",
       " 'codytolleson',\n",
       " 'coffee',\n",
       " 'cold',\n",
       " 'collaboration',\n",
       " 'collaborator',\n",
       " 'collection',\n",
       " 'collections',\n",
       " 'colors',\n",
       " 'colour',\n",
       " 'columbus',\n",
       " 'columns',\n",
       " 'com',\n",
       " 'come',\n",
       " 'comeback',\n",
       " 'comentars',\n",
       " 'comes',\n",
       " 'comfort',\n",
       " 'comforter',\n",
       " 'coming',\n",
       " 'comment',\n",
       " 'comment_id',\n",
       " 'commenting',\n",
       " 'comments',\n",
       " 'commercial',\n",
       " 'commit',\n",
       " 'community',\n",
       " 'company',\n",
       " 'competition',\n",
       " 'complaining',\n",
       " 'completely',\n",
       " 'composer',\n",
       " 'comprehend',\n",
       " 'computer',\n",
       " 'conceived',\n",
       " 'concert',\n",
       " 'concerts',\n",
       " 'conciliate',\n",
       " 'confessors',\n",
       " 'confidence',\n",
       " 'confirmed',\n",
       " 'confusing',\n",
       " 'congrats',\n",
       " 'congratulations',\n",
       " 'congress',\n",
       " 'conhece',\n",
       " 'connected',\n",
       " 'conqueror',\n",
       " 'conscious',\n",
       " 'consolidating',\n",
       " 'constitution',\n",
       " 'constrictor',\n",
       " 'constructive',\n",
       " 'contact',\n",
       " 'content',\n",
       " 'contest',\n",
       " 'continue',\n",
       " 'cook',\n",
       " 'cool',\n",
       " 'cooooooooooooolllllllllll',\n",
       " 'cope',\n",
       " 'copied',\n",
       " 'core',\n",
       " 'could',\n",
       " 'counsel',\n",
       " 'count',\n",
       " 'countries',\n",
       " 'country',\n",
       " 'counts',\n",
       " 'course',\n",
       " 'court',\n",
       " 'cover',\n",
       " 'covers',\n",
       " 'crabby',\n",
       " 'craft',\n",
       " 'crash',\n",
       " 'crashed',\n",
       " 'crazy',\n",
       " 'crdits',\n",
       " 'crea',\n",
       " 'creator',\n",
       " 'credit',\n",
       " 'crew',\n",
       " 'cried',\n",
       " 'criminal',\n",
       " 'criticism',\n",
       " 'critiquing',\n",
       " 'critisism',\n",
       " 'croatia',\n",
       " 'cross',\n",
       " 'crown',\n",
       " 'cruz',\n",
       " 'cry',\n",
       " 'cs',\n",
       " 'csgo',\n",
       " 'csrftoken',\n",
       " 'cup',\n",
       " 'curled',\n",
       " 'current',\n",
       " 'currently',\n",
       " 'customid',\n",
       " 'cute',\n",
       " 'cutie',\n",
       " 'cuz',\n",
       " 'cxpzpgb',\n",
       " 'cyber',\n",
       " 'cypher',\n",
       " 'cyrine_ghorbel',\n",
       " 'cyrus',\n",
       " 'd15fb87973',\n",
       " 'd4aaacwk',\n",
       " 'd8',\n",
       " 'd9',\n",
       " 'd90',\n",
       " 'da',\n",
       " 'daaaaaaaaaaannng',\n",
       " 'dad',\n",
       " 'daily',\n",
       " 'dakoda',\n",
       " 'dakota',\n",
       " 'damn',\n",
       " 'damnnnnnnnn',\n",
       " 'dance',\n",
       " 'dancing',\n",
       " 'dang',\n",
       " 'daniel',\n",
       " 'danke',\n",
       " 'dante',\n",
       " 'dark',\n",
       " 'dat',\n",
       " 'daughter',\n",
       " 'day',\n",
       " 'days',\n",
       " 'dd',\n",
       " 'de',\n",
       " 'deaf',\n",
       " 'dealing',\n",
       " 'deals',\n",
       " 'dear',\n",
       " 'death',\n",
       " 'deathly',\n",
       " 'deazy99',\n",
       " 'december',\n",
       " 'decent',\n",
       " 'decided',\n",
       " 'decio',\n",
       " 'deciocabelo',\n",
       " 'decoration',\n",
       " 'dedicated',\n",
       " 'deep',\n",
       " 'defectives',\n",
       " 'definitily',\n",
       " 'delete',\n",
       " 'delicious',\n",
       " 'delightful',\n",
       " 'demo',\n",
       " 'democracy',\n",
       " 'denis',\n",
       " 'derives',\n",
       " 'desenhos',\n",
       " 'deserve',\n",
       " 'deserves',\n",
       " 'designs',\n",
       " 'desire',\n",
       " 'destinyforever_',\n",
       " 'details',\n",
       " 'detective',\n",
       " 'df',\n",
       " 'diagnosed',\n",
       " 'dick',\n",
       " 'dickwad',\n",
       " 'did',\n",
       " 'didn',\n",
       " 'die',\n",
       " 'difference',\n",
       " 'different',\n",
       " 'direction',\n",
       " 'disabled',\n",
       " 'disappoint',\n",
       " 'disappointed',\n",
       " 'disclose',\n",
       " 'discount',\n",
       " 'discrimination',\n",
       " 'discusss',\n",
       " 'disguise',\n",
       " 'dislike',\n",
       " 'disliked',\n",
       " 'dislikes',\n",
       " 'dislikesssssssssssssssssssssssssssssssss',\n",
       " 'disorder',\n",
       " 'disposable',\n",
       " 'dissertation',\n",
       " 'divine',\n",
       " 'diving',\n",
       " 'diys',\n",
       " 'dj',\n",
       " 'dnckm',\n",
       " 'do',\n",
       " 'doctor',\n",
       " 'document',\n",
       " 'does',\n",
       " 'doesn',\n",
       " 'doesnt',\n",
       " 'dog',\n",
       " 'doh',\n",
       " 'doing',\n",
       " 'dolacz',\n",
       " 'dollar',\n",
       " 'dollars',\n",
       " 'dom',\n",
       " 'dominate',\n",
       " 'don',\n",
       " 'donate',\n",
       " 'donating',\n",
       " 'done',\n",
       " 'dont',\n",
       " 'dope',\n",
       " 'dosing',\n",
       " 'dot',\n",
       " 'doubt',\n",
       " 'down',\n",
       " 'download',\n",
       " 'downloading',\n",
       " 'downloads',\n",
       " 'drama',\n",
       " 'dreaddis',\n",
       " 'dream',\n",
       " 'dreamers',\n",
       " 'dreaming',\n",
       " 'dreams',\n",
       " 'dref',\n",
       " 'dress',\n",
       " 'dresses',\n",
       " 'dressprettyonce',\n",
       " 'drews',\n",
       " 'dribbleproshot',\n",
       " 'drink',\n",
       " 'drirathiel',\n",
       " 'driving',\n",
       " 'drone',\n",
       " 'drones',\n",
       " 'drop',\n",
       " 'drugs',\n",
       " 'drum',\n",
       " 'drums',\n",
       " 'drunk',\n",
       " 'du',\n",
       " 'dubstep',\n",
       " 'dude',\n",
       " 'dudes',\n",
       " 'due',\n",
       " 'duel',\n",
       " 'dumb',\n",
       " 'dundundunnn',\n",
       " 'dunno',\n",
       " 'during',\n",
       " 'duty',\n",
       " 'dvdscr',\n",
       " 'décio',\n",
       " 'earn',\n",
       " 'earned',\n",
       " 'earning',\n",
       " 'earns',\n",
       " 'earth',\n",
       " 'earthquake',\n",
       " 'easily',\n",
       " 'easy',\n",
       " 'easypromosapp',\n",
       " 'eat',\n",
       " 'eating',\n",
       " 'ebay',\n",
       " 'ebook',\n",
       " 'echa',\n",
       " 'ed',\n",
       " 'ede05ea397ca',\n",
       " 'edge',\n",
       " 'editor',\n",
       " 'edm',\n",
       " 'educated',\n",
       " 'eeccon',\n",
       " 'effect',\n",
       " 'effort',\n",
       " 'efforts',\n",
       " 'eggmode',\n",
       " 'egoistic',\n",
       " 'eh',\n",
       " 'ehi',\n",
       " 'either',\n",
       " 'ej',\n",
       " 'elephant',\n",
       " 'elevator',\n",
       " 'eliminate',\n",
       " 'elongate',\n",
       " 'else',\n",
       " 'em',\n",
       " 'ema',\n",
       " 'email',\n",
       " 'emerson_zanol',\n",
       " 'emi',\n",
       " 'eminem',\n",
       " 'eminems',\n",
       " 'emoji',\n",
       " 'emotions',\n",
       " 'emphasis',\n",
       " ...]"
      ]
     },
     "execution_count": 39,
     "metadata": {},
     "output_type": "execute_result"
    }
   ],
   "source": [
    "# get the feature names\n",
    "cv.get_feature_names()"
   ]
  },
  {
   "cell_type": "markdown",
   "id": "removed-committee",
   "metadata": {},
   "source": [
    "# Model Building"
   ]
  },
  {
   "cell_type": "code",
   "execution_count": 40,
   "id": "reported-peter",
   "metadata": {},
   "outputs": [],
   "source": [
    "from sklearn.model_selection import train_test_split"
   ]
  },
  {
   "cell_type": "code",
   "execution_count": 44,
   "id": "convenient-internship",
   "metadata": {},
   "outputs": [],
   "source": [
    "x_train, x_test, y_train, y_test = train_test_split(X, df_y, test_size=0.33, random_state=42)"
   ]
  },
  {
   "cell_type": "code",
   "execution_count": 45,
   "id": "fuzzy-psychology",
   "metadata": {},
   "outputs": [
    {
     "name": "stdout",
     "output_type": "stream",
     "text": [
      "(775, 3183) (382, 3183) (775,) (382,)\n"
     ]
    }
   ],
   "source": [
    "print(x_train.shape,x_test.shape,y_train.shape,y_test.shape)"
   ]
  },
  {
   "cell_type": "markdown",
   "id": "egyptian-runner",
   "metadata": {},
   "source": [
    "# Functions"
   ]
  },
  {
   "cell_type": "code",
   "execution_count": 54,
   "id": "approved-carrier",
   "metadata": {},
   "outputs": [],
   "source": [
    "def get_test_report(model, x_test, y_test):\n",
    "    test_pred = model.predict(x_test)\n",
    "    return(classification_report(y_test, test_pred))"
   ]
  },
  {
   "cell_type": "code",
   "execution_count": 46,
   "id": "corporate-ranch",
   "metadata": {},
   "outputs": [],
   "source": [
    "def plot_confusion_matrix(model, x_test, y_test):\n",
    "    y_pred = model.predict(x_test)\n",
    "    cm = confusion_matrix(y_test, y_pred)\n",
    "    conf_matrix = pd.DataFrame(data = cm,columns = ['Predicted:0','Predicted:1'], index = ['Actual:0','Actual:1'])\n",
    "    sns.heatmap(conf_matrix, annot = True, fmt = 'd', cmap = ListedColormap(['lightskyblue']), cbar = False, \n",
    "                linewidths = 0.1, annot_kws = {'size':25})\n",
    "    plt.xticks(fontsize = 20)\n",
    "    plt.yticks(fontsize = 20)\n",
    "    plt.show()"
   ]
  },
  {
   "cell_type": "code",
   "execution_count": 47,
   "id": "cross-ecuador",
   "metadata": {},
   "outputs": [],
   "source": [
    "def plot_roc(model, x_test, y_test):\n",
    "    y_pred_prob = model.predict_proba(x_test)[:,1]\n",
    "    fpr, tpr, thresholds = roc_curve(y_test, y_pred_prob)\n",
    "    plt.plot(fpr, tpr)\n",
    "    plt.xlim([0.0, 1.0])\n",
    "    plt.ylim([0.0, 1.0])\n",
    "    plt.plot([0, 1], [0, 1],'r--')\n",
    "    plt.title('ROC curve', fontsize = 15)\n",
    "    plt.xlabel('False positive rate (1-Specificity)', fontsize = 15)\n",
    "    plt.ylabel('True positive rate (Sensitivity)', fontsize = 15)\n",
    "    plt.text(x = 0.02, y = 0.9, s = ('AUC Score:',round(roc_auc_score(y_test, y_pred_prob),4)))\n",
    "    plt.grid(True)"
   ]
  },
  {
   "cell_type": "code",
   "execution_count": 48,
   "id": "early-harris",
   "metadata": {},
   "outputs": [],
   "source": [
    "def calculate_auc_score(model, x_test, y_test):\n",
    "    y_pred_prob = model.predict_proba(x_test)[:,1]\n",
    "    return round(roc_auc_score(y_test, y_pred_prob),4)"
   ]
  },
  {
   "cell_type": "code",
   "execution_count": 49,
   "id": "accepted-emperor",
   "metadata": {},
   "outputs": [],
   "source": [
    "models_summary = pd.DataFrame(columns=['Model_name', 'AUC_score', 'Accuracy', 'Precision', 'Recall', 'F1_score'])"
   ]
  },
  {
   "cell_type": "code",
   "execution_count": 50,
   "id": "alert-bouquet",
   "metadata": {},
   "outputs": [],
   "source": [
    "def update_model_summary(model, x_test, y_test, model_name):\n",
    "    y_predict = model.predict(x_test)\n",
    "    return models_summary.append(pd.Series(\n",
    "        {\n",
    "            \"Model_name\": model_name,\n",
    "            \"AUC_score\": calculate_auc_score(model, x_test, y_test),\n",
    "            \"Accuracy\": model.score(x_test, y_test),\n",
    "            \"Precision\": precision_score(y_test, y_predict),\n",
    "            \"Recall\": recall_score(y_test, y_predict),\n",
    "            \"F1_score\": f1_score(y_test, y_predict)\n",
    "        }\n",
    "    ), ignore_index=True)"
   ]
  },
  {
   "cell_type": "markdown",
   "id": "separate-pursuit",
   "metadata": {},
   "source": [
    "# Logistic "
   ]
  },
  {
   "cell_type": "code",
   "execution_count": 51,
   "id": "psychological-mystery",
   "metadata": {},
   "outputs": [],
   "source": [
    "lr = LogisticRegression()\n",
    "logistic_model = lr.fit(X_train, y_train)"
   ]
  },
  {
   "cell_type": "code",
   "execution_count": 52,
   "id": "current-temple",
   "metadata": {},
   "outputs": [
    {
     "data": {
      "text/plain": [
       "0.9733"
      ]
     },
     "execution_count": 52,
     "metadata": {},
     "output_type": "execute_result"
    }
   ],
   "source": [
    "calculate_auc_score(logistic_model, X_test, y_test)"
   ]
  },
  {
   "cell_type": "code",
   "execution_count": 55,
   "id": "potential-digit",
   "metadata": {},
   "outputs": [
    {
     "name": "stdout",
     "output_type": "stream",
     "text": [
      "              precision    recall  f1-score   support\n",
      "\n",
      "           0       0.89      0.96      0.92       186\n",
      "           1       0.96      0.89      0.92       196\n",
      "\n",
      "    accuracy                           0.92       382\n",
      "   macro avg       0.92      0.92      0.92       382\n",
      "weighted avg       0.92      0.92      0.92       382\n",
      "\n"
     ]
    }
   ],
   "source": [
    "test_report = get_test_report(logistic_model, X_test, y_test)\n",
    "print(test_report)"
   ]
  },
  {
   "cell_type": "code",
   "execution_count": 56,
   "id": "minus-personality",
   "metadata": {},
   "outputs": [
    {
     "data": {
      "image/png": "[encoded data removed]",
      "text/plain": [
       "<Figure size 432x288 with 1 Axes>"
      ]
     },
     "metadata": {
      "needs_background": "light"
     },
     "output_type": "display_data"
    }
   ],
   "source": [
    "plot_roc(logistic_model, X_test, y_test)"
   ]
  },
  {
   "cell_type": "code",
   "execution_count": 57,
   "id": "searching-field",
   "metadata": {},
   "outputs": [
    {
     "data": {
      "image/png": "[encoded data removed]",
      "text/plain": [
       "<Figure size 432x288 with 1 Axes>"
      ]
     },
     "metadata": {
      "needs_background": "light"
     },
     "output_type": "display_data"
    }
   ],
   "source": [
    "plot_confusion_matrix(logistic_model, X_test, y_test)"
   ]
  },
  {
   "cell_type": "code",
   "execution_count": 58,
   "id": "disciplinary-banner",
   "metadata": {},
   "outputs": [],
   "source": [
    "models_summary = update_model_summary(logistic_model, X_test, y_test, \"Logistic model\")"
   ]
  },
  {
   "cell_type": "code",
   "execution_count": 59,
   "id": "sharing-worse",
   "metadata": {},
   "outputs": [
    {
     "data": {
      "text/html": [
       "<div>\n",
       "<style scoped>\n",
       "    .dataframe tbody tr th:only-of-type {\n",
       "        vertical-align: middle;\n",
       "    }\n",
       "\n",
       "    .dataframe tbody tr th {\n",
       "        vertical-align: top;\n",
       "    }\n",
       "\n",
       "    .dataframe thead th {\n",
       "        text-align: right;\n",
       "    }\n",
       "</style>\n",
       "<table border=\"1\" class=\"dataframe\">\n",
       "  <thead>\n",
       "    <tr style=\"text-align: right;\">\n",
       "      <th></th>\n",
       "      <th>Model_name</th>\n",
       "      <th>AUC_score</th>\n",
       "      <th>Accuracy</th>\n",
       "      <th>Precision</th>\n",
       "      <th>Recall</th>\n",
       "      <th>F1_score</th>\n",
       "    </tr>\n",
       "  </thead>\n",
       "  <tbody>\n",
       "    <tr>\n",
       "      <th>0</th>\n",
       "      <td>Logistic model</td>\n",
       "      <td>0.973300</td>\n",
       "      <td>0.921466</td>\n",
       "      <td>0.956044</td>\n",
       "      <td>0.887755</td>\n",
       "      <td>0.920635</td>\n",
       "    </tr>\n",
       "  </tbody>\n",
       "</table>\n",
       "</div>"
      ],
      "text/plain": [
       "       Model_name  AUC_score  Accuracy  Precision   Recall  F1_score\n",
       "0  Logistic model   0.973300  0.921466   0.956044 0.887755  0.920635"
      ]
     },
     "execution_count": 59,
     "metadata": {},
     "output_type": "execute_result"
    }
   ],
   "source": [
    "models_summary"
   ]
  },
  {
   "cell_type": "markdown",
   "id": "fixed-psychiatry",
   "metadata": {},
   "source": [
    "# Naive Bayes"
   ]
  },
  {
   "cell_type": "code",
   "execution_count": 62,
   "id": "floral-numbers",
   "metadata": {},
   "outputs": [],
   "source": [
    "from sklearn.naive_bayes import MultinomialNB\n",
    "mnb = MultinomialNB()\n",
    "mnb_model = mnb.fit(X_train, y_train)"
   ]
  },
  {
   "cell_type": "code",
   "execution_count": 63,
   "id": "owned-couple",
   "metadata": {},
   "outputs": [
    {
     "name": "stdout",
     "output_type": "stream",
     "text": [
      "              precision    recall  f1-score   support\n",
      "\n",
      "           0       0.90      0.88      0.89       186\n",
      "           1       0.89      0.91      0.90       196\n",
      "\n",
      "    accuracy                           0.90       382\n",
      "   macro avg       0.90      0.89      0.90       382\n",
      "weighted avg       0.90      0.90      0.90       382\n",
      "\n"
     ]
    }
   ],
   "source": [
    "test_report = get_test_report(mnb_model, X_test, y_test)\n",
    "print(test_report)"
   ]
  },
  {
   "cell_type": "code",
   "execution_count": 65,
   "id": "ecological-simon",
   "metadata": {},
   "outputs": [
    {
     "data": {
      "image/png": "[encoded data removed]",
      "text/plain": [
       "<Figure size 432x288 with 1 Axes>"
      ]
     },
     "metadata": {
      "needs_background": "light"
     },
     "output_type": "display_data"
    }
   ],
   "source": [
    "plot_roc(mnb_model, X_test, y_test)"
   ]
  },
  {
   "cell_type": "code",
   "execution_count": 66,
   "id": "equipped-study",
   "metadata": {},
   "outputs": [
    {
     "data": {
      "image/png": "[encoded data removed]",
      "text/plain": [
       "<Figure size 432x288 with 1 Axes>"
      ]
     },
     "metadata": {
      "needs_background": "light"
     },
     "output_type": "display_data"
    }
   ],
   "source": [
    "plot_confusion_matrix(mnb_model, X_test, y_test)"
   ]
  },
  {
   "cell_type": "code",
   "execution_count": 67,
   "id": "disturbed-japan",
   "metadata": {},
   "outputs": [],
   "source": [
    "models_summary = update_model_summary(mnb_model, X_test, y_test, \" MultinomialNB model\")\n"
   ]
  },
  {
   "cell_type": "code",
   "execution_count": 68,
   "id": "portable-transsexual",
   "metadata": {},
   "outputs": [
    {
     "data": {
      "text/html": [
       "<div>\n",
       "<style scoped>\n",
       "    .dataframe tbody tr th:only-of-type {\n",
       "        vertical-align: middle;\n",
       "    }\n",
       "\n",
       "    .dataframe tbody tr th {\n",
       "        vertical-align: top;\n",
       "    }\n",
       "\n",
       "    .dataframe thead th {\n",
       "        text-align: right;\n",
       "    }\n",
       "</style>\n",
       "<table border=\"1\" class=\"dataframe\">\n",
       "  <thead>\n",
       "    <tr style=\"text-align: right;\">\n",
       "      <th></th>\n",
       "      <th>Model_name</th>\n",
       "      <th>AUC_score</th>\n",
       "      <th>Accuracy</th>\n",
       "      <th>Precision</th>\n",
       "      <th>Recall</th>\n",
       "      <th>F1_score</th>\n",
       "    </tr>\n",
       "  </thead>\n",
       "  <tbody>\n",
       "    <tr>\n",
       "      <th>0</th>\n",
       "      <td>Logistic model</td>\n",
       "      <td>0.973300</td>\n",
       "      <td>0.921466</td>\n",
       "      <td>0.956044</td>\n",
       "      <td>0.887755</td>\n",
       "      <td>0.920635</td>\n",
       "    </tr>\n",
       "    <tr>\n",
       "      <th>1</th>\n",
       "      <td>MultinomialNB model</td>\n",
       "      <td>0.944300</td>\n",
       "      <td>0.895288</td>\n",
       "      <td>0.890000</td>\n",
       "      <td>0.908163</td>\n",
       "      <td>0.898990</td>\n",
       "    </tr>\n",
       "  </tbody>\n",
       "</table>\n",
       "</div>"
      ],
      "text/plain": [
       "             Model_name  AUC_score  Accuracy  Precision   Recall  F1_score\n",
       "0        Logistic model   0.973300  0.921466   0.956044 0.887755  0.920635\n",
       "1   MultinomialNB model   0.944300  0.895288   0.890000 0.908163  0.898990"
      ]
     },
     "execution_count": 68,
     "metadata": {},
     "output_type": "execute_result"
    }
   ],
   "source": [
    "models_summary"
   ]
  },
  {
   "cell_type": "markdown",
   "id": "simple-negative",
   "metadata": {},
   "source": [
    "# KNN"
   ]
  },
  {
   "cell_type": "code",
   "execution_count": 69,
   "id": "sixth-tumor",
   "metadata": {},
   "outputs": [],
   "source": [
    "knn_classification = KNeighborsClassifier(n_neighbors = 3)\n",
    "knn_model = knn_classification.fit(X_train, y_train)"
   ]
  },
  {
   "cell_type": "code",
   "execution_count": 70,
   "id": "neither-looking",
   "metadata": {},
   "outputs": [
    {
     "name": "stdout",
     "output_type": "stream",
     "text": [
      "              precision    recall  f1-score   support\n",
      "\n",
      "           0       0.77      0.98      0.86       186\n",
      "           1       0.97      0.72      0.83       196\n",
      "\n",
      "    accuracy                           0.85       382\n",
      "   macro avg       0.87      0.85      0.84       382\n",
      "weighted avg       0.87      0.85      0.84       382\n",
      "\n"
     ]
    }
   ],
   "source": [
    "test_report = get_test_report(knn_model, X_test, y_test)\n",
    "print(test_report)"
   ]
  },
  {
   "cell_type": "code",
   "execution_count": 71,
   "id": "funny-client",
   "metadata": {},
   "outputs": [
    {
     "data": {
      "image/png": "[encoded data removed]",
      "text/plain": [
       "<Figure size 432x288 with 1 Axes>"
      ]
     },
     "metadata": {
      "needs_background": "light"
     },
     "output_type": "display_data"
    }
   ],
   "source": [
    "plot_roc(knn_model, X_test, y_test)"
   ]
  },
  {
   "cell_type": "code",
   "execution_count": 72,
   "id": "indoor-mustang",
   "metadata": {},
   "outputs": [
    {
     "data": {
      "image/png": "[encoded data removed]",
      "text/plain": [
       "<Figure size 432x288 with 1 Axes>"
      ]
     },
     "metadata": {
      "needs_background": "light"
     },
     "output_type": "display_data"
    }
   ],
   "source": [
    "plot_confusion_matrix(knn_model, X_test, y_test)"
   ]
  },
  {
   "cell_type": "code",
   "execution_count": 73,
   "id": "declared-ballot",
   "metadata": {},
   "outputs": [],
   "source": [
    "models_summary = update_model_summary(knn_model, X_test, y_test, \"KNN model\")"
   ]
  },
  {
   "cell_type": "code",
   "execution_count": 74,
   "id": "chronic-yellow",
   "metadata": {},
   "outputs": [
    {
     "data": {
      "text/html": [
       "<div>\n",
       "<style scoped>\n",
       "    .dataframe tbody tr th:only-of-type {\n",
       "        vertical-align: middle;\n",
       "    }\n",
       "\n",
       "    .dataframe tbody tr th {\n",
       "        vertical-align: top;\n",
       "    }\n",
       "\n",
       "    .dataframe thead th {\n",
       "        text-align: right;\n",
       "    }\n",
       "</style>\n",
       "<table border=\"1\" class=\"dataframe\">\n",
       "  <thead>\n",
       "    <tr style=\"text-align: right;\">\n",
       "      <th></th>\n",
       "      <th>Model_name</th>\n",
       "      <th>AUC_score</th>\n",
       "      <th>Accuracy</th>\n",
       "      <th>Precision</th>\n",
       "      <th>Recall</th>\n",
       "      <th>F1_score</th>\n",
       "    </tr>\n",
       "  </thead>\n",
       "  <tbody>\n",
       "    <tr>\n",
       "      <th>0</th>\n",
       "      <td>Logistic model</td>\n",
       "      <td>0.973300</td>\n",
       "      <td>0.921466</td>\n",
       "      <td>0.956044</td>\n",
       "      <td>0.887755</td>\n",
       "      <td>0.920635</td>\n",
       "    </tr>\n",
       "    <tr>\n",
       "      <th>1</th>\n",
       "      <td>MultinomialNB model</td>\n",
       "      <td>0.944300</td>\n",
       "      <td>0.895288</td>\n",
       "      <td>0.890000</td>\n",
       "      <td>0.908163</td>\n",
       "      <td>0.898990</td>\n",
       "    </tr>\n",
       "    <tr>\n",
       "      <th>2</th>\n",
       "      <td>KNN model</td>\n",
       "      <td>0.899700</td>\n",
       "      <td>0.845550</td>\n",
       "      <td>0.972414</td>\n",
       "      <td>0.719388</td>\n",
       "      <td>0.826979</td>\n",
       "    </tr>\n",
       "  </tbody>\n",
       "</table>\n",
       "</div>"
      ],
      "text/plain": [
       "             Model_name  AUC_score  Accuracy  Precision   Recall  F1_score\n",
       "0        Logistic model   0.973300  0.921466   0.956044 0.887755  0.920635\n",
       "1   MultinomialNB model   0.944300  0.895288   0.890000 0.908163  0.898990\n",
       "2             KNN model   0.899700  0.845550   0.972414 0.719388  0.826979"
      ]
     },
     "execution_count": 74,
     "metadata": {},
     "output_type": "execute_result"
    }
   ],
   "source": [
    "models_summary"
   ]
  },
  {
   "cell_type": "code",
   "execution_count": 75,
   "id": "executed-testament",
   "metadata": {},
   "outputs": [
    {
     "name": "stdout",
     "output_type": "stream",
     "text": [
      "Best parameters for KNN Classifier:  {'metric': 'euclidean', 'n_neighbors': 1} \n",
      "\n"
     ]
    }
   ],
   "source": [
    "tuned_paramaters = {'n_neighbors': np.arange(1, 25, 2),\n",
    "                   'metric': ['hamming','euclidean','manhattan','Chebyshev']}\n",
    " \n",
    "# instantiate the 'KNeighborsClassifier' \n",
    "knn_classification = KNeighborsClassifier()\n",
    "\n",
    "knn_grid = GridSearchCV(estimator = knn_classification, \n",
    "                        param_grid = tuned_paramaters, \n",
    "                        cv = 5, \n",
    "                        scoring = 'accuracy')\n",
    "\n",
    "knn_grid.fit(X_train, y_train)\n",
    "\n",
    "print('Best parameters for KNN Classifier: ', knn_grid.best_params_, '\\n')"
   ]
  },
  {
   "cell_type": "code",
   "execution_count": 76,
   "id": "another-victim",
   "metadata": {},
   "outputs": [],
   "source": [
    "best_knn_classification = KNeighborsClassifier(n_neighbors = 1, metric = 'euclidean')\n",
    "best_knn_model = best_knn_classification.fit(X_train, y_train)"
   ]
  },
  {
   "cell_type": "code",
   "execution_count": 77,
   "id": "veterinary-tumor",
   "metadata": {},
   "outputs": [
    {
     "name": "stdout",
     "output_type": "stream",
     "text": [
      "              precision    recall  f1-score   support\n",
      "\n",
      "           0       0.79      0.98      0.87       186\n",
      "           1       0.97      0.75      0.85       196\n",
      "\n",
      "    accuracy                           0.86       382\n",
      "   macro avg       0.88      0.86      0.86       382\n",
      "weighted avg       0.88      0.86      0.86       382\n",
      "\n"
     ]
    }
   ],
   "source": [
    "test_report = get_test_report(best_knn_model, X_test, y_test)\n",
    "print(test_report)"
   ]
  },
  {
   "cell_type": "code",
   "execution_count": 78,
   "id": "fuzzy-worthy",
   "metadata": {},
   "outputs": [
    {
     "data": {
      "image/png": "[encoded data removed]",
      "text/plain": [
       "<Figure size 432x288 with 1 Axes>"
      ]
     },
     "metadata": {
      "needs_background": "light"
     },
     "output_type": "display_data"
    }
   ],
   "source": [
    "plot_roc(best_knn_model, X_test, y_test)"
   ]
  },
  {
   "cell_type": "code",
   "execution_count": 79,
   "id": "complicated-disorder",
   "metadata": {},
   "outputs": [
    {
     "data": {
      "image/png": "[encoded data removed]",
      "text/plain": [
       "<Figure size 432x288 with 1 Axes>"
      ]
     },
     "metadata": {
      "needs_background": "light"
     },
     "output_type": "display_data"
    }
   ],
   "source": [
    "plot_confusion_matrix(best_knn_model, X_test, y_test)"
   ]
  },
  {
   "cell_type": "code",
   "execution_count": 80,
   "id": "packed-feelings",
   "metadata": {},
   "outputs": [],
   "source": [
    "models_summary = update_model_summary(best_knn_model, X_test, y_test, \"KNN best model(manhattan - 1)\")"
   ]
  },
  {
   "cell_type": "code",
   "execution_count": 81,
   "id": "radio-highland",
   "metadata": {},
   "outputs": [
    {
     "data": {
      "text/html": [
       "<div>\n",
       "<style scoped>\n",
       "    .dataframe tbody tr th:only-of-type {\n",
       "        vertical-align: middle;\n",
       "    }\n",
       "\n",
       "    .dataframe tbody tr th {\n",
       "        vertical-align: top;\n",
       "    }\n",
       "\n",
       "    .dataframe thead th {\n",
       "        text-align: right;\n",
       "    }\n",
       "</style>\n",
       "<table border=\"1\" class=\"dataframe\">\n",
       "  <thead>\n",
       "    <tr style=\"text-align: right;\">\n",
       "      <th></th>\n",
       "      <th>Model_name</th>\n",
       "      <th>AUC_score</th>\n",
       "      <th>Accuracy</th>\n",
       "      <th>Precision</th>\n",
       "      <th>Recall</th>\n",
       "      <th>F1_score</th>\n",
       "    </tr>\n",
       "  </thead>\n",
       "  <tbody>\n",
       "    <tr>\n",
       "      <th>0</th>\n",
       "      <td>Logistic model</td>\n",
       "      <td>0.973300</td>\n",
       "      <td>0.921466</td>\n",
       "      <td>0.956044</td>\n",
       "      <td>0.887755</td>\n",
       "      <td>0.920635</td>\n",
       "    </tr>\n",
       "    <tr>\n",
       "      <th>1</th>\n",
       "      <td>MultinomialNB model</td>\n",
       "      <td>0.944300</td>\n",
       "      <td>0.895288</td>\n",
       "      <td>0.890000</td>\n",
       "      <td>0.908163</td>\n",
       "      <td>0.898990</td>\n",
       "    </tr>\n",
       "    <tr>\n",
       "      <th>2</th>\n",
       "      <td>KNN model</td>\n",
       "      <td>0.899700</td>\n",
       "      <td>0.845550</td>\n",
       "      <td>0.972414</td>\n",
       "      <td>0.719388</td>\n",
       "      <td>0.826979</td>\n",
       "    </tr>\n",
       "    <tr>\n",
       "      <th>3</th>\n",
       "      <td>KNN best model(manhattan - 1)</td>\n",
       "      <td>0.864200</td>\n",
       "      <td>0.861257</td>\n",
       "      <td>0.973510</td>\n",
       "      <td>0.750000</td>\n",
       "      <td>0.847262</td>\n",
       "    </tr>\n",
       "  </tbody>\n",
       "</table>\n",
       "</div>"
      ],
      "text/plain": [
       "                      Model_name  AUC_score  Accuracy  Precision   Recall  \\\n",
       "0                 Logistic model   0.973300  0.921466   0.956044 0.887755   \n",
       "1            MultinomialNB model   0.944300  0.895288   0.890000 0.908163   \n",
       "2                      KNN model   0.899700  0.845550   0.972414 0.719388   \n",
       "3  KNN best model(manhattan - 1)   0.864200  0.861257   0.973510 0.750000   \n",
       "\n",
       "   F1_score  \n",
       "0  0.920635  \n",
       "1  0.898990  \n",
       "2  0.826979  \n",
       "3  0.847262  "
      ]
     },
     "execution_count": 81,
     "metadata": {},
     "output_type": "execute_result"
    }
   ],
   "source": [
    "models_summary"
   ]
  },
  {
   "cell_type": "markdown",
   "id": "technical-traffic",
   "metadata": {},
   "source": [
    "# Decision Tree"
   ]
  },
  {
   "cell_type": "code",
   "execution_count": 90,
   "id": "ecological-discussion",
   "metadata": {},
   "outputs": [],
   "source": [
    "decision_tree_classification = DecisionTreeClassifier(criterion = 'entropy', random_state = 42,max_depth=2)\n",
    "decision_tree = decision_tree_classification.fit(x_train, y_train)"
   ]
  },
  {
   "cell_type": "code",
   "execution_count": 91,
   "id": "behind-sister",
   "metadata": {},
   "outputs": [
    {
     "data": {
      "text/plain": [
       "[Text(195.3, 317.09999999999997, 'X[2076] <= 0.5\\nentropy = 1.0\\nsamples = 775\\nvalue = [385, 390]'),\n",
       " Text(97.65, 190.26, 'X[2661] <= 0.5\\nentropy = 0.941\\nsamples = 598\\nvalue = [384, 214]'),\n",
       " Text(48.825, 63.420000000000016, 'entropy = 0.866\\nsamples = 539\\nvalue = [384, 155]'),\n",
       " Text(146.47500000000002, 63.420000000000016, 'entropy = 0.0\\nsamples = 59\\nvalue = [0, 59]'),\n",
       " Text(292.95000000000005, 190.26, 'X[474] <= 0.5\\nentropy = 0.05\\nsamples = 177\\nvalue = [1, 176]'),\n",
       " Text(244.125, 63.420000000000016, 'entropy = 0.0\\nsamples = 176\\nvalue = [0, 176]'),\n",
       " Text(341.77500000000003, 63.420000000000016, 'entropy = 0.0\\nsamples = 1\\nvalue = [1, 0]')]"
      ]
     },
     "execution_count": 91,
     "metadata": {},
     "output_type": "execute_result"
    },
    {
     "data": {
      "image/png": "[encoded data removed]",
      "text/plain": [
       "<Figure size 504x504 with 1 Axes>"
      ]
     },
     "metadata": {
      "needs_background": "light"
     },
     "output_type": "display_data"
    }
   ],
   "source": [
    "plt.rcParams['figure.figsize']=[7,7]\n",
    "from sklearn import tree\n",
    "tree.plot_tree(decision_tree,filled=True)"
   ]
  },
  {
   "cell_type": "code",
   "execution_count": 97,
   "id": "adjusted-morocco",
   "metadata": {},
   "outputs": [
    {
     "name": "stdout",
     "output_type": "stream",
     "text": [
      "              precision    recall  f1-score   support\n",
      "\n",
      "           0       0.69      0.99      0.81       186\n",
      "           1       0.98      0.58      0.73       196\n",
      "\n",
      "    accuracy                           0.78       382\n",
      "   macro avg       0.84      0.79      0.77       382\n",
      "weighted avg       0.84      0.78      0.77       382\n",
      "\n"
     ]
    }
   ],
   "source": [
    "print(get_test_report(decision_tree, x_test, y_test))"
   ]
  },
  {
   "cell_type": "code",
   "execution_count": 98,
   "id": "impaired-division",
   "metadata": {},
   "outputs": [
    {
     "data": {
      "image/png": "[encoded data removed]",
      "text/plain": [
       "<Figure size 504x504 with 1 Axes>"
      ]
     },
     "metadata": {
      "needs_background": "light"
     },
     "output_type": "display_data"
    }
   ],
   "source": [
    "plot_confusion_matrix(decision_tree, x_test, y_test)"
   ]
  },
  {
   "cell_type": "code",
   "execution_count": 99,
   "id": "circular-peripheral",
   "metadata": {},
   "outputs": [
    {
     "data": {
      "image/png": "[encoded data removed]",
      "text/plain": [
       "<Figure size 504x504 with 1 Axes>"
      ]
     },
     "metadata": {
      "needs_background": "light"
     },
     "output_type": "display_data"
    }
   ],
   "source": [
    "plot_roc(decision_tree, x_test, y_test)"
   ]
  },
  {
   "cell_type": "code",
   "execution_count": 100,
   "id": "vocational-thousand",
   "metadata": {},
   "outputs": [],
   "source": [
    "models_summary = update_model_summary(decision_tree, x_test, y_test, \"Decission Tree - Entropy\")"
   ]
  },
  {
   "cell_type": "code",
   "execution_count": 101,
   "id": "optional-disability",
   "metadata": {},
   "outputs": [
    {
     "data": {
      "text/html": [
       "<div>\n",
       "<style scoped>\n",
       "    .dataframe tbody tr th:only-of-type {\n",
       "        vertical-align: middle;\n",
       "    }\n",
       "\n",
       "    .dataframe tbody tr th {\n",
       "        vertical-align: top;\n",
       "    }\n",
       "\n",
       "    .dataframe thead th {\n",
       "        text-align: right;\n",
       "    }\n",
       "</style>\n",
       "<table border=\"1\" class=\"dataframe\">\n",
       "  <thead>\n",
       "    <tr style=\"text-align: right;\">\n",
       "      <th></th>\n",
       "      <th>Model_name</th>\n",
       "      <th>AUC_score</th>\n",
       "      <th>Accuracy</th>\n",
       "      <th>Precision</th>\n",
       "      <th>Recall</th>\n",
       "      <th>F1_score</th>\n",
       "    </tr>\n",
       "  </thead>\n",
       "  <tbody>\n",
       "    <tr>\n",
       "      <th>0</th>\n",
       "      <td>Logistic model</td>\n",
       "      <td>0.973300</td>\n",
       "      <td>0.921466</td>\n",
       "      <td>0.956044</td>\n",
       "      <td>0.887755</td>\n",
       "      <td>0.920635</td>\n",
       "    </tr>\n",
       "    <tr>\n",
       "      <th>1</th>\n",
       "      <td>MultinomialNB model</td>\n",
       "      <td>0.944300</td>\n",
       "      <td>0.895288</td>\n",
       "      <td>0.890000</td>\n",
       "      <td>0.908163</td>\n",
       "      <td>0.898990</td>\n",
       "    </tr>\n",
       "    <tr>\n",
       "      <th>2</th>\n",
       "      <td>KNN model</td>\n",
       "      <td>0.899700</td>\n",
       "      <td>0.845550</td>\n",
       "      <td>0.972414</td>\n",
       "      <td>0.719388</td>\n",
       "      <td>0.826979</td>\n",
       "    </tr>\n",
       "    <tr>\n",
       "      <th>3</th>\n",
       "      <td>KNN best model(manhattan - 1)</td>\n",
       "      <td>0.864200</td>\n",
       "      <td>0.861257</td>\n",
       "      <td>0.973510</td>\n",
       "      <td>0.750000</td>\n",
       "      <td>0.847262</td>\n",
       "    </tr>\n",
       "    <tr>\n",
       "      <th>4</th>\n",
       "      <td>Decission Tree - Entropy</td>\n",
       "      <td>0.785400</td>\n",
       "      <td>0.780105</td>\n",
       "      <td>0.982759</td>\n",
       "      <td>0.581633</td>\n",
       "      <td>0.730769</td>\n",
       "    </tr>\n",
       "  </tbody>\n",
       "</table>\n",
       "</div>"
      ],
      "text/plain": [
       "                      Model_name  AUC_score  Accuracy  Precision   Recall  \\\n",
       "0                 Logistic model   0.973300  0.921466   0.956044 0.887755   \n",
       "1            MultinomialNB model   0.944300  0.895288   0.890000 0.908163   \n",
       "2                      KNN model   0.899700  0.845550   0.972414 0.719388   \n",
       "3  KNN best model(manhattan - 1)   0.864200  0.861257   0.973510 0.750000   \n",
       "4       Decission Tree - Entropy   0.785400  0.780105   0.982759 0.581633   \n",
       "\n",
       "   F1_score  \n",
       "0  0.920635  \n",
       "1  0.898990  \n",
       "2  0.826979  \n",
       "3  0.847262  \n",
       "4  0.730769  "
      ]
     },
     "execution_count": 101,
     "metadata": {},
     "output_type": "execute_result"
    }
   ],
   "source": [
    "models_summary"
   ]
  },
  {
   "cell_type": "code",
   "execution_count": 102,
   "id": "warming-parker",
   "metadata": {},
   "outputs": [],
   "source": [
    "decision_tree_classification = DecisionTreeClassifier(criterion = 'gini', random_state = 10,max_depth=2)\n",
    "decision_tree = decision_tree_classification.fit(x_train, y_train)"
   ]
  },
  {
   "cell_type": "code",
   "execution_count": 103,
   "id": "accepted-peeing",
   "metadata": {},
   "outputs": [
    {
     "data": {
      "text/plain": [
       "[Text(195.3, 317.09999999999997, 'X[2076] <= 0.5\\ngini = 0.5\\nsamples = 775\\nvalue = [385, 390]'),\n",
       " Text(97.65, 190.26, 'X[708] <= 0.5\\ngini = 0.46\\nsamples = 598\\nvalue = [384, 214]'),\n",
       " Text(48.825, 63.420000000000016, 'gini = 0.407\\nsamples = 535\\nvalue = [383, 152]'),\n",
       " Text(146.47500000000002, 63.420000000000016, 'gini = 0.031\\nsamples = 63\\nvalue = [1, 62]'),\n",
       " Text(292.95000000000005, 190.26, 'X[502] <= 0.5\\ngini = 0.011\\nsamples = 177\\nvalue = [1, 176]'),\n",
       " Text(244.125, 63.420000000000016, 'gini = 0.0\\nsamples = 176\\nvalue = [0, 176]'),\n",
       " Text(341.77500000000003, 63.420000000000016, 'gini = 0.0\\nsamples = 1\\nvalue = [1, 0]')]"
      ]
     },
     "execution_count": 103,
     "metadata": {},
     "output_type": "execute_result"
    },
    {
     "data": {
      "image/png": "[encoded data removed]",
      "text/plain": [
       "<Figure size 504x504 with 1 Axes>"
      ]
     },
     "metadata": {
      "needs_background": "light"
     },
     "output_type": "display_data"
    }
   ],
   "source": [
    "tree.plot_tree(decision_tree,filled=True)"
   ]
  },
  {
   "cell_type": "code",
   "execution_count": 105,
   "id": "political-register",
   "metadata": {},
   "outputs": [
    {
     "name": "stdout",
     "output_type": "stream",
     "text": [
      "              precision    recall  f1-score   support\n",
      "\n",
      "           0       0.68      0.98      0.81       186\n",
      "           1       0.97      0.57      0.72       196\n",
      "\n",
      "    accuracy                           0.77       382\n",
      "   macro avg       0.83      0.78      0.76       382\n",
      "weighted avg       0.83      0.77      0.76       382\n",
      "\n"
     ]
    }
   ],
   "source": [
    "print(get_test_report(decision_tree, x_test, y_test))"
   ]
  },
  {
   "cell_type": "code",
   "execution_count": 106,
   "id": "governing-silver",
   "metadata": {},
   "outputs": [
    {
     "data": {
      "image/png": "[encoded data removed]",
      "text/plain": [
       "<Figure size 504x504 with 1 Axes>"
      ]
     },
     "metadata": {
      "needs_background": "light"
     },
     "output_type": "display_data"
    }
   ],
   "source": [
    "plot_confusion_matrix(decision_tree, x_test, y_test)"
   ]
  },
  {
   "cell_type": "code",
   "execution_count": 107,
   "id": "anonymous-dakota",
   "metadata": {},
   "outputs": [
    {
     "data": {
      "image/png": "[encoded data removed]",
      "text/plain": [
       "<Figure size 504x504 with 1 Axes>"
      ]
     },
     "metadata": {
      "needs_background": "light"
     },
     "output_type": "display_data"
    }
   ],
   "source": [
    "plot_roc(decision_tree, x_test, y_test)"
   ]
  },
  {
   "cell_type": "code",
   "execution_count": 108,
   "id": "historic-bennett",
   "metadata": {},
   "outputs": [],
   "source": [
    "models_summary = update_model_summary(decision_tree, x_test, y_test, \"Decission Tree - Gini\")"
   ]
  },
  {
   "cell_type": "code",
   "execution_count": 110,
   "id": "perfect-procedure",
   "metadata": {},
   "outputs": [
    {
     "data": {
      "text/html": [
       "<div>\n",
       "<style scoped>\n",
       "    .dataframe tbody tr th:only-of-type {\n",
       "        vertical-align: middle;\n",
       "    }\n",
       "\n",
       "    .dataframe tbody tr th {\n",
       "        vertical-align: top;\n",
       "    }\n",
       "\n",
       "    .dataframe thead th {\n",
       "        text-align: right;\n",
       "    }\n",
       "</style>\n",
       "<table border=\"1\" class=\"dataframe\">\n",
       "  <thead>\n",
       "    <tr style=\"text-align: right;\">\n",
       "      <th></th>\n",
       "      <th>Model_name</th>\n",
       "      <th>AUC_score</th>\n",
       "      <th>Accuracy</th>\n",
       "      <th>Precision</th>\n",
       "      <th>Recall</th>\n",
       "      <th>F1_score</th>\n",
       "    </tr>\n",
       "  </thead>\n",
       "  <tbody>\n",
       "    <tr>\n",
       "      <th>0</th>\n",
       "      <td>Logistic model</td>\n",
       "      <td>0.973300</td>\n",
       "      <td>0.921466</td>\n",
       "      <td>0.956044</td>\n",
       "      <td>0.887755</td>\n",
       "      <td>0.920635</td>\n",
       "    </tr>\n",
       "    <tr>\n",
       "      <th>1</th>\n",
       "      <td>MultinomialNB model</td>\n",
       "      <td>0.944300</td>\n",
       "      <td>0.895288</td>\n",
       "      <td>0.890000</td>\n",
       "      <td>0.908163</td>\n",
       "      <td>0.898990</td>\n",
       "    </tr>\n",
       "    <tr>\n",
       "      <th>2</th>\n",
       "      <td>KNN model</td>\n",
       "      <td>0.899700</td>\n",
       "      <td>0.845550</td>\n",
       "      <td>0.972414</td>\n",
       "      <td>0.719388</td>\n",
       "      <td>0.826979</td>\n",
       "    </tr>\n",
       "    <tr>\n",
       "      <th>3</th>\n",
       "      <td>KNN best model(manhattan - 1)</td>\n",
       "      <td>0.864200</td>\n",
       "      <td>0.861257</td>\n",
       "      <td>0.973510</td>\n",
       "      <td>0.750000</td>\n",
       "      <td>0.847262</td>\n",
       "    </tr>\n",
       "    <tr>\n",
       "      <th>4</th>\n",
       "      <td>Decission Tree - Entropy</td>\n",
       "      <td>0.785400</td>\n",
       "      <td>0.780105</td>\n",
       "      <td>0.982759</td>\n",
       "      <td>0.581633</td>\n",
       "      <td>0.730769</td>\n",
       "    </tr>\n",
       "    <tr>\n",
       "      <th>5</th>\n",
       "      <td>Decission Tree - Gini</td>\n",
       "      <td>0.775300</td>\n",
       "      <td>0.769634</td>\n",
       "      <td>0.973684</td>\n",
       "      <td>0.566327</td>\n",
       "      <td>0.716129</td>\n",
       "    </tr>\n",
       "  </tbody>\n",
       "</table>\n",
       "</div>"
      ],
      "text/plain": [
       "                      Model_name  AUC_score  Accuracy  Precision   Recall  \\\n",
       "0                 Logistic model   0.973300  0.921466   0.956044 0.887755   \n",
       "1            MultinomialNB model   0.944300  0.895288   0.890000 0.908163   \n",
       "2                      KNN model   0.899700  0.845550   0.972414 0.719388   \n",
       "3  KNN best model(manhattan - 1)   0.864200  0.861257   0.973510 0.750000   \n",
       "4       Decission Tree - Entropy   0.785400  0.780105   0.982759 0.581633   \n",
       "5          Decission Tree - Gini   0.775300  0.769634   0.973684 0.566327   \n",
       "\n",
       "   F1_score  \n",
       "0  0.920635  \n",
       "1  0.898990  \n",
       "2  0.826979  \n",
       "3  0.847262  \n",
       "4  0.730769  \n",
       "5  0.716129  "
      ]
     },
     "execution_count": 110,
     "metadata": {},
     "output_type": "execute_result"
    }
   ],
   "source": [
    "models_summary"
   ]
  },
  {
   "cell_type": "markdown",
   "id": "respiratory-priest",
   "metadata": {},
   "source": [
    "# Random Forest"
   ]
  },
  {
   "cell_type": "code",
   "execution_count": 111,
   "id": "talented-demonstration",
   "metadata": {},
   "outputs": [],
   "source": [
    "rf_classification = RandomForestClassifier(n_estimators = 10, random_state = 10)\n",
    "rf_model = rf_classification.fit(x_train, y_train)"
   ]
  },
  {
   "cell_type": "code",
   "execution_count": 112,
   "id": "demonstrated-museum",
   "metadata": {},
   "outputs": [
    {
     "name": "stdout",
     "output_type": "stream",
     "text": [
      "              precision    recall  f1-score   support\n",
      "\n",
      "           0       0.90      0.96      0.93       186\n",
      "           1       0.96      0.89      0.93       196\n",
      "\n",
      "    accuracy                           0.93       382\n",
      "   macro avg       0.93      0.93      0.93       382\n",
      "weighted avg       0.93      0.93      0.93       382\n",
      "\n"
     ]
    }
   ],
   "source": [
    "print(get_test_report(rf_model, x_test, y_test))"
   ]
  },
  {
   "cell_type": "code",
   "execution_count": 113,
   "id": "sacred-footage",
   "metadata": {},
   "outputs": [
    {
     "data": {
      "image/png": "[encoded data removed]",
      "text/plain": [
       "<Figure size 504x504 with 1 Axes>"
      ]
     },
     "metadata": {
      "needs_background": "light"
     },
     "output_type": "display_data"
    }
   ],
   "source": [
    "plot_confusion_matrix(rf_model, x_test, y_test)"
   ]
  },
  {
   "cell_type": "code",
   "execution_count": 114,
   "id": "impressive-europe",
   "metadata": {},
   "outputs": [
    {
     "data": {
      "image/png": "[encoded data removed]",
      "text/plain": [
       "<Figure size 504x504 with 1 Axes>"
      ]
     },
     "metadata": {
      "needs_background": "light"
     },
     "output_type": "display_data"
    }
   ],
   "source": [
    "plot_roc(rf_model, x_test, y_test)"
   ]
  },
  {
   "cell_type": "code",
   "execution_count": 115,
   "id": "protected-architect",
   "metadata": {},
   "outputs": [],
   "source": [
    "models_summary = update_model_summary(rf_model, x_test, y_test, \"Random Forest\")"
   ]
  },
  {
   "cell_type": "code",
   "execution_count": 116,
   "id": "present-blood",
   "metadata": {},
   "outputs": [
    {
     "data": {
      "text/html": [
       "<div>\n",
       "<style scoped>\n",
       "    .dataframe tbody tr th:only-of-type {\n",
       "        vertical-align: middle;\n",
       "    }\n",
       "\n",
       "    .dataframe tbody tr th {\n",
       "        vertical-align: top;\n",
       "    }\n",
       "\n",
       "    .dataframe thead th {\n",
       "        text-align: right;\n",
       "    }\n",
       "</style>\n",
       "<table border=\"1\" class=\"dataframe\">\n",
       "  <thead>\n",
       "    <tr style=\"text-align: right;\">\n",
       "      <th></th>\n",
       "      <th>Model_name</th>\n",
       "      <th>AUC_score</th>\n",
       "      <th>Accuracy</th>\n",
       "      <th>Precision</th>\n",
       "      <th>Recall</th>\n",
       "      <th>F1_score</th>\n",
       "    </tr>\n",
       "  </thead>\n",
       "  <tbody>\n",
       "    <tr>\n",
       "      <th>0</th>\n",
       "      <td>Logistic model</td>\n",
       "      <td>0.973300</td>\n",
       "      <td>0.921466</td>\n",
       "      <td>0.956044</td>\n",
       "      <td>0.887755</td>\n",
       "      <td>0.920635</td>\n",
       "    </tr>\n",
       "    <tr>\n",
       "      <th>1</th>\n",
       "      <td>MultinomialNB model</td>\n",
       "      <td>0.944300</td>\n",
       "      <td>0.895288</td>\n",
       "      <td>0.890000</td>\n",
       "      <td>0.908163</td>\n",
       "      <td>0.898990</td>\n",
       "    </tr>\n",
       "    <tr>\n",
       "      <th>2</th>\n",
       "      <td>KNN model</td>\n",
       "      <td>0.899700</td>\n",
       "      <td>0.845550</td>\n",
       "      <td>0.972414</td>\n",
       "      <td>0.719388</td>\n",
       "      <td>0.826979</td>\n",
       "    </tr>\n",
       "    <tr>\n",
       "      <th>3</th>\n",
       "      <td>KNN best model(manhattan - 1)</td>\n",
       "      <td>0.864200</td>\n",
       "      <td>0.861257</td>\n",
       "      <td>0.973510</td>\n",
       "      <td>0.750000</td>\n",
       "      <td>0.847262</td>\n",
       "    </tr>\n",
       "    <tr>\n",
       "      <th>4</th>\n",
       "      <td>Decission Tree - Entropy</td>\n",
       "      <td>0.785400</td>\n",
       "      <td>0.780105</td>\n",
       "      <td>0.982759</td>\n",
       "      <td>0.581633</td>\n",
       "      <td>0.730769</td>\n",
       "    </tr>\n",
       "    <tr>\n",
       "      <th>5</th>\n",
       "      <td>Decission Tree - Gini</td>\n",
       "      <td>0.775300</td>\n",
       "      <td>0.769634</td>\n",
       "      <td>0.973684</td>\n",
       "      <td>0.566327</td>\n",
       "      <td>0.716129</td>\n",
       "    </tr>\n",
       "    <tr>\n",
       "      <th>6</th>\n",
       "      <td>Random Forest</td>\n",
       "      <td>0.974500</td>\n",
       "      <td>0.926702</td>\n",
       "      <td>0.961538</td>\n",
       "      <td>0.892857</td>\n",
       "      <td>0.925926</td>\n",
       "    </tr>\n",
       "  </tbody>\n",
       "</table>\n",
       "</div>"
      ],
      "text/plain": [
       "                      Model_name  AUC_score  Accuracy  Precision   Recall  \\\n",
       "0                 Logistic model   0.973300  0.921466   0.956044 0.887755   \n",
       "1            MultinomialNB model   0.944300  0.895288   0.890000 0.908163   \n",
       "2                      KNN model   0.899700  0.845550   0.972414 0.719388   \n",
       "3  KNN best model(manhattan - 1)   0.864200  0.861257   0.973510 0.750000   \n",
       "4       Decission Tree - Entropy   0.785400  0.780105   0.982759 0.581633   \n",
       "5          Decission Tree - Gini   0.775300  0.769634   0.973684 0.566327   \n",
       "6                  Random Forest   0.974500  0.926702   0.961538 0.892857   \n",
       "\n",
       "   F1_score  \n",
       "0  0.920635  \n",
       "1  0.898990  \n",
       "2  0.826979  \n",
       "3  0.847262  \n",
       "4  0.730769  \n",
       "5  0.716129  \n",
       "6  0.925926  "
      ]
     },
     "execution_count": 116,
     "metadata": {},
     "output_type": "execute_result"
    }
   ],
   "source": [
    "models_summary"
   ]
  },
  {
   "cell_type": "code",
   "execution_count": 117,
   "id": "hispanic-courage",
   "metadata": {},
   "outputs": [
    {
     "name": "stdout",
     "output_type": "stream",
     "text": [
      "Classification Report for test set:\n",
      "               precision    recall  f1-score   support\n",
      "\n",
      "           0       0.81      0.98      0.89       186\n",
      "           1       0.97      0.78      0.87       196\n",
      "\n",
      "    accuracy                           0.88       382\n",
      "   macro avg       0.89      0.88      0.88       382\n",
      "weighted avg       0.89      0.88      0.88       382\n",
      "\n"
     ]
    }
   ],
   "source": [
    "\n",
    "rf_model_tune = RandomForestClassifier(criterion = 'entropy', \n",
    "                                  n_estimators = 15,\n",
    "                                  max_depth = 10 ,\n",
    "                                  max_features = 'sqrt',\n",
    "                                  max_leaf_nodes = 11,\n",
    "                                  min_samples_leaf = 3,\n",
    "                                  min_samples_split = 9,\n",
    "                                  random_state = 10)\n",
    "\n",
    "rf_model_tune = rf_model_tune.fit(x_train, y_train)\n",
    "\n",
    "# print the performance measures for test set for the model with best parameters\n",
    "print('Classification Report for test set:\\n', get_test_report(rf_model_tune, x_test, y_test))"
   ]
  },
  {
   "cell_type": "code",
   "execution_count": 118,
   "id": "aboriginal-mathematics",
   "metadata": {},
   "outputs": [
    {
     "data": {
      "image/png": "[encoded data removed]",
      "text/plain": [
       "<Figure size 504x504 with 1 Axes>"
      ]
     },
     "metadata": {
      "needs_background": "light"
     },
     "output_type": "display_data"
    }
   ],
   "source": [
    "plot_confusion_matrix(rf_model_tune, x_test, y_test)"
   ]
  },
  {
   "cell_type": "code",
   "execution_count": 119,
   "id": "instant-parliament",
   "metadata": {},
   "outputs": [
    {
     "data": {
      "image/png": "[encoded data removed]",
      "text/plain": [
       "<Figure size 504x504 with 1 Axes>"
      ]
     },
     "metadata": {
      "needs_background": "light"
     },
     "output_type": "display_data"
    }
   ],
   "source": [
    "plot_roc(rf_model_tune, x_test, y_test)"
   ]
  },
  {
   "cell_type": "code",
   "execution_count": 120,
   "id": "instructional-virgin",
   "metadata": {},
   "outputs": [],
   "source": [
    "models_summary = update_model_summary(rf_model_tune, x_test, y_test, \"Random Forest - Tuned Hyperparameter\")"
   ]
  },
  {
   "cell_type": "code",
   "execution_count": 121,
   "id": "creative-keyboard",
   "metadata": {},
   "outputs": [
    {
     "data": {
      "text/html": [
       "<div>\n",
       "<style scoped>\n",
       "    .dataframe tbody tr th:only-of-type {\n",
       "        vertical-align: middle;\n",
       "    }\n",
       "\n",
       "    .dataframe tbody tr th {\n",
       "        vertical-align: top;\n",
       "    }\n",
       "\n",
       "    .dataframe thead th {\n",
       "        text-align: right;\n",
       "    }\n",
       "</style>\n",
       "<table border=\"1\" class=\"dataframe\">\n",
       "  <thead>\n",
       "    <tr style=\"text-align: right;\">\n",
       "      <th></th>\n",
       "      <th>Model_name</th>\n",
       "      <th>AUC_score</th>\n",
       "      <th>Accuracy</th>\n",
       "      <th>Precision</th>\n",
       "      <th>Recall</th>\n",
       "      <th>F1_score</th>\n",
       "    </tr>\n",
       "  </thead>\n",
       "  <tbody>\n",
       "    <tr>\n",
       "      <th>0</th>\n",
       "      <td>Logistic model</td>\n",
       "      <td>0.973300</td>\n",
       "      <td>0.921466</td>\n",
       "      <td>0.956044</td>\n",
       "      <td>0.887755</td>\n",
       "      <td>0.920635</td>\n",
       "    </tr>\n",
       "    <tr>\n",
       "      <th>1</th>\n",
       "      <td>MultinomialNB model</td>\n",
       "      <td>0.944300</td>\n",
       "      <td>0.895288</td>\n",
       "      <td>0.890000</td>\n",
       "      <td>0.908163</td>\n",
       "      <td>0.898990</td>\n",
       "    </tr>\n",
       "    <tr>\n",
       "      <th>2</th>\n",
       "      <td>KNN model</td>\n",
       "      <td>0.899700</td>\n",
       "      <td>0.845550</td>\n",
       "      <td>0.972414</td>\n",
       "      <td>0.719388</td>\n",
       "      <td>0.826979</td>\n",
       "    </tr>\n",
       "    <tr>\n",
       "      <th>3</th>\n",
       "      <td>KNN best model(manhattan - 1)</td>\n",
       "      <td>0.864200</td>\n",
       "      <td>0.861257</td>\n",
       "      <td>0.973510</td>\n",
       "      <td>0.750000</td>\n",
       "      <td>0.847262</td>\n",
       "    </tr>\n",
       "    <tr>\n",
       "      <th>4</th>\n",
       "      <td>Decission Tree - Entropy</td>\n",
       "      <td>0.785400</td>\n",
       "      <td>0.780105</td>\n",
       "      <td>0.982759</td>\n",
       "      <td>0.581633</td>\n",
       "      <td>0.730769</td>\n",
       "    </tr>\n",
       "    <tr>\n",
       "      <th>5</th>\n",
       "      <td>Decission Tree - Gini</td>\n",
       "      <td>0.775300</td>\n",
       "      <td>0.769634</td>\n",
       "      <td>0.973684</td>\n",
       "      <td>0.566327</td>\n",
       "      <td>0.716129</td>\n",
       "    </tr>\n",
       "    <tr>\n",
       "      <th>6</th>\n",
       "      <td>Random Forest</td>\n",
       "      <td>0.974500</td>\n",
       "      <td>0.926702</td>\n",
       "      <td>0.961538</td>\n",
       "      <td>0.892857</td>\n",
       "      <td>0.925926</td>\n",
       "    </tr>\n",
       "    <tr>\n",
       "      <th>7</th>\n",
       "      <td>Random Forest - Tuned Hyperparameter</td>\n",
       "      <td>0.961200</td>\n",
       "      <td>0.876963</td>\n",
       "      <td>0.974522</td>\n",
       "      <td>0.780612</td>\n",
       "      <td>0.866856</td>\n",
       "    </tr>\n",
       "  </tbody>\n",
       "</table>\n",
       "</div>"
      ],
      "text/plain": [
       "                             Model_name  AUC_score  Accuracy  Precision  \\\n",
       "0                        Logistic model   0.973300  0.921466   0.956044   \n",
       "1                   MultinomialNB model   0.944300  0.895288   0.890000   \n",
       "2                             KNN model   0.899700  0.845550   0.972414   \n",
       "3         KNN best model(manhattan - 1)   0.864200  0.861257   0.973510   \n",
       "4              Decission Tree - Entropy   0.785400  0.780105   0.982759   \n",
       "5                 Decission Tree - Gini   0.775300  0.769634   0.973684   \n",
       "6                         Random Forest   0.974500  0.926702   0.961538   \n",
       "7  Random Forest - Tuned Hyperparameter   0.961200  0.876963   0.974522   \n",
       "\n",
       "    Recall  F1_score  \n",
       "0 0.887755  0.920635  \n",
       "1 0.908163  0.898990  \n",
       "2 0.719388  0.826979  \n",
       "3 0.750000  0.847262  \n",
       "4 0.581633  0.730769  \n",
       "5 0.566327  0.716129  \n",
       "6 0.892857  0.925926  \n",
       "7 0.780612  0.866856  "
      ]
     },
     "execution_count": 121,
     "metadata": {},
     "output_type": "execute_result"
    }
   ],
   "source": [
    "models_summary"
   ]
  },
  {
   "cell_type": "markdown",
   "id": "scheduled-healthcare",
   "metadata": {},
   "source": [
    "# AdaBoost"
   ]
  },
  {
   "cell_type": "code",
   "execution_count": 122,
   "id": "supreme-visit",
   "metadata": {},
   "outputs": [
    {
     "data": {
      "text/plain": [
       "AdaBoostClassifier(n_estimators=40, random_state=10)"
      ]
     },
     "execution_count": 122,
     "metadata": {},
     "output_type": "execute_result"
    }
   ],
   "source": [
    "ada_model = AdaBoostClassifier(n_estimators = 40, random_state = 10)\n",
    "ada_model.fit(x_train, y_train)"
   ]
  },
  {
   "cell_type": "code",
   "execution_count": 123,
   "id": "velvet-regard",
   "metadata": {},
   "outputs": [
    {
     "name": "stdout",
     "output_type": "stream",
     "text": [
      "              precision    recall  f1-score   support\n",
      "\n",
      "           0       0.90      0.94      0.92       186\n",
      "           1       0.94      0.90      0.92       196\n",
      "\n",
      "    accuracy                           0.92       382\n",
      "   macro avg       0.92      0.92      0.92       382\n",
      "weighted avg       0.92      0.92      0.92       382\n",
      "\n"
     ]
    }
   ],
   "source": [
    "print(get_test_report(ada_model, x_test, y_test))"
   ]
  },
  {
   "cell_type": "code",
   "execution_count": 124,
   "id": "stock-sheep",
   "metadata": {},
   "outputs": [
    {
     "data": {
      "image/png": "[encoded data removed]",
      "text/plain": [
       "<Figure size 504x504 with 1 Axes>"
      ]
     },
     "metadata": {
      "needs_background": "light"
     },
     "output_type": "display_data"
    }
   ],
   "source": [
    "plot_confusion_matrix(ada_model, x_test, y_test)"
   ]
  },
  {
   "cell_type": "code",
   "execution_count": 125,
   "id": "governing-publisher",
   "metadata": {},
   "outputs": [
    {
     "data": {
      "image/png": "[encoded data removed]",
      "text/plain": [
       "<Figure size 504x504 with 1 Axes>"
      ]
     },
     "metadata": {
      "needs_background": "light"
     },
     "output_type": "display_data"
    }
   ],
   "source": [
    "plot_roc(ada_model, x_test, y_test)"
   ]
  },
  {
   "cell_type": "code",
   "execution_count": 126,
   "id": "collaborative-marker",
   "metadata": {},
   "outputs": [],
   "source": [
    "models_summary = update_model_summary(ada_model, x_test, y_test, \"Ada Boost Model\")"
   ]
  },
  {
   "cell_type": "code",
   "execution_count": 127,
   "id": "small-reservoir",
   "metadata": {},
   "outputs": [
    {
     "data": {
      "text/html": [
       "<div>\n",
       "<style scoped>\n",
       "    .dataframe tbody tr th:only-of-type {\n",
       "        vertical-align: middle;\n",
       "    }\n",
       "\n",
       "    .dataframe tbody tr th {\n",
       "        vertical-align: top;\n",
       "    }\n",
       "\n",
       "    .dataframe thead th {\n",
       "        text-align: right;\n",
       "    }\n",
       "</style>\n",
       "<table border=\"1\" class=\"dataframe\">\n",
       "  <thead>\n",
       "    <tr style=\"text-align: right;\">\n",
       "      <th></th>\n",
       "      <th>Model_name</th>\n",
       "      <th>AUC_score</th>\n",
       "      <th>Accuracy</th>\n",
       "      <th>Precision</th>\n",
       "      <th>Recall</th>\n",
       "      <th>F1_score</th>\n",
       "    </tr>\n",
       "  </thead>\n",
       "  <tbody>\n",
       "    <tr>\n",
       "      <th>0</th>\n",
       "      <td>Logistic model</td>\n",
       "      <td>0.973300</td>\n",
       "      <td>0.921466</td>\n",
       "      <td>0.956044</td>\n",
       "      <td>0.887755</td>\n",
       "      <td>0.920635</td>\n",
       "    </tr>\n",
       "    <tr>\n",
       "      <th>1</th>\n",
       "      <td>MultinomialNB model</td>\n",
       "      <td>0.944300</td>\n",
       "      <td>0.895288</td>\n",
       "      <td>0.890000</td>\n",
       "      <td>0.908163</td>\n",
       "      <td>0.898990</td>\n",
       "    </tr>\n",
       "    <tr>\n",
       "      <th>2</th>\n",
       "      <td>KNN model</td>\n",
       "      <td>0.899700</td>\n",
       "      <td>0.845550</td>\n",
       "      <td>0.972414</td>\n",
       "      <td>0.719388</td>\n",
       "      <td>0.826979</td>\n",
       "    </tr>\n",
       "    <tr>\n",
       "      <th>3</th>\n",
       "      <td>KNN best model(manhattan - 1)</td>\n",
       "      <td>0.864200</td>\n",
       "      <td>0.861257</td>\n",
       "      <td>0.973510</td>\n",
       "      <td>0.750000</td>\n",
       "      <td>0.847262</td>\n",
       "    </tr>\n",
       "    <tr>\n",
       "      <th>4</th>\n",
       "      <td>Decission Tree - Entropy</td>\n",
       "      <td>0.785400</td>\n",
       "      <td>0.780105</td>\n",
       "      <td>0.982759</td>\n",
       "      <td>0.581633</td>\n",
       "      <td>0.730769</td>\n",
       "    </tr>\n",
       "    <tr>\n",
       "      <th>5</th>\n",
       "      <td>Decission Tree - Gini</td>\n",
       "      <td>0.775300</td>\n",
       "      <td>0.769634</td>\n",
       "      <td>0.973684</td>\n",
       "      <td>0.566327</td>\n",
       "      <td>0.716129</td>\n",
       "    </tr>\n",
       "    <tr>\n",
       "      <th>6</th>\n",
       "      <td>Random Forest</td>\n",
       "      <td>0.974500</td>\n",
       "      <td>0.926702</td>\n",
       "      <td>0.961538</td>\n",
       "      <td>0.892857</td>\n",
       "      <td>0.925926</td>\n",
       "    </tr>\n",
       "    <tr>\n",
       "      <th>7</th>\n",
       "      <td>Random Forest - Tuned Hyperparameter</td>\n",
       "      <td>0.961200</td>\n",
       "      <td>0.876963</td>\n",
       "      <td>0.974522</td>\n",
       "      <td>0.780612</td>\n",
       "      <td>0.866856</td>\n",
       "    </tr>\n",
       "    <tr>\n",
       "      <th>8</th>\n",
       "      <td>Ada Boost Model</td>\n",
       "      <td>0.964500</td>\n",
       "      <td>0.921466</td>\n",
       "      <td>0.941489</td>\n",
       "      <td>0.903061</td>\n",
       "      <td>0.921875</td>\n",
       "    </tr>\n",
       "  </tbody>\n",
       "</table>\n",
       "</div>"
      ],
      "text/plain": [
       "                             Model_name  AUC_score  Accuracy  Precision  \\\n",
       "0                        Logistic model   0.973300  0.921466   0.956044   \n",
       "1                   MultinomialNB model   0.944300  0.895288   0.890000   \n",
       "2                             KNN model   0.899700  0.845550   0.972414   \n",
       "3         KNN best model(manhattan - 1)   0.864200  0.861257   0.973510   \n",
       "4              Decission Tree - Entropy   0.785400  0.780105   0.982759   \n",
       "5                 Decission Tree - Gini   0.775300  0.769634   0.973684   \n",
       "6                         Random Forest   0.974500  0.926702   0.961538   \n",
       "7  Random Forest - Tuned Hyperparameter   0.961200  0.876963   0.974522   \n",
       "8                       Ada Boost Model   0.964500  0.921466   0.941489   \n",
       "\n",
       "    Recall  F1_score  \n",
       "0 0.887755  0.920635  \n",
       "1 0.908163  0.898990  \n",
       "2 0.719388  0.826979  \n",
       "3 0.750000  0.847262  \n",
       "4 0.581633  0.730769  \n",
       "5 0.566327  0.716129  \n",
       "6 0.892857  0.925926  \n",
       "7 0.780612  0.866856  \n",
       "8 0.903061  0.921875  "
      ]
     },
     "execution_count": 127,
     "metadata": {},
     "output_type": "execute_result"
    }
   ],
   "source": [
    "models_summary"
   ]
  },
  {
   "cell_type": "markdown",
   "id": "judicial-bernard",
   "metadata": {},
   "source": [
    "# Gradient Boosting"
   ]
  },
  {
   "cell_type": "code",
   "execution_count": 128,
   "id": "promising-light",
   "metadata": {},
   "outputs": [
    {
     "data": {
      "text/plain": [
       "GradientBoostingClassifier(max_depth=10, n_estimators=150, random_state=10)"
      ]
     },
     "execution_count": 128,
     "metadata": {},
     "output_type": "execute_result"
    }
   ],
   "source": [
    "gboost_model = GradientBoostingClassifier(n_estimators = 150, max_depth = 10, random_state = 10)\n",
    "gboost_model.fit(x_train, y_train)"
   ]
  },
  {
   "cell_type": "code",
   "execution_count": 129,
   "id": "dedicated-yugoslavia",
   "metadata": {},
   "outputs": [
    {
     "name": "stdout",
     "output_type": "stream",
     "text": [
      "              precision    recall  f1-score   support\n",
      "\n",
      "           0       0.91      0.96      0.94       186\n",
      "           1       0.96      0.91      0.94       196\n",
      "\n",
      "    accuracy                           0.94       382\n",
      "   macro avg       0.94      0.94      0.94       382\n",
      "weighted avg       0.94      0.94      0.94       382\n",
      "\n"
     ]
    }
   ],
   "source": [
    "print(get_test_report(gboost_model, x_test, y_test))"
   ]
  },
  {
   "cell_type": "code",
   "execution_count": 130,
   "id": "transparent-administration",
   "metadata": {},
   "outputs": [
    {
     "data": {
      "image/png": "[encoded data removed]",
      "text/plain": [
       "<Figure size 504x504 with 1 Axes>"
      ]
     },
     "metadata": {
      "needs_background": "light"
     },
     "output_type": "display_data"
    }
   ],
   "source": [
    "plot_confusion_matrix(gboost_model, x_test, y_test)"
   ]
  },
  {
   "cell_type": "code",
   "execution_count": 131,
   "id": "constant-breakdown",
   "metadata": {},
   "outputs": [
    {
     "data": {
      "image/png": "[encoded data removed]",
      "text/plain": [
       "<Figure size 504x504 with 1 Axes>"
      ]
     },
     "metadata": {
      "needs_background": "light"
     },
     "output_type": "display_data"
    }
   ],
   "source": [
    "plot_roc(gboost_model, x_test, y_test)"
   ]
  },
  {
   "cell_type": "code",
   "execution_count": 132,
   "id": "mature-restaurant",
   "metadata": {},
   "outputs": [],
   "source": [
    "models_summary = update_model_summary(gboost_model, x_test, y_test, \"Gradient Boost Model\")"
   ]
  },
  {
   "cell_type": "code",
   "execution_count": 133,
   "id": "logical-cross",
   "metadata": {},
   "outputs": [
    {
     "data": {
      "text/html": [
       "<div>\n",
       "<style scoped>\n",
       "    .dataframe tbody tr th:only-of-type {\n",
       "        vertical-align: middle;\n",
       "    }\n",
       "\n",
       "    .dataframe tbody tr th {\n",
       "        vertical-align: top;\n",
       "    }\n",
       "\n",
       "    .dataframe thead th {\n",
       "        text-align: right;\n",
       "    }\n",
       "</style>\n",
       "<table border=\"1\" class=\"dataframe\">\n",
       "  <thead>\n",
       "    <tr style=\"text-align: right;\">\n",
       "      <th></th>\n",
       "      <th>Model_name</th>\n",
       "      <th>AUC_score</th>\n",
       "      <th>Accuracy</th>\n",
       "      <th>Precision</th>\n",
       "      <th>Recall</th>\n",
       "      <th>F1_score</th>\n",
       "    </tr>\n",
       "  </thead>\n",
       "  <tbody>\n",
       "    <tr>\n",
       "      <th>0</th>\n",
       "      <td>Logistic model</td>\n",
       "      <td>0.973300</td>\n",
       "      <td>0.921466</td>\n",
       "      <td>0.956044</td>\n",
       "      <td>0.887755</td>\n",
       "      <td>0.920635</td>\n",
       "    </tr>\n",
       "    <tr>\n",
       "      <th>1</th>\n",
       "      <td>MultinomialNB model</td>\n",
       "      <td>0.944300</td>\n",
       "      <td>0.895288</td>\n",
       "      <td>0.890000</td>\n",
       "      <td>0.908163</td>\n",
       "      <td>0.898990</td>\n",
       "    </tr>\n",
       "    <tr>\n",
       "      <th>2</th>\n",
       "      <td>KNN model</td>\n",
       "      <td>0.899700</td>\n",
       "      <td>0.845550</td>\n",
       "      <td>0.972414</td>\n",
       "      <td>0.719388</td>\n",
       "      <td>0.826979</td>\n",
       "    </tr>\n",
       "    <tr>\n",
       "      <th>3</th>\n",
       "      <td>KNN best model(manhattan - 1)</td>\n",
       "      <td>0.864200</td>\n",
       "      <td>0.861257</td>\n",
       "      <td>0.973510</td>\n",
       "      <td>0.750000</td>\n",
       "      <td>0.847262</td>\n",
       "    </tr>\n",
       "    <tr>\n",
       "      <th>4</th>\n",
       "      <td>Decission Tree - Entropy</td>\n",
       "      <td>0.785400</td>\n",
       "      <td>0.780105</td>\n",
       "      <td>0.982759</td>\n",
       "      <td>0.581633</td>\n",
       "      <td>0.730769</td>\n",
       "    </tr>\n",
       "    <tr>\n",
       "      <th>5</th>\n",
       "      <td>Decission Tree - Gini</td>\n",
       "      <td>0.775300</td>\n",
       "      <td>0.769634</td>\n",
       "      <td>0.973684</td>\n",
       "      <td>0.566327</td>\n",
       "      <td>0.716129</td>\n",
       "    </tr>\n",
       "    <tr>\n",
       "      <th>6</th>\n",
       "      <td>Random Forest</td>\n",
       "      <td>0.974500</td>\n",
       "      <td>0.926702</td>\n",
       "      <td>0.961538</td>\n",
       "      <td>0.892857</td>\n",
       "      <td>0.925926</td>\n",
       "    </tr>\n",
       "    <tr>\n",
       "      <th>7</th>\n",
       "      <td>Random Forest - Tuned Hyperparameter</td>\n",
       "      <td>0.961200</td>\n",
       "      <td>0.876963</td>\n",
       "      <td>0.974522</td>\n",
       "      <td>0.780612</td>\n",
       "      <td>0.866856</td>\n",
       "    </tr>\n",
       "    <tr>\n",
       "      <th>8</th>\n",
       "      <td>Ada Boost Model</td>\n",
       "      <td>0.964500</td>\n",
       "      <td>0.921466</td>\n",
       "      <td>0.941489</td>\n",
       "      <td>0.903061</td>\n",
       "      <td>0.921875</td>\n",
       "    </tr>\n",
       "    <tr>\n",
       "      <th>9</th>\n",
       "      <td>Gradient Boost Model</td>\n",
       "      <td>0.982400</td>\n",
       "      <td>0.937173</td>\n",
       "      <td>0.962366</td>\n",
       "      <td>0.913265</td>\n",
       "      <td>0.937173</td>\n",
       "    </tr>\n",
       "  </tbody>\n",
       "</table>\n",
       "</div>"
      ],
      "text/plain": [
       "                             Model_name  AUC_score  Accuracy  Precision  \\\n",
       "0                        Logistic model   0.973300  0.921466   0.956044   \n",
       "1                   MultinomialNB model   0.944300  0.895288   0.890000   \n",
       "2                             KNN model   0.899700  0.845550   0.972414   \n",
       "3         KNN best model(manhattan - 1)   0.864200  0.861257   0.973510   \n",
       "4              Decission Tree - Entropy   0.785400  0.780105   0.982759   \n",
       "5                 Decission Tree - Gini   0.775300  0.769634   0.973684   \n",
       "6                         Random Forest   0.974500  0.926702   0.961538   \n",
       "7  Random Forest - Tuned Hyperparameter   0.961200  0.876963   0.974522   \n",
       "8                       Ada Boost Model   0.964500  0.921466   0.941489   \n",
       "9                  Gradient Boost Model   0.982400  0.937173   0.962366   \n",
       "\n",
       "    Recall  F1_score  \n",
       "0 0.887755  0.920635  \n",
       "1 0.908163  0.898990  \n",
       "2 0.719388  0.826979  \n",
       "3 0.750000  0.847262  \n",
       "4 0.581633  0.730769  \n",
       "5 0.566327  0.716129  \n",
       "6 0.892857  0.925926  \n",
       "7 0.780612  0.866856  \n",
       "8 0.903061  0.921875  \n",
       "9 0.913265  0.937173  "
      ]
     },
     "execution_count": 133,
     "metadata": {},
     "output_type": "execute_result"
    }
   ],
   "source": [
    "models_summary"
   ]
  },
  {
   "cell_type": "markdown",
   "id": "narrow-injury",
   "metadata": {},
   "source": [
    "# XGBoost"
   ]
  },
  {
   "cell_type": "code",
   "execution_count": 134,
   "id": "horizontal-leave",
   "metadata": {},
   "outputs": [
    {
     "name": "stdout",
     "output_type": "stream",
     "text": [
      "[03:03:19] WARNING: C:/Users/Administrator/workspace/xgboost-win64_release_1.3.0/src/learner.cc:1061: Starting in XGBoost 1.3.0, the default evaluation metric used with the objective 'binary:logistic' was changed from 'error' to 'logloss'. Explicitly set eval_metric if you'd like to restore the old behavior.\n"
     ]
    },
    {
     "data": {
      "text/plain": [
       "XGBClassifier(base_score=0.5, booster='gbtree', colsample_bylevel=1,\n",
       "              colsample_bynode=1, colsample_bytree=1, gamma=1, gpu_id=-1,\n",
       "              importance_type='gain', interaction_constraints='',\n",
       "              learning_rate=0.300000012, max_delta_step=0, max_depth=10,\n",
       "              min_child_weight=1, missing=nan, monotone_constraints='()',\n",
       "              n_estimators=100, n_jobs=4, num_parallel_tree=1, random_state=0,\n",
       "              reg_alpha=0, reg_lambda=1, scale_pos_weight=1, subsample=1,\n",
       "              tree_method='exact', validate_parameters=1, verbosity=None)"
      ]
     },
     "execution_count": 134,
     "metadata": {},
     "output_type": "execute_result"
    }
   ],
   "source": [
    "xgb_model = XGBClassifier(max_depth = 10, gamma = 1)\n",
    "xgb_model.fit(x_train, y_train)"
   ]
  },
  {
   "cell_type": "code",
   "execution_count": 135,
   "id": "fitting-republican",
   "metadata": {},
   "outputs": [
    {
     "name": "stdout",
     "output_type": "stream",
     "text": [
      "              precision    recall  f1-score   support\n",
      "\n",
      "           0       0.91      0.95      0.93       186\n",
      "           1       0.95      0.91      0.93       196\n",
      "\n",
      "    accuracy                           0.93       382\n",
      "   macro avg       0.93      0.93      0.93       382\n",
      "weighted avg       0.93      0.93      0.93       382\n",
      "\n"
     ]
    }
   ],
   "source": [
    "print(get_test_report(xgb_model, x_test, y_test))"
   ]
  },
  {
   "cell_type": "code",
   "execution_count": 136,
   "id": "artistic-daughter",
   "metadata": {},
   "outputs": [
    {
     "data": {
      "image/png": "[encoded data removed]",
      "text/plain": [
       "<Figure size 504x504 with 1 Axes>"
      ]
     },
     "metadata": {
      "needs_background": "light"
     },
     "output_type": "display_data"
    }
   ],
   "source": [
    "plot_confusion_matrix(xgb_model, x_test, y_test)"
   ]
  },
  {
   "cell_type": "code",
   "execution_count": 137,
   "id": "appreciated-england",
   "metadata": {},
   "outputs": [
    {
     "data": {
      "image/png": "[encoded data removed]",
      "text/plain": [
       "<Figure size 504x504 with 1 Axes>"
      ]
     },
     "metadata": {
      "needs_background": "light"
     },
     "output_type": "display_data"
    }
   ],
   "source": [
    "plot_roc(xgb_model, x_test, y_test)"
   ]
  },
  {
   "cell_type": "code",
   "execution_count": 138,
   "id": "documentary-simon",
   "metadata": {},
   "outputs": [],
   "source": [
    "models_summary = update_model_summary(xgb_model, x_test, y_test, \"Extreme Gradient Boost Model\")"
   ]
  },
  {
   "cell_type": "code",
   "execution_count": 139,
   "id": "civil-forestry",
   "metadata": {},
   "outputs": [
    {
     "data": {
      "text/html": [
       "<div>\n",
       "<style scoped>\n",
       "    .dataframe tbody tr th:only-of-type {\n",
       "        vertical-align: middle;\n",
       "    }\n",
       "\n",
       "    .dataframe tbody tr th {\n",
       "        vertical-align: top;\n",
       "    }\n",
       "\n",
       "    .dataframe thead th {\n",
       "        text-align: right;\n",
       "    }\n",
       "</style>\n",
       "<table border=\"1\" class=\"dataframe\">\n",
       "  <thead>\n",
       "    <tr style=\"text-align: right;\">\n",
       "      <th></th>\n",
       "      <th>Model_name</th>\n",
       "      <th>AUC_score</th>\n",
       "      <th>Accuracy</th>\n",
       "      <th>Precision</th>\n",
       "      <th>Recall</th>\n",
       "      <th>F1_score</th>\n",
       "    </tr>\n",
       "  </thead>\n",
       "  <tbody>\n",
       "    <tr>\n",
       "      <th>0</th>\n",
       "      <td>Logistic model</td>\n",
       "      <td>0.973300</td>\n",
       "      <td>0.921466</td>\n",
       "      <td>0.956044</td>\n",
       "      <td>0.887755</td>\n",
       "      <td>0.920635</td>\n",
       "    </tr>\n",
       "    <tr>\n",
       "      <th>1</th>\n",
       "      <td>MultinomialNB model</td>\n",
       "      <td>0.944300</td>\n",
       "      <td>0.895288</td>\n",
       "      <td>0.890000</td>\n",
       "      <td>0.908163</td>\n",
       "      <td>0.898990</td>\n",
       "    </tr>\n",
       "    <tr>\n",
       "      <th>2</th>\n",
       "      <td>KNN model</td>\n",
       "      <td>0.899700</td>\n",
       "      <td>0.845550</td>\n",
       "      <td>0.972414</td>\n",
       "      <td>0.719388</td>\n",
       "      <td>0.826979</td>\n",
       "    </tr>\n",
       "    <tr>\n",
       "      <th>3</th>\n",
       "      <td>KNN best model(manhattan - 1)</td>\n",
       "      <td>0.864200</td>\n",
       "      <td>0.861257</td>\n",
       "      <td>0.973510</td>\n",
       "      <td>0.750000</td>\n",
       "      <td>0.847262</td>\n",
       "    </tr>\n",
       "    <tr>\n",
       "      <th>4</th>\n",
       "      <td>Decission Tree - Entropy</td>\n",
       "      <td>0.785400</td>\n",
       "      <td>0.780105</td>\n",
       "      <td>0.982759</td>\n",
       "      <td>0.581633</td>\n",
       "      <td>0.730769</td>\n",
       "    </tr>\n",
       "    <tr>\n",
       "      <th>5</th>\n",
       "      <td>Decission Tree - Gini</td>\n",
       "      <td>0.775300</td>\n",
       "      <td>0.769634</td>\n",
       "      <td>0.973684</td>\n",
       "      <td>0.566327</td>\n",
       "      <td>0.716129</td>\n",
       "    </tr>\n",
       "    <tr>\n",
       "      <th>6</th>\n",
       "      <td>Random Forest</td>\n",
       "      <td>0.974500</td>\n",
       "      <td>0.926702</td>\n",
       "      <td>0.961538</td>\n",
       "      <td>0.892857</td>\n",
       "      <td>0.925926</td>\n",
       "    </tr>\n",
       "    <tr>\n",
       "      <th>7</th>\n",
       "      <td>Random Forest - Tuned Hyperparameter</td>\n",
       "      <td>0.961200</td>\n",
       "      <td>0.876963</td>\n",
       "      <td>0.974522</td>\n",
       "      <td>0.780612</td>\n",
       "      <td>0.866856</td>\n",
       "    </tr>\n",
       "    <tr>\n",
       "      <th>8</th>\n",
       "      <td>Ada Boost Model</td>\n",
       "      <td>0.964500</td>\n",
       "      <td>0.921466</td>\n",
       "      <td>0.941489</td>\n",
       "      <td>0.903061</td>\n",
       "      <td>0.921875</td>\n",
       "    </tr>\n",
       "    <tr>\n",
       "      <th>9</th>\n",
       "      <td>Gradient Boost Model</td>\n",
       "      <td>0.982400</td>\n",
       "      <td>0.937173</td>\n",
       "      <td>0.962366</td>\n",
       "      <td>0.913265</td>\n",
       "      <td>0.937173</td>\n",
       "    </tr>\n",
       "    <tr>\n",
       "      <th>10</th>\n",
       "      <td>Extreme Gradient Boost Model</td>\n",
       "      <td>0.974800</td>\n",
       "      <td>0.929319</td>\n",
       "      <td>0.951872</td>\n",
       "      <td>0.908163</td>\n",
       "      <td>0.929504</td>\n",
       "    </tr>\n",
       "  </tbody>\n",
       "</table>\n",
       "</div>"
      ],
      "text/plain": [
       "                              Model_name  AUC_score  Accuracy  Precision  \\\n",
       "0                         Logistic model   0.973300  0.921466   0.956044   \n",
       "1                    MultinomialNB model   0.944300  0.895288   0.890000   \n",
       "2                              KNN model   0.899700  0.845550   0.972414   \n",
       "3          KNN best model(manhattan - 1)   0.864200  0.861257   0.973510   \n",
       "4               Decission Tree - Entropy   0.785400  0.780105   0.982759   \n",
       "5                  Decission Tree - Gini   0.775300  0.769634   0.973684   \n",
       "6                          Random Forest   0.974500  0.926702   0.961538   \n",
       "7   Random Forest - Tuned Hyperparameter   0.961200  0.876963   0.974522   \n",
       "8                        Ada Boost Model   0.964500  0.921466   0.941489   \n",
       "9                   Gradient Boost Model   0.982400  0.937173   0.962366   \n",
       "10          Extreme Gradient Boost Model   0.974800  0.929319   0.951872   \n",
       "\n",
       "     Recall  F1_score  \n",
       "0  0.887755  0.920635  \n",
       "1  0.908163  0.898990  \n",
       "2  0.719388  0.826979  \n",
       "3  0.750000  0.847262  \n",
       "4  0.581633  0.730769  \n",
       "5  0.566327  0.716129  \n",
       "6  0.892857  0.925926  \n",
       "7  0.780612  0.866856  \n",
       "8  0.903061  0.921875  \n",
       "9  0.913265  0.937173  \n",
       "10 0.908163  0.929504  "
      ]
     },
     "execution_count": 139,
     "metadata": {},
     "output_type": "execute_result"
    }
   ],
   "source": [
    "models_summary"
   ]
  },
  {
   "cell_type": "code",
   "execution_count": 141,
   "id": "greatest-pastor",
   "metadata": {},
   "outputs": [
    {
     "data": {
      "text/html": [
       "<div>\n",
       "<style scoped>\n",
       "    .dataframe tbody tr th:only-of-type {\n",
       "        vertical-align: middle;\n",
       "    }\n",
       "\n",
       "    .dataframe tbody tr th {\n",
       "        vertical-align: top;\n",
       "    }\n",
       "\n",
       "    .dataframe thead th {\n",
       "        text-align: right;\n",
       "    }\n",
       "</style>\n",
       "<table border=\"1\" class=\"dataframe\">\n",
       "  <thead>\n",
       "    <tr style=\"text-align: right;\">\n",
       "      <th></th>\n",
       "      <th>Model_name</th>\n",
       "      <th>AUC_score</th>\n",
       "      <th>Accuracy</th>\n",
       "      <th>Precision</th>\n",
       "      <th>Recall</th>\n",
       "      <th>F1_score</th>\n",
       "    </tr>\n",
       "  </thead>\n",
       "  <tbody>\n",
       "    <tr>\n",
       "      <th>9</th>\n",
       "      <td>Gradient Boost Model</td>\n",
       "      <td>0.982400</td>\n",
       "      <td>0.937173</td>\n",
       "      <td>0.962366</td>\n",
       "      <td>0.913265</td>\n",
       "      <td>0.937173</td>\n",
       "    </tr>\n",
       "    <tr>\n",
       "      <th>10</th>\n",
       "      <td>Extreme Gradient Boost Model</td>\n",
       "      <td>0.974800</td>\n",
       "      <td>0.929319</td>\n",
       "      <td>0.951872</td>\n",
       "      <td>0.908163</td>\n",
       "      <td>0.929504</td>\n",
       "    </tr>\n",
       "    <tr>\n",
       "      <th>6</th>\n",
       "      <td>Random Forest</td>\n",
       "      <td>0.974500</td>\n",
       "      <td>0.926702</td>\n",
       "      <td>0.961538</td>\n",
       "      <td>0.892857</td>\n",
       "      <td>0.925926</td>\n",
       "    </tr>\n",
       "    <tr>\n",
       "      <th>0</th>\n",
       "      <td>Logistic model</td>\n",
       "      <td>0.973300</td>\n",
       "      <td>0.921466</td>\n",
       "      <td>0.956044</td>\n",
       "      <td>0.887755</td>\n",
       "      <td>0.920635</td>\n",
       "    </tr>\n",
       "    <tr>\n",
       "      <th>8</th>\n",
       "      <td>Ada Boost Model</td>\n",
       "      <td>0.964500</td>\n",
       "      <td>0.921466</td>\n",
       "      <td>0.941489</td>\n",
       "      <td>0.903061</td>\n",
       "      <td>0.921875</td>\n",
       "    </tr>\n",
       "    <tr>\n",
       "      <th>7</th>\n",
       "      <td>Random Forest - Tuned Hyperparameter</td>\n",
       "      <td>0.961200</td>\n",
       "      <td>0.876963</td>\n",
       "      <td>0.974522</td>\n",
       "      <td>0.780612</td>\n",
       "      <td>0.866856</td>\n",
       "    </tr>\n",
       "    <tr>\n",
       "      <th>1</th>\n",
       "      <td>MultinomialNB model</td>\n",
       "      <td>0.944300</td>\n",
       "      <td>0.895288</td>\n",
       "      <td>0.890000</td>\n",
       "      <td>0.908163</td>\n",
       "      <td>0.898990</td>\n",
       "    </tr>\n",
       "    <tr>\n",
       "      <th>2</th>\n",
       "      <td>KNN model</td>\n",
       "      <td>0.899700</td>\n",
       "      <td>0.845550</td>\n",
       "      <td>0.972414</td>\n",
       "      <td>0.719388</td>\n",
       "      <td>0.826979</td>\n",
       "    </tr>\n",
       "    <tr>\n",
       "      <th>3</th>\n",
       "      <td>KNN best model(manhattan - 1)</td>\n",
       "      <td>0.864200</td>\n",
       "      <td>0.861257</td>\n",
       "      <td>0.973510</td>\n",
       "      <td>0.750000</td>\n",
       "      <td>0.847262</td>\n",
       "    </tr>\n",
       "    <tr>\n",
       "      <th>4</th>\n",
       "      <td>Decission Tree - Entropy</td>\n",
       "      <td>0.785400</td>\n",
       "      <td>0.780105</td>\n",
       "      <td>0.982759</td>\n",
       "      <td>0.581633</td>\n",
       "      <td>0.730769</td>\n",
       "    </tr>\n",
       "    <tr>\n",
       "      <th>5</th>\n",
       "      <td>Decission Tree - Gini</td>\n",
       "      <td>0.775300</td>\n",
       "      <td>0.769634</td>\n",
       "      <td>0.973684</td>\n",
       "      <td>0.566327</td>\n",
       "      <td>0.716129</td>\n",
       "    </tr>\n",
       "  </tbody>\n",
       "</table>\n",
       "</div>"
      ],
      "text/plain": [
       "                              Model_name  AUC_score  Accuracy  Precision  \\\n",
       "9                   Gradient Boost Model   0.982400  0.937173   0.962366   \n",
       "10          Extreme Gradient Boost Model   0.974800  0.929319   0.951872   \n",
       "6                          Random Forest   0.974500  0.926702   0.961538   \n",
       "0                         Logistic model   0.973300  0.921466   0.956044   \n",
       "8                        Ada Boost Model   0.964500  0.921466   0.941489   \n",
       "7   Random Forest - Tuned Hyperparameter   0.961200  0.876963   0.974522   \n",
       "1                    MultinomialNB model   0.944300  0.895288   0.890000   \n",
       "2                              KNN model   0.899700  0.845550   0.972414   \n",
       "3          KNN best model(manhattan - 1)   0.864200  0.861257   0.973510   \n",
       "4               Decission Tree - Entropy   0.785400  0.780105   0.982759   \n",
       "5                  Decission Tree - Gini   0.775300  0.769634   0.973684   \n",
       "\n",
       "     Recall  F1_score  \n",
       "9  0.913265  0.937173  \n",
       "10 0.908163  0.929504  \n",
       "6  0.892857  0.925926  \n",
       "0  0.887755  0.920635  \n",
       "8  0.903061  0.921875  \n",
       "7  0.780612  0.866856  \n",
       "1  0.908163  0.898990  \n",
       "2  0.719388  0.826979  \n",
       "3  0.750000  0.847262  \n",
       "4  0.581633  0.730769  \n",
       "5  0.566327  0.716129  "
      ]
     },
     "execution_count": 141,
     "metadata": {},
     "output_type": "execute_result"
    }
   ],
   "source": [
    "models_summary.sort_values(\"AUC_score\", ascending=False)"
   ]
  },
  {
   "cell_type": "markdown",
   "id": "bronze-updating",
   "metadata": {},
   "source": [
    "# So the best model that we are acheving is the Gradient Boost Model with auc score =0.9824 followed by Extreme Gradient Boost Model with auc score=0.9748"
   ]
  },
  {
   "cell_type": "markdown",
   "id": "floppy-daily",
   "metadata": {},
   "source": [
    "# so we use Gradient Boost Model for any further analysis and prediction"
   ]
  },
  {
   "cell_type": "code",
   "execution_count": 142,
   "id": "registered-yahoo",
   "metadata": {},
   "outputs": [],
   "source": [
    "# Sample Prediciton\n",
    "comment = [\"Check this out\"]\n",
    "vect = cv.transform(comment).toarray()"
   ]
  },
  {
   "cell_type": "code",
   "execution_count": 143,
   "id": "changing-health",
   "metadata": {},
   "outputs": [
    {
     "data": {
      "text/plain": [
       "array([1], dtype=int64)"
      ]
     },
     "execution_count": 143,
     "metadata": {},
     "output_type": "execute_result"
    }
   ],
   "source": [
    "gboost_model.predict(vect)"
   ]
  },
  {
   "cell_type": "code",
   "execution_count": 144,
   "id": "million-fraud",
   "metadata": {},
   "outputs": [
    {
     "name": "stdout",
     "output_type": "stream",
     "text": [
      "Comment is an Advertisment \n"
     ]
    }
   ],
   "source": [
    "if gboost_model.predict(vect) == 1:\n",
    "    print(\"Comment is an Advertisment \")\n",
    "else:\n",
    "    print(\"Comment is not an Advertisment\")"
   ]
  },
  {
   "cell_type": "code",
   "execution_count": 161,
   "id": "underlying-congress",
   "metadata": {},
   "outputs": [
    {
     "data": {
      "text/html": [
       "<div>\n",
       "<style scoped>\n",
       "    .dataframe tbody tr th:only-of-type {\n",
       "        vertical-align: middle;\n",
       "    }\n",
       "\n",
       "    .dataframe tbody tr th {\n",
       "        vertical-align: top;\n",
       "    }\n",
       "\n",
       "    .dataframe thead th {\n",
       "        text-align: right;\n",
       "    }\n",
       "</style>\n",
       "<table border=\"1\" class=\"dataframe\">\n",
       "  <thead>\n",
       "    <tr style=\"text-align: right;\">\n",
       "      <th></th>\n",
       "      <th>ID</th>\n",
       "      <th>COMMENT_ID</th>\n",
       "      <th>AUTHOR</th>\n",
       "      <th>DATE</th>\n",
       "      <th>CONTENT</th>\n",
       "    </tr>\n",
       "  </thead>\n",
       "  <tbody>\n",
       "    <tr>\n",
       "      <th>0</th>\n",
       "      <td>0</td>\n",
       "      <td>LZQPQhLyRh_C2cTtd9MvFRJedxydaVW-2sNg5Diuo4A</td>\n",
       "      <td>adam riyati</td>\n",
       "      <td>2013-11-07T12:37:15</td>\n",
       "      <td>Hey guys check out my new channel and our firs...</td>\n",
       "    </tr>\n",
       "    <tr>\n",
       "      <th>1</th>\n",
       "      <td>1</td>\n",
       "      <td>LZQPQhLyRh9MSZYnf8djyk0gEF9BHDPYrrK-qCczIY8</td>\n",
       "      <td>Evgeny Murashkin</td>\n",
       "      <td>2013-11-08T17:34:21</td>\n",
       "      <td>just for test I have to say murdev.com</td>\n",
       "    </tr>\n",
       "    <tr>\n",
       "      <th>2</th>\n",
       "      <td>2</td>\n",
       "      <td>LZQPQhLyRh9-wNRtlZDM90f1k0BrdVdJyN_YsaSwfxc</td>\n",
       "      <td>Jason Haddad</td>\n",
       "      <td>2013-11-26T02:55:11</td>\n",
       "      <td>Hey, check out my new website!! This site is a...</td>\n",
       "    </tr>\n",
       "    <tr>\n",
       "      <th>3</th>\n",
       "      <td>3</td>\n",
       "      <td>z122wfnzgt30fhubn04cdn3xfx2mxzngsl40k</td>\n",
       "      <td>Bob Kanowski</td>\n",
       "      <td>2013-11-28T12:33:27</td>\n",
       "      <td>i turned it on mute as soon is i came on i jus...</td>\n",
       "    </tr>\n",
       "    <tr>\n",
       "      <th>4</th>\n",
       "      <td>4</td>\n",
       "      <td>z13ttt1jcraqexk2o234ghbgzxymz1zzi04</td>\n",
       "      <td>Cony</td>\n",
       "      <td>2013-11-28T16:01:47</td>\n",
       "      <td>You should check my channel for Funny VIDEOS!!﻿</td>\n",
       "    </tr>\n",
       "  </tbody>\n",
       "</table>\n",
       "</div>"
      ],
      "text/plain": [
       "   ID                                   COMMENT_ID            AUTHOR  \\\n",
       "0   0  LZQPQhLyRh_C2cTtd9MvFRJedxydaVW-2sNg5Diuo4A       adam riyati   \n",
       "1   1  LZQPQhLyRh9MSZYnf8djyk0gEF9BHDPYrrK-qCczIY8  Evgeny Murashkin   \n",
       "2   2  LZQPQhLyRh9-wNRtlZDM90f1k0BrdVdJyN_YsaSwfxc      Jason Haddad   \n",
       "3   3        z122wfnzgt30fhubn04cdn3xfx2mxzngsl40k      Bob Kanowski   \n",
       "4   4          z13ttt1jcraqexk2o234ghbgzxymz1zzi04              Cony   \n",
       "\n",
       "                  DATE                                            CONTENT  \n",
       "0  2013-11-07T12:37:15  Hey guys check out my new channel and our firs...  \n",
       "1  2013-11-08T17:34:21             just for test I have to say murdev.com  \n",
       "2  2013-11-26T02:55:11  Hey, check out my new website!! This site is a...  \n",
       "3  2013-11-28T12:33:27  i turned it on mute as soon is i came on i jus...  \n",
       "4  2013-11-28T16:01:47    You should check my channel for Funny VIDEOS!!﻿  "
      ]
     },
     "execution_count": 161,
     "metadata": {},
     "output_type": "execute_result"
    }
   ],
   "source": [
    "train=pd.read_csv('train.csv')\n",
    "train.head()"
   ]
  },
  {
   "cell_type": "code",
   "execution_count": 162,
   "id": "ready-doubt",
   "metadata": {},
   "outputs": [
    {
     "data": {
      "text/plain": [
       "(799, 5)"
      ]
     },
     "execution_count": 162,
     "metadata": {},
     "output_type": "execute_result"
    }
   ],
   "source": [
    "train.shape"
   ]
  },
  {
   "cell_type": "code",
   "execution_count": 146,
   "id": "floppy-roller",
   "metadata": {},
   "outputs": [
    {
     "data": {
      "text/plain": [
       "0    Hey guys check out my new channel and our firs...\n",
       "1               just for test I have to say murdev.com\n",
       "2    Hey, check out my new website!! This site is a...\n",
       "3    i turned it on mute as soon is i came on i jus...\n",
       "4      You should check my channel for Funny VIDEOS!!﻿\n",
       "Name: CONTENT, dtype: object"
      ]
     },
     "execution_count": 146,
     "metadata": {},
     "output_type": "execute_result"
    }
   ],
   "source": [
    "final_train=train['CONTENT']\n",
    "final_train.head()"
   ]
  },
  {
   "cell_type": "code",
   "execution_count": 154,
   "id": "executive-dictionary",
   "metadata": {},
   "outputs": [
    {
     "data": {
      "text/plain": [
       "(799,)"
      ]
     },
     "execution_count": 154,
     "metadata": {},
     "output_type": "execute_result"
    }
   ],
   "source": [
    "final_train.shape"
   ]
  },
  {
   "cell_type": "code",
   "execution_count": null,
   "id": "black-bowling",
   "metadata": {},
   "outputs": [],
   "source": [
    "submission=pd.DataFrame()\n",
    "submission['ID']=train['ID']\n",
    "submission['CLASS']=test_pred\n",
    "submission.head()"
   ]
  },
  {
   "cell_type": "code",
   "execution_count": null,
   "id": "automated-gazette",
   "metadata": {},
   "outputs": [],
   "source": []
  },
  {
   "cell_type": "code",
   "execution_count": null,
   "id": "complimentary-lightning",
   "metadata": {},
   "outputs": [],
   "source": [
    "# prediction on all the test data"
   ]
  },
  {
   "cell_type": "code",
   "execution_count": null,
   "id": "effective-algorithm",
   "metadata": {},
   "outputs": [],
   "source": [
    "vect = cv.transform(final_train).toarray()"
   ]
  },
  {
   "cell_type": "code",
   "execution_count": 152,
   "id": "curious-completion",
   "metadata": {},
   "outputs": [],
   "source": [
    "test_pred=gboost_model.predict(vect)"
   ]
  },
  {
   "cell_type": "code",
   "execution_count": 153,
   "id": "under-rating",
   "metadata": {},
   "outputs": [
    {
     "data": {
      "text/plain": [
       "(799,)"
      ]
     },
     "execution_count": 153,
     "metadata": {},
     "output_type": "execute_result"
    }
   ],
   "source": [
    "test_pred.shape"
   ]
  },
  {
   "cell_type": "code",
   "execution_count": 160,
   "id": "editorial-austin",
   "metadata": {},
   "outputs": [
    {
     "data": {
      "text/plain": [
       "array([1, 1, 1, 0, 1], dtype=int64)"
      ]
     },
     "execution_count": 160,
     "metadata": {},
     "output_type": "execute_result"
    }
   ],
   "source": [
    "test_pred[:5]"
   ]
  },
  {
   "cell_type": "code",
   "execution_count": null,
   "id": "sealed-frost",
   "metadata": {},
   "outputs": [],
   "source": [
    "submission=pd.DataFrame()\n",
    "submission['ID']=train['ID']\n",
    "submission['CLASS']=test_pred\n",
    "submission.head()"
   ]
  },
  {
   "cell_type": "code",
   "execution_count": null,
   "id": "lovely-zoning",
   "metadata": {},
   "outputs": [],
   "source": []
  },
  {
   "cell_type": "code",
   "execution_count": null,
   "id": "satisfied-sending",
   "metadata": {},
   "outputs": [],
   "source": []
  },
  {
   "cell_type": "code",
   "execution_count": null,
   "id": "rental-darkness",
   "metadata": {},
   "outputs": [],
   "source": []
  },
  {
   "cell_type": "code",
   "execution_count": null,
   "id": "virgin-ranch",
   "metadata": {},
   "outputs": [],
   "source": []
  },
  {
   "cell_type": "code",
   "execution_count": 156,
   "id": "urban-interval",
   "metadata": {},
   "outputs": [
    {
     "name": "stdout",
     "output_type": "stream",
     "text": [
      "Comment is not an Advertisment\n"
     ]
    }
   ],
   "source": [
    "# Sample Prediciton 2\n",
    "comment2 = [\"Hey Music Fans I really appreciate all of you,but see this song too\"]\n",
    "vect = cv.transform(comment2).toarray()\n",
    "gboost_model.predict(vect)\n",
    "if gboost_model.predict(vect) == 1:\n",
    "    print(\"Comment is an Advertisment \")\n",
    "else:\n",
    "    print(\"Comment is not an Advertisment\")"
   ]
  },
  {
   "cell_type": "code",
   "execution_count": 158,
   "id": "decreased-balance",
   "metadata": {},
   "outputs": [
    {
     "name": "stdout",
     "output_type": "stream",
     "text": [
      "Comment is an Advertisment \n"
     ]
    }
   ],
   "source": [
    "# Sample Prediciton 3\n",
    "comment2 = [\"Hey guys check out my new channel and our firs...\"]\n",
    "vect = cv.transform(comment2).toarray()\n",
    "gboost_model.predict(vect)\n",
    "if gboost_model.predict(vect) == 1:\n",
    "    print(\"Comment is an Advertisment \")\n",
    "else:\n",
    "    print(\"Comment is not an Advertisment\")"
   ]
  },
  {
   "cell_type": "code",
   "execution_count": null,
   "id": "extended-rental",
   "metadata": {},
   "outputs": [],
   "source": []
  },
  {
   "cell_type": "code",
   "execution_count": null,
   "id": "hazardous-friendship",
   "metadata": {},
   "outputs": [],
   "source": []
  },
  {
   "cell_type": "code",
   "execution_count": null,
   "id": "emotional-notebook",
   "metadata": {},
   "outputs": [],
   "source": []
  },
  {
   "cell_type": "code",
   "execution_count": null,
   "id": "unexpected-austin",
   "metadata": {},
   "outputs": [],
   "source": []
  },
  {
   "cell_type": "code",
   "execution_count": null,
   "id": "functioning-shape",
   "metadata": {},
   "outputs": [],
   "source": []
  },
  {
   "cell_type": "code",
   "execution_count": null,
   "id": "homeless-florence",
   "metadata": {},
   "outputs": [],
   "source": []
  },
  {
   "cell_type": "code",
   "execution_count": null,
   "id": "changing-march",
   "metadata": {},
   "outputs": [],
   "source": []
  }
 ],
 "metadata": {
  "kernelspec": {
   "display_name": "Python 3 (ipykernel)",
   "language": "python",
   "name": "python3"
  },
  "language_info": {
   "codemirror_mode": {
    "name": "ipython",
    "version": 3
   },
   "file_extension": ".py",
   "mimetype": "text/x-python",
   "name": "python",
   "nbconvert_exporter": "python",
   "pygments_lexer": "ipython3",
   "version": "3.9.7"
  }
 },
 "nbformat": 4,
 "nbformat_minor": 5
}
